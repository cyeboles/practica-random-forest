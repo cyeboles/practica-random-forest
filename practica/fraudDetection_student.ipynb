{
 "cells": [
  {
   "cell_type": "markdown",
   "metadata": {
    "nbgrader": {
     "grade": false,
     "locked": false,
     "solution": false
    }
   },
   "source": [
    "# Lab assignment: fraud detection through ensemble methods"
   ]
  },
  {
   "cell_type": "markdown",
   "metadata": {
    "nbgrader": {
     "grade": false,
     "locked": false,
     "solution": false
    }
   },
   "source": [
    "<img src=\"img/fraud.jpg\" style=\"width:600px;\">"
   ]
  },
  {
   "cell_type": "markdown",
   "metadata": {
    "nbgrader": {
     "grade": false,
     "locked": false,
     "solution": false
    }
   },
   "source": [
    "In this assignment we will use all the skills in ensemble learning we acquired from previous exercises to build a an automated fraud detection system."
   ]
  },
  {
   "cell_type": "markdown",
   "metadata": {
    "nbgrader": {
     "grade": false,
     "locked": false,
     "solution": false
    }
   },
   "source": [
    "## Guidelines"
   ]
  },
  {
   "cell_type": "markdown",
   "metadata": {
    "nbgrader": {
     "grade": false,
     "locked": false,
     "solution": false
    }
   },
   "source": [
    "Throughout this notebook you will find empty cells that you will need to fill with your own code. Follow the instructions in the notebook and pay special attention to the following symbols.\n",
    "\n",
    "<table>\n",
    " <tr><td width=\"80\"><img src=\"img/question.png\" style=\"width:auto;height:auto\"></td><td style=\"text-align:left\">You will need to solve a question by writing your own code or answer in the cell immediately below, or in a different file as instructed. Both correctness of the solution and code quality will be taken into account for marking.</td></tr>\n",
    " <tr><td width=\"80\"><img src=\"img/exclamation.png\" style=\"width:auto;height:auto\"></td><td style=\"text-align:left\">This is a hint or useful observation that can help you solve this assignment. You are not expected to write any solution, but you should pay attention to them to understand the assignment.</td></tr>\n",
    " <tr><td width=\"80\"><img src=\"img/pro.png\" style=\"width:auto;height:auto\"></td><td style=\"text-align:left\">This is an advanced and voluntary excercise that can help you gain a deeper knowledge into the topic. This exercise won't be taken into account towards marking, but you are encouraged to undertake it. Good luck!</td></tr>\n",
    "</table>\n",
    "\n",
    "To avoid missing packages and compatibility issues you should run this notebook under one of the [recommended Ensembles environment files](https://github.com/albarji/teaching-environments-ensembles)."
   ]
  },
  {
   "cell_type": "markdown",
   "metadata": {},
   "source": [
    "The following code will embed any plots into the notebook instead of generating a new window:"
   ]
  },
  {
   "cell_type": "code",
   "execution_count": 2,
   "metadata": {},
   "outputs": [],
   "source": [
    "import matplotlib.pyplot as plt\n",
    "import seaborn as sns\n",
    "%matplotlib inline"
   ]
  },
  {
   "cell_type": "markdown",
   "metadata": {},
   "source": [
    "Lastly, if you need any help on the usage of a Python function you can place the writing cursor over its name and press Shift+Tab to produce a pop-out with related documentation. This will only work inside code cells. \n",
    "\n",
    "Let's go!"
   ]
  },
  {
   "cell_type": "markdown",
   "metadata": {},
   "source": [
    "## Data loading"
   ]
  },
  {
   "cell_type": "markdown",
   "metadata": {},
   "source": [
    "The data for this problem is included in the *data* folder, with separate files for training and test data. Each file includes several unidentified explanatory features, together with an \"Amount\" feature and the target \"Class\". Fraudulent operations are marked as Class == 1."
   ]
  },
  {
   "cell_type": "markdown",
   "metadata": {},
   "source": [
    "<table>\n",
    " <tr><td width=\"80\"><img src=\"img/question.png\" style=\"width:auto;height:auto\"></td><td style=\"text-align:left\">\n",
    "     Load the training and test data into Pandas DataFrames with names <b>train</b> and <b>test</b>, respectively.\n",
    " </td></tr>\n",
    "</table>"
   ]
  },
  {
   "cell_type": "code",
   "execution_count": 3,
   "metadata": {},
   "outputs": [],
   "source": [
    "import pandas as pd\n",
    "import numpy as np"
   ]
  },
  {
   "cell_type": "code",
   "execution_count": 4,
   "metadata": {},
   "outputs": [
    {
     "data": {
      "text/html": [
       "<div>\n",
       "<style scoped>\n",
       "    .dataframe tbody tr th:only-of-type {\n",
       "        vertical-align: middle;\n",
       "    }\n",
       "\n",
       "    .dataframe tbody tr th {\n",
       "        vertical-align: top;\n",
       "    }\n",
       "\n",
       "    .dataframe thead th {\n",
       "        text-align: right;\n",
       "    }\n",
       "</style>\n",
       "<table border=\"1\" class=\"dataframe\">\n",
       "  <thead>\n",
       "    <tr style=\"text-align: right;\">\n",
       "      <th></th>\n",
       "      <th>V1</th>\n",
       "      <th>V2</th>\n",
       "      <th>V3</th>\n",
       "      <th>V4</th>\n",
       "      <th>V5</th>\n",
       "      <th>V6</th>\n",
       "      <th>V7</th>\n",
       "      <th>V8</th>\n",
       "      <th>V9</th>\n",
       "      <th>V10</th>\n",
       "      <th>...</th>\n",
       "      <th>V21</th>\n",
       "      <th>V22</th>\n",
       "      <th>V23</th>\n",
       "      <th>V24</th>\n",
       "      <th>V25</th>\n",
       "      <th>V26</th>\n",
       "      <th>V27</th>\n",
       "      <th>V28</th>\n",
       "      <th>Amount</th>\n",
       "      <th>Class</th>\n",
       "    </tr>\n",
       "  </thead>\n",
       "  <tbody>\n",
       "    <tr>\n",
       "      <th>0</th>\n",
       "      <td>-2.312227</td>\n",
       "      <td>1.951992</td>\n",
       "      <td>-1.609851</td>\n",
       "      <td>3.997906</td>\n",
       "      <td>-0.522188</td>\n",
       "      <td>-1.426545</td>\n",
       "      <td>-2.537387</td>\n",
       "      <td>1.391657</td>\n",
       "      <td>-2.770089</td>\n",
       "      <td>-2.772272</td>\n",
       "      <td>...</td>\n",
       "      <td>0.517232</td>\n",
       "      <td>-0.035049</td>\n",
       "      <td>-0.465211</td>\n",
       "      <td>0.320198</td>\n",
       "      <td>0.044519</td>\n",
       "      <td>0.177840</td>\n",
       "      <td>0.261145</td>\n",
       "      <td>-0.143276</td>\n",
       "      <td>0.00</td>\n",
       "      <td>1</td>\n",
       "    </tr>\n",
       "    <tr>\n",
       "      <th>1</th>\n",
       "      <td>-3.043541</td>\n",
       "      <td>-3.157307</td>\n",
       "      <td>1.088463</td>\n",
       "      <td>2.288644</td>\n",
       "      <td>1.359805</td>\n",
       "      <td>-1.064823</td>\n",
       "      <td>0.325574</td>\n",
       "      <td>-0.067794</td>\n",
       "      <td>-0.270953</td>\n",
       "      <td>-0.838587</td>\n",
       "      <td>...</td>\n",
       "      <td>0.661696</td>\n",
       "      <td>0.435477</td>\n",
       "      <td>1.375966</td>\n",
       "      <td>-0.293803</td>\n",
       "      <td>0.279798</td>\n",
       "      <td>-0.145362</td>\n",
       "      <td>-0.252773</td>\n",
       "      <td>0.035764</td>\n",
       "      <td>529.00</td>\n",
       "      <td>1</td>\n",
       "    </tr>\n",
       "    <tr>\n",
       "      <th>2</th>\n",
       "      <td>-2.303350</td>\n",
       "      <td>1.759247</td>\n",
       "      <td>-0.359745</td>\n",
       "      <td>2.330243</td>\n",
       "      <td>-0.821628</td>\n",
       "      <td>-0.075788</td>\n",
       "      <td>0.562320</td>\n",
       "      <td>-0.399147</td>\n",
       "      <td>-0.238253</td>\n",
       "      <td>-1.525412</td>\n",
       "      <td>...</td>\n",
       "      <td>-0.294166</td>\n",
       "      <td>-0.932391</td>\n",
       "      <td>0.172726</td>\n",
       "      <td>-0.087330</td>\n",
       "      <td>-0.156114</td>\n",
       "      <td>-0.542628</td>\n",
       "      <td>0.039566</td>\n",
       "      <td>-0.153029</td>\n",
       "      <td>239.93</td>\n",
       "      <td>1</td>\n",
       "    </tr>\n",
       "    <tr>\n",
       "      <th>3</th>\n",
       "      <td>-4.397974</td>\n",
       "      <td>1.358367</td>\n",
       "      <td>-2.592844</td>\n",
       "      <td>2.679787</td>\n",
       "      <td>-1.128131</td>\n",
       "      <td>-1.706536</td>\n",
       "      <td>-3.496197</td>\n",
       "      <td>-0.248778</td>\n",
       "      <td>-0.247768</td>\n",
       "      <td>-4.801637</td>\n",
       "      <td>...</td>\n",
       "      <td>0.573574</td>\n",
       "      <td>0.176968</td>\n",
       "      <td>-0.436207</td>\n",
       "      <td>-0.053502</td>\n",
       "      <td>0.252405</td>\n",
       "      <td>-0.657488</td>\n",
       "      <td>-0.827136</td>\n",
       "      <td>0.849573</td>\n",
       "      <td>59.00</td>\n",
       "      <td>1</td>\n",
       "    </tr>\n",
       "    <tr>\n",
       "      <th>4</th>\n",
       "      <td>1.234235</td>\n",
       "      <td>3.019740</td>\n",
       "      <td>-4.304597</td>\n",
       "      <td>4.732795</td>\n",
       "      <td>3.624201</td>\n",
       "      <td>-1.357746</td>\n",
       "      <td>1.713445</td>\n",
       "      <td>-0.496358</td>\n",
       "      <td>-1.282858</td>\n",
       "      <td>-2.447469</td>\n",
       "      <td>...</td>\n",
       "      <td>-0.379068</td>\n",
       "      <td>-0.704181</td>\n",
       "      <td>-0.656805</td>\n",
       "      <td>-1.632653</td>\n",
       "      <td>1.488901</td>\n",
       "      <td>0.566797</td>\n",
       "      <td>-0.010016</td>\n",
       "      <td>0.146793</td>\n",
       "      <td>1.00</td>\n",
       "      <td>1</td>\n",
       "    </tr>\n",
       "  </tbody>\n",
       "</table>\n",
       "<p>5 rows × 30 columns</p>\n",
       "</div>"
      ],
      "text/plain": [
       "         V1        V2        V3        V4        V5        V6        V7  \\\n",
       "0 -2.312227  1.951992 -1.609851  3.997906 -0.522188 -1.426545 -2.537387   \n",
       "1 -3.043541 -3.157307  1.088463  2.288644  1.359805 -1.064823  0.325574   \n",
       "2 -2.303350  1.759247 -0.359745  2.330243 -0.821628 -0.075788  0.562320   \n",
       "3 -4.397974  1.358367 -2.592844  2.679787 -1.128131 -1.706536 -3.496197   \n",
       "4  1.234235  3.019740 -4.304597  4.732795  3.624201 -1.357746  1.713445   \n",
       "\n",
       "         V8        V9       V10  ...       V21       V22       V23       V24  \\\n",
       "0  1.391657 -2.770089 -2.772272  ...  0.517232 -0.035049 -0.465211  0.320198   \n",
       "1 -0.067794 -0.270953 -0.838587  ...  0.661696  0.435477  1.375966 -0.293803   \n",
       "2 -0.399147 -0.238253 -1.525412  ... -0.294166 -0.932391  0.172726 -0.087330   \n",
       "3 -0.248778 -0.247768 -4.801637  ...  0.573574  0.176968 -0.436207 -0.053502   \n",
       "4 -0.496358 -1.282858 -2.447469  ... -0.379068 -0.704181 -0.656805 -1.632653   \n",
       "\n",
       "        V25       V26       V27       V28  Amount  Class  \n",
       "0  0.044519  0.177840  0.261145 -0.143276    0.00      1  \n",
       "1  0.279798 -0.145362 -0.252773  0.035764  529.00      1  \n",
       "2 -0.156114 -0.542628  0.039566 -0.153029  239.93      1  \n",
       "3  0.252405 -0.657488 -0.827136  0.849573   59.00      1  \n",
       "4  1.488901  0.566797 -0.010016  0.146793    1.00      1  \n",
       "\n",
       "[5 rows x 30 columns]"
      ]
     },
     "execution_count": 4,
     "metadata": {},
     "output_type": "execute_result"
    }
   ],
   "source": [
    "Fraud_train = pd.read_csv('data/fraud_train.csv', sep = \",\", encoding= 'utf-8')\n",
    "Fraud_train.head()"
   ]
  },
  {
   "cell_type": "code",
   "execution_count": 5,
   "metadata": {},
   "outputs": [
    {
     "data": {
      "text/html": [
       "<div>\n",
       "<style scoped>\n",
       "    .dataframe tbody tr th:only-of-type {\n",
       "        vertical-align: middle;\n",
       "    }\n",
       "\n",
       "    .dataframe tbody tr th {\n",
       "        vertical-align: top;\n",
       "    }\n",
       "\n",
       "    .dataframe thead th {\n",
       "        text-align: right;\n",
       "    }\n",
       "</style>\n",
       "<table border=\"1\" class=\"dataframe\">\n",
       "  <thead>\n",
       "    <tr style=\"text-align: right;\">\n",
       "      <th></th>\n",
       "      <th>V1</th>\n",
       "      <th>V2</th>\n",
       "      <th>V3</th>\n",
       "      <th>V4</th>\n",
       "      <th>V5</th>\n",
       "      <th>V6</th>\n",
       "      <th>V7</th>\n",
       "      <th>V8</th>\n",
       "      <th>V9</th>\n",
       "      <th>V10</th>\n",
       "      <th>...</th>\n",
       "      <th>V21</th>\n",
       "      <th>V22</th>\n",
       "      <th>V23</th>\n",
       "      <th>V24</th>\n",
       "      <th>V25</th>\n",
       "      <th>V26</th>\n",
       "      <th>V27</th>\n",
       "      <th>V28</th>\n",
       "      <th>Amount</th>\n",
       "      <th>Class</th>\n",
       "    </tr>\n",
       "  </thead>\n",
       "  <tbody>\n",
       "    <tr>\n",
       "      <th>0</th>\n",
       "      <td>-2.866364</td>\n",
       "      <td>2.346949</td>\n",
       "      <td>-4.053307</td>\n",
       "      <td>3.983359</td>\n",
       "      <td>-3.463186</td>\n",
       "      <td>-1.280953</td>\n",
       "      <td>-4.474764</td>\n",
       "      <td>1.216655</td>\n",
       "      <td>-2.309829</td>\n",
       "      <td>-5.515507</td>\n",
       "      <td>...</td>\n",
       "      <td>1.049732</td>\n",
       "      <td>0.475840</td>\n",
       "      <td>0.404480</td>\n",
       "      <td>0.282030</td>\n",
       "      <td>-0.506901</td>\n",
       "      <td>-0.371741</td>\n",
       "      <td>0.615257</td>\n",
       "      <td>0.803163</td>\n",
       "      <td>124.53</td>\n",
       "      <td>1</td>\n",
       "    </tr>\n",
       "    <tr>\n",
       "      <th>1</th>\n",
       "      <td>-4.793667</td>\n",
       "      <td>3.418911</td>\n",
       "      <td>-5.074445</td>\n",
       "      <td>4.035987</td>\n",
       "      <td>-3.527875</td>\n",
       "      <td>-1.923242</td>\n",
       "      <td>-5.065981</td>\n",
       "      <td>1.996885</td>\n",
       "      <td>-3.097379</td>\n",
       "      <td>-6.447202</td>\n",
       "      <td>...</td>\n",
       "      <td>1.168618</td>\n",
       "      <td>0.289531</td>\n",
       "      <td>-0.371888</td>\n",
       "      <td>0.144761</td>\n",
       "      <td>0.084735</td>\n",
       "      <td>-0.197431</td>\n",
       "      <td>0.328672</td>\n",
       "      <td>0.835395</td>\n",
       "      <td>99.85</td>\n",
       "      <td>1</td>\n",
       "    </tr>\n",
       "    <tr>\n",
       "      <th>2</th>\n",
       "      <td>-5.140723</td>\n",
       "      <td>3.568751</td>\n",
       "      <td>-5.896245</td>\n",
       "      <td>4.164720</td>\n",
       "      <td>-4.091193</td>\n",
       "      <td>-1.989960</td>\n",
       "      <td>-5.472436</td>\n",
       "      <td>2.422821</td>\n",
       "      <td>-2.909735</td>\n",
       "      <td>-6.287803</td>\n",
       "      <td>...</td>\n",
       "      <td>1.131130</td>\n",
       "      <td>0.118022</td>\n",
       "      <td>-0.332704</td>\n",
       "      <td>0.139941</td>\n",
       "      <td>0.324758</td>\n",
       "      <td>-0.180769</td>\n",
       "      <td>0.177810</td>\n",
       "      <td>0.661555</td>\n",
       "      <td>99.90</td>\n",
       "      <td>1</td>\n",
       "    </tr>\n",
       "    <tr>\n",
       "      <th>3</th>\n",
       "      <td>-5.622469</td>\n",
       "      <td>3.480623</td>\n",
       "      <td>-6.200677</td>\n",
       "      <td>4.311234</td>\n",
       "      <td>-5.226286</td>\n",
       "      <td>-1.341764</td>\n",
       "      <td>-5.220941</td>\n",
       "      <td>2.682844</td>\n",
       "      <td>-2.921484</td>\n",
       "      <td>-6.561257</td>\n",
       "      <td>...</td>\n",
       "      <td>0.949569</td>\n",
       "      <td>-0.428986</td>\n",
       "      <td>-0.350676</td>\n",
       "      <td>0.197550</td>\n",
       "      <td>0.159234</td>\n",
       "      <td>-0.377791</td>\n",
       "      <td>-0.213562</td>\n",
       "      <td>0.459529</td>\n",
       "      <td>219.80</td>\n",
       "      <td>1</td>\n",
       "    </tr>\n",
       "    <tr>\n",
       "      <th>4</th>\n",
       "      <td>-6.616293</td>\n",
       "      <td>3.563428</td>\n",
       "      <td>-7.058901</td>\n",
       "      <td>4.284346</td>\n",
       "      <td>-5.096299</td>\n",
       "      <td>-1.768618</td>\n",
       "      <td>-4.937554</td>\n",
       "      <td>2.748460</td>\n",
       "      <td>-3.796760</td>\n",
       "      <td>-6.825490</td>\n",
       "      <td>...</td>\n",
       "      <td>1.215976</td>\n",
       "      <td>0.041178</td>\n",
       "      <td>-1.059098</td>\n",
       "      <td>0.275662</td>\n",
       "      <td>0.057425</td>\n",
       "      <td>-0.265838</td>\n",
       "      <td>-0.514637</td>\n",
       "      <td>0.388590</td>\n",
       "      <td>254.76</td>\n",
       "      <td>1</td>\n",
       "    </tr>\n",
       "  </tbody>\n",
       "</table>\n",
       "<p>5 rows × 30 columns</p>\n",
       "</div>"
      ],
      "text/plain": [
       "         V1        V2        V3        V4        V5        V6        V7  \\\n",
       "0 -2.866364  2.346949 -4.053307  3.983359 -3.463186 -1.280953 -4.474764   \n",
       "1 -4.793667  3.418911 -5.074445  4.035987 -3.527875 -1.923242 -5.065981   \n",
       "2 -5.140723  3.568751 -5.896245  4.164720 -4.091193 -1.989960 -5.472436   \n",
       "3 -5.622469  3.480623 -6.200677  4.311234 -5.226286 -1.341764 -5.220941   \n",
       "4 -6.616293  3.563428 -7.058901  4.284346 -5.096299 -1.768618 -4.937554   \n",
       "\n",
       "         V8        V9       V10  ...       V21       V22       V23       V24  \\\n",
       "0  1.216655 -2.309829 -5.515507  ...  1.049732  0.475840  0.404480  0.282030   \n",
       "1  1.996885 -3.097379 -6.447202  ...  1.168618  0.289531 -0.371888  0.144761   \n",
       "2  2.422821 -2.909735 -6.287803  ...  1.131130  0.118022 -0.332704  0.139941   \n",
       "3  2.682844 -2.921484 -6.561257  ...  0.949569 -0.428986 -0.350676  0.197550   \n",
       "4  2.748460 -3.796760 -6.825490  ...  1.215976  0.041178 -1.059098  0.275662   \n",
       "\n",
       "        V25       V26       V27       V28  Amount  Class  \n",
       "0 -0.506901 -0.371741  0.615257  0.803163  124.53      1  \n",
       "1  0.084735 -0.197431  0.328672  0.835395   99.85      1  \n",
       "2  0.324758 -0.180769  0.177810  0.661555   99.90      1  \n",
       "3  0.159234 -0.377791 -0.213562  0.459529  219.80      1  \n",
       "4  0.057425 -0.265838 -0.514637  0.388590  254.76      1  \n",
       "\n",
       "[5 rows x 30 columns]"
      ]
     },
     "execution_count": 5,
     "metadata": {},
     "output_type": "execute_result"
    }
   ],
   "source": [
    "Fraud_test = pd.read_csv('data/fraud_test.csv', sep = \",\", encoding= 'utf-8')\n",
    "Fraud_test.head()"
   ]
  },
  {
   "cell_type": "markdown",
   "metadata": {},
   "source": [
    "<table>\n",
    " <tr><td width=\"80\"><img src=\"img/question.png\" style=\"width:auto;height:auto\"></td><td style=\"text-align:left\">\n",
    "Perform a brief analysis of the training data to answer the following questions: how many explanatory variables do you have? What is the distribution of classes?\n",
    " </td></tr>\n",
    "</table>"
   ]
  },
  {
   "cell_type": "markdown",
   "metadata": {},
   "source": [
    "Empezamos simple completo:"
   ]
  },
  {
   "cell_type": "code",
   "execution_count": 91,
   "metadata": {},
   "outputs": [
    {
     "data": {
      "text/html": [
       "<div>\n",
       "<style scoped>\n",
       "    .dataframe tbody tr th:only-of-type {\n",
       "        vertical-align: middle;\n",
       "    }\n",
       "\n",
       "    .dataframe tbody tr th {\n",
       "        vertical-align: top;\n",
       "    }\n",
       "\n",
       "    .dataframe thead th {\n",
       "        text-align: right;\n",
       "    }\n",
       "</style>\n",
       "<table border=\"1\" class=\"dataframe\">\n",
       "  <thead>\n",
       "    <tr style=\"text-align: right;\">\n",
       "      <th></th>\n",
       "      <th>count</th>\n",
       "      <th>mean</th>\n",
       "      <th>std</th>\n",
       "      <th>min</th>\n",
       "      <th>25%</th>\n",
       "      <th>50%</th>\n",
       "      <th>75%</th>\n",
       "      <th>max</th>\n",
       "    </tr>\n",
       "  </thead>\n",
       "  <tbody>\n",
       "    <tr>\n",
       "      <th>V1</th>\n",
       "      <td>5246.0</td>\n",
       "      <td>-0.539993</td>\n",
       "      <td>2.700370</td>\n",
       "      <td>-34.591213</td>\n",
       "      <td>-1.160978</td>\n",
       "      <td>-0.341215</td>\n",
       "      <td>1.157161</td>\n",
       "      <td>1.618082</td>\n",
       "    </tr>\n",
       "    <tr>\n",
       "      <th>V2</th>\n",
       "      <td>5246.0</td>\n",
       "      <td>0.182329</td>\n",
       "      <td>2.111652</td>\n",
       "      <td>-44.639245</td>\n",
       "      <td>-0.556885</td>\n",
       "      <td>0.142323</td>\n",
       "      <td>0.867764</td>\n",
       "      <td>16.713389</td>\n",
       "    </tr>\n",
       "    <tr>\n",
       "      <th>V3</th>\n",
       "      <td>5246.0</td>\n",
       "      <td>0.302563</td>\n",
       "      <td>2.698561</td>\n",
       "      <td>-31.103685</td>\n",
       "      <td>0.070103</td>\n",
       "      <td>0.692239</td>\n",
       "      <td>1.357493</td>\n",
       "      <td>3.971381</td>\n",
       "    </tr>\n",
       "    <tr>\n",
       "      <th>V4</th>\n",
       "      <td>5246.0</td>\n",
       "      <td>0.308565</td>\n",
       "      <td>1.715353</td>\n",
       "      <td>-5.519697</td>\n",
       "      <td>-0.719923</td>\n",
       "      <td>0.214909</td>\n",
       "      <td>1.089141</td>\n",
       "      <td>11.927512</td>\n",
       "    </tr>\n",
       "    <tr>\n",
       "      <th>V5</th>\n",
       "      <td>5246.0</td>\n",
       "      <td>-0.470484</td>\n",
       "      <td>2.036673</td>\n",
       "      <td>-32.092129</td>\n",
       "      <td>-0.999000</td>\n",
       "      <td>-0.360585</td>\n",
       "      <td>0.211143</td>\n",
       "      <td>31.457046</td>\n",
       "    </tr>\n",
       "    <tr>\n",
       "      <th>V6</th>\n",
       "      <td>5246.0</td>\n",
       "      <td>-0.037538</td>\n",
       "      <td>1.411958</td>\n",
       "      <td>-21.248752</td>\n",
       "      <td>-0.734639</td>\n",
       "      <td>-0.226545</td>\n",
       "      <td>0.400486</td>\n",
       "      <td>21.393069</td>\n",
       "    </tr>\n",
       "    <tr>\n",
       "      <th>V7</th>\n",
       "      <td>5246.0</td>\n",
       "      <td>-0.397722</td>\n",
       "      <td>2.273415</td>\n",
       "      <td>-21.922811</td>\n",
       "      <td>-0.673759</td>\n",
       "      <td>-0.100690</td>\n",
       "      <td>0.395594</td>\n",
       "      <td>34.303177</td>\n",
       "    </tr>\n",
       "    <tr>\n",
       "      <th>V8</th>\n",
       "      <td>5246.0</td>\n",
       "      <td>0.131348</td>\n",
       "      <td>2.027100</td>\n",
       "      <td>-37.353443</td>\n",
       "      <td>-0.137595</td>\n",
       "      <td>0.079762</td>\n",
       "      <td>0.401846</td>\n",
       "      <td>20.007208</td>\n",
       "    </tr>\n",
       "    <tr>\n",
       "      <th>V9</th>\n",
       "      <td>5246.0</td>\n",
       "      <td>-0.212005</td>\n",
       "      <td>1.322918</td>\n",
       "      <td>-9.283925</td>\n",
       "      <td>-0.803361</td>\n",
       "      <td>-0.173325</td>\n",
       "      <td>0.454970</td>\n",
       "      <td>7.938980</td>\n",
       "    </tr>\n",
       "    <tr>\n",
       "      <th>V10</th>\n",
       "      <td>5246.0</td>\n",
       "      <td>-0.269800</td>\n",
       "      <td>1.863553</td>\n",
       "      <td>-18.271168</td>\n",
       "      <td>-0.566849</td>\n",
       "      <td>-0.116838</td>\n",
       "      <td>0.422938</td>\n",
       "      <td>11.519106</td>\n",
       "    </tr>\n",
       "    <tr>\n",
       "      <th>V11</th>\n",
       "      <td>5246.0</td>\n",
       "      <td>0.382506</td>\n",
       "      <td>1.451640</td>\n",
       "      <td>-3.105965</td>\n",
       "      <td>-0.516554</td>\n",
       "      <td>0.174525</td>\n",
       "      <td>1.098321</td>\n",
       "      <td>12.018913</td>\n",
       "    </tr>\n",
       "    <tr>\n",
       "      <th>V12</th>\n",
       "      <td>5246.0</td>\n",
       "      <td>-0.278504</td>\n",
       "      <td>1.961484</td>\n",
       "      <td>-17.769143</td>\n",
       "      <td>-0.493480</td>\n",
       "      <td>0.108530</td>\n",
       "      <td>0.616860</td>\n",
       "      <td>4.197071</td>\n",
       "    </tr>\n",
       "    <tr>\n",
       "      <th>V13</th>\n",
       "      <td>5246.0</td>\n",
       "      <td>-0.023124</td>\n",
       "      <td>0.998689</td>\n",
       "      <td>-4.008640</td>\n",
       "      <td>-0.693497</td>\n",
       "      <td>-0.035346</td>\n",
       "      <td>0.663843</td>\n",
       "      <td>3.601670</td>\n",
       "    </tr>\n",
       "    <tr>\n",
       "      <th>V14</th>\n",
       "      <td>5246.0</td>\n",
       "      <td>-0.316888</td>\n",
       "      <td>1.994539</td>\n",
       "      <td>-19.214325</td>\n",
       "      <td>-0.410207</td>\n",
       "      <td>0.012875</td>\n",
       "      <td>0.411847</td>\n",
       "      <td>7.187926</td>\n",
       "    </tr>\n",
       "    <tr>\n",
       "      <th>V15</th>\n",
       "      <td>5246.0</td>\n",
       "      <td>0.226081</td>\n",
       "      <td>0.926475</td>\n",
       "      <td>-3.573749</td>\n",
       "      <td>-0.305332</td>\n",
       "      <td>0.329266</td>\n",
       "      <td>0.893828</td>\n",
       "      <td>4.803689</td>\n",
       "    </tr>\n",
       "    <tr>\n",
       "      <th>V16</th>\n",
       "      <td>5246.0</td>\n",
       "      <td>-0.239723</td>\n",
       "      <td>1.529881</td>\n",
       "      <td>-13.563273</td>\n",
       "      <td>-0.597658</td>\n",
       "      <td>0.020949</td>\n",
       "      <td>0.502715</td>\n",
       "      <td>4.087802</td>\n",
       "    </tr>\n",
       "    <tr>\n",
       "      <th>V17</th>\n",
       "      <td>5246.0</td>\n",
       "      <td>-0.288279</td>\n",
       "      <td>2.388610</td>\n",
       "      <td>-25.162799</td>\n",
       "      <td>-0.442638</td>\n",
       "      <td>-0.025765</td>\n",
       "      <td>0.426714</td>\n",
       "      <td>6.739384</td>\n",
       "    </tr>\n",
       "    <tr>\n",
       "      <th>V18</th>\n",
       "      <td>5246.0</td>\n",
       "      <td>-0.199761</td>\n",
       "      <td>1.174877</td>\n",
       "      <td>-9.498746</td>\n",
       "      <td>-0.615199</td>\n",
       "      <td>-0.112646</td>\n",
       "      <td>0.390955</td>\n",
       "      <td>3.042493</td>\n",
       "    </tr>\n",
       "    <tr>\n",
       "      <th>V19</th>\n",
       "      <td>5246.0</td>\n",
       "      <td>0.021410</td>\n",
       "      <td>0.876647</td>\n",
       "      <td>-3.602657</td>\n",
       "      <td>-0.493306</td>\n",
       "      <td>0.005828</td>\n",
       "      <td>0.505054</td>\n",
       "      <td>5.228342</td>\n",
       "    </tr>\n",
       "    <tr>\n",
       "      <th>V20</th>\n",
       "      <td>5246.0</td>\n",
       "      <td>0.054128</td>\n",
       "      <td>0.712131</td>\n",
       "      <td>-11.748689</td>\n",
       "      <td>-0.167872</td>\n",
       "      <td>-0.023263</td>\n",
       "      <td>0.179043</td>\n",
       "      <td>6.993759</td>\n",
       "    </tr>\n",
       "    <tr>\n",
       "      <th>V21</th>\n",
       "      <td>5246.0</td>\n",
       "      <td>0.010017</td>\n",
       "      <td>1.154418</td>\n",
       "      <td>-12.815353</td>\n",
       "      <td>-0.227437</td>\n",
       "      <td>-0.053649</td>\n",
       "      <td>0.126478</td>\n",
       "      <td>27.202839</td>\n",
       "    </tr>\n",
       "    <tr>\n",
       "      <th>V22</th>\n",
       "      <td>5246.0</td>\n",
       "      <td>-0.132105</td>\n",
       "      <td>0.696071</td>\n",
       "      <td>-8.887017</td>\n",
       "      <td>-0.549349</td>\n",
       "      <td>-0.103794</td>\n",
       "      <td>0.299756</td>\n",
       "      <td>4.534454</td>\n",
       "    </tr>\n",
       "    <tr>\n",
       "      <th>V23</th>\n",
       "      <td>5246.0</td>\n",
       "      <td>-0.051927</td>\n",
       "      <td>0.748970</td>\n",
       "      <td>-26.751119</td>\n",
       "      <td>-0.178857</td>\n",
       "      <td>-0.045147</td>\n",
       "      <td>0.087792</td>\n",
       "      <td>5.303607</td>\n",
       "    </tr>\n",
       "    <tr>\n",
       "      <th>V24</th>\n",
       "      <td>5246.0</td>\n",
       "      <td>0.010908</td>\n",
       "      <td>0.583605</td>\n",
       "      <td>-2.185457</td>\n",
       "      <td>-0.332102</td>\n",
       "      <td>0.068361</td>\n",
       "      <td>0.402059</td>\n",
       "      <td>3.979637</td>\n",
       "    </tr>\n",
       "    <tr>\n",
       "      <th>V25</th>\n",
       "      <td>5246.0</td>\n",
       "      <td>0.133937</td>\n",
       "      <td>0.470548</td>\n",
       "      <td>-7.495741</td>\n",
       "      <td>-0.136150</td>\n",
       "      <td>0.168982</td>\n",
       "      <td>0.434307</td>\n",
       "      <td>2.208209</td>\n",
       "    </tr>\n",
       "    <tr>\n",
       "      <th>V26</th>\n",
       "      <td>5246.0</td>\n",
       "      <td>0.019680</td>\n",
       "      <td>0.491799</td>\n",
       "      <td>-1.345640</td>\n",
       "      <td>-0.328017</td>\n",
       "      <td>-0.080875</td>\n",
       "      <td>0.289032</td>\n",
       "      <td>2.964300</td>\n",
       "    </tr>\n",
       "    <tr>\n",
       "      <th>V27</th>\n",
       "      <td>5246.0</td>\n",
       "      <td>0.023637</td>\n",
       "      <td>0.460188</td>\n",
       "      <td>-7.144717</td>\n",
       "      <td>-0.061094</td>\n",
       "      <td>0.015344</td>\n",
       "      <td>0.102887</td>\n",
       "      <td>4.444505</td>\n",
       "    </tr>\n",
       "    <tr>\n",
       "      <th>V28</th>\n",
       "      <td>5246.0</td>\n",
       "      <td>-0.001524</td>\n",
       "      <td>0.350230</td>\n",
       "      <td>-8.364853</td>\n",
       "      <td>-0.007941</td>\n",
       "      <td>0.023243</td>\n",
       "      <td>0.083911</td>\n",
       "      <td>5.414028</td>\n",
       "    </tr>\n",
       "    <tr>\n",
       "      <th>Amount</th>\n",
       "      <td>5246.0</td>\n",
       "      <td>93.582991</td>\n",
       "      <td>250.696936</td>\n",
       "      <td>0.000000</td>\n",
       "      <td>5.102500</td>\n",
       "      <td>22.190000</td>\n",
       "      <td>81.665000</td>\n",
       "      <td>7712.430000</td>\n",
       "    </tr>\n",
       "    <tr>\n",
       "      <th>Class</th>\n",
       "      <td>5246.0</td>\n",
       "      <td>0.046893</td>\n",
       "      <td>0.211430</td>\n",
       "      <td>0.000000</td>\n",
       "      <td>0.000000</td>\n",
       "      <td>0.000000</td>\n",
       "      <td>0.000000</td>\n",
       "      <td>1.000000</td>\n",
       "    </tr>\n",
       "  </tbody>\n",
       "</table>\n",
       "</div>"
      ],
      "text/plain": [
       "         count       mean         std        min       25%        50%  \\\n",
       "V1      5246.0  -0.539993    2.700370 -34.591213 -1.160978  -0.341215   \n",
       "V2      5246.0   0.182329    2.111652 -44.639245 -0.556885   0.142323   \n",
       "V3      5246.0   0.302563    2.698561 -31.103685  0.070103   0.692239   \n",
       "V4      5246.0   0.308565    1.715353  -5.519697 -0.719923   0.214909   \n",
       "V5      5246.0  -0.470484    2.036673 -32.092129 -0.999000  -0.360585   \n",
       "V6      5246.0  -0.037538    1.411958 -21.248752 -0.734639  -0.226545   \n",
       "V7      5246.0  -0.397722    2.273415 -21.922811 -0.673759  -0.100690   \n",
       "V8      5246.0   0.131348    2.027100 -37.353443 -0.137595   0.079762   \n",
       "V9      5246.0  -0.212005    1.322918  -9.283925 -0.803361  -0.173325   \n",
       "V10     5246.0  -0.269800    1.863553 -18.271168 -0.566849  -0.116838   \n",
       "V11     5246.0   0.382506    1.451640  -3.105965 -0.516554   0.174525   \n",
       "V12     5246.0  -0.278504    1.961484 -17.769143 -0.493480   0.108530   \n",
       "V13     5246.0  -0.023124    0.998689  -4.008640 -0.693497  -0.035346   \n",
       "V14     5246.0  -0.316888    1.994539 -19.214325 -0.410207   0.012875   \n",
       "V15     5246.0   0.226081    0.926475  -3.573749 -0.305332   0.329266   \n",
       "V16     5246.0  -0.239723    1.529881 -13.563273 -0.597658   0.020949   \n",
       "V17     5246.0  -0.288279    2.388610 -25.162799 -0.442638  -0.025765   \n",
       "V18     5246.0  -0.199761    1.174877  -9.498746 -0.615199  -0.112646   \n",
       "V19     5246.0   0.021410    0.876647  -3.602657 -0.493306   0.005828   \n",
       "V20     5246.0   0.054128    0.712131 -11.748689 -0.167872  -0.023263   \n",
       "V21     5246.0   0.010017    1.154418 -12.815353 -0.227437  -0.053649   \n",
       "V22     5246.0  -0.132105    0.696071  -8.887017 -0.549349  -0.103794   \n",
       "V23     5246.0  -0.051927    0.748970 -26.751119 -0.178857  -0.045147   \n",
       "V24     5246.0   0.010908    0.583605  -2.185457 -0.332102   0.068361   \n",
       "V25     5246.0   0.133937    0.470548  -7.495741 -0.136150   0.168982   \n",
       "V26     5246.0   0.019680    0.491799  -1.345640 -0.328017  -0.080875   \n",
       "V27     5246.0   0.023637    0.460188  -7.144717 -0.061094   0.015344   \n",
       "V28     5246.0  -0.001524    0.350230  -8.364853 -0.007941   0.023243   \n",
       "Amount  5246.0  93.582991  250.696936   0.000000  5.102500  22.190000   \n",
       "Class   5246.0   0.046893    0.211430   0.000000  0.000000   0.000000   \n",
       "\n",
       "              75%          max  \n",
       "V1       1.157161     1.618082  \n",
       "V2       0.867764    16.713389  \n",
       "V3       1.357493     3.971381  \n",
       "V4       1.089141    11.927512  \n",
       "V5       0.211143    31.457046  \n",
       "V6       0.400486    21.393069  \n",
       "V7       0.395594    34.303177  \n",
       "V8       0.401846    20.007208  \n",
       "V9       0.454970     7.938980  \n",
       "V10      0.422938    11.519106  \n",
       "V11      1.098321    12.018913  \n",
       "V12      0.616860     4.197071  \n",
       "V13      0.663843     3.601670  \n",
       "V14      0.411847     7.187926  \n",
       "V15      0.893828     4.803689  \n",
       "V16      0.502715     4.087802  \n",
       "V17      0.426714     6.739384  \n",
       "V18      0.390955     3.042493  \n",
       "V19      0.505054     5.228342  \n",
       "V20      0.179043     6.993759  \n",
       "V21      0.126478    27.202839  \n",
       "V22      0.299756     4.534454  \n",
       "V23      0.087792     5.303607  \n",
       "V24      0.402059     3.979637  \n",
       "V25      0.434307     2.208209  \n",
       "V26      0.289032     2.964300  \n",
       "V27      0.102887     4.444505  \n",
       "V28      0.083911     5.414028  \n",
       "Amount  81.665000  7712.430000  \n",
       "Class    0.000000     1.000000  "
      ]
     },
     "execution_count": 91,
     "metadata": {},
     "output_type": "execute_result"
    }
   ],
   "source": [
    "Fraud_train.describe().T"
   ]
  },
  {
   "cell_type": "markdown",
   "metadata": {},
   "source": [
    "Como las únicas columnas un poco más explicatrivas son la cantidad y la variable objetivo, las observamos de cerca:"
   ]
  },
  {
   "cell_type": "code",
   "execution_count": 7,
   "metadata": {},
   "outputs": [
    {
     "data": {
      "text/plain": [
       "array([  0.  , 529.  , 239.93, ...,  39.85, 295.9 ,  31.39])"
      ]
     },
     "execution_count": 7,
     "metadata": {},
     "output_type": "execute_result"
    }
   ],
   "source": [
    "Fraud_train.Amount.unique()"
   ]
  },
  {
   "cell_type": "code",
   "execution_count": 8,
   "metadata": {},
   "outputs": [
    {
     "data": {
      "text/plain": [
       "array([1, 0], dtype=int64)"
      ]
     },
     "execution_count": 8,
     "metadata": {},
     "output_type": "execute_result"
    }
   ],
   "source": [
    "Fraud_train.Class.unique()"
   ]
  },
  {
   "cell_type": "code",
   "execution_count": 9,
   "metadata": {},
   "outputs": [
    {
     "data": {
      "text/plain": [
       "1.00      315\n",
       "1.98       96\n",
       "0.89       86\n",
       "9.99       80\n",
       "15.00      70\n",
       "         ... \n",
       "170.74      1\n",
       "25.77       1\n",
       "69.21       1\n",
       "217.91      1\n",
       "60.50       1\n",
       "Name: Amount, Length: 2648, dtype: int64"
      ]
     },
     "execution_count": 9,
     "metadata": {},
     "output_type": "execute_result"
    }
   ],
   "source": [
    "Fraud_train.Amount.value_counts()"
   ]
  },
  {
   "cell_type": "code",
   "execution_count": 10,
   "metadata": {},
   "outputs": [
    {
     "data": {
      "text/plain": [
       "0    5000\n",
       "1     246\n",
       "Name: Class, dtype: int64"
      ]
     },
     "execution_count": 10,
     "metadata": {},
     "output_type": "execute_result"
    }
   ],
   "source": [
    "Fraud_train.Class.value_counts()"
   ]
  },
  {
   "cell_type": "markdown",
   "metadata": {},
   "source": [
    "Aquí es donde observamos el gran desbalanceo de los datos: solo 246 casos positivos de fraude frente a 5000 negativos."
   ]
  },
  {
   "cell_type": "markdown",
   "metadata": {},
   "source": [
    "Buscamos NAs"
   ]
  },
  {
   "cell_type": "code",
   "execution_count": 11,
   "metadata": {},
   "outputs": [
    {
     "data": {
      "text/plain": [
       "False"
      ]
     },
     "execution_count": 11,
     "metadata": {},
     "output_type": "execute_result"
    }
   ],
   "source": [
    "Fraud_train.isnull().values.any()"
   ]
  },
  {
   "cell_type": "code",
   "execution_count": 12,
   "metadata": {},
   "outputs": [
    {
     "data": {
      "text/plain": [
       "False"
      ]
     },
     "execution_count": 12,
     "metadata": {},
     "output_type": "execute_result"
    }
   ],
   "source": [
    "Fraud_test.isnull().values.any()"
   ]
  },
  {
   "cell_type": "markdown",
   "metadata": {},
   "source": [
    "No hay NAs."
   ]
  },
  {
   "cell_type": "markdown",
   "metadata": {},
   "source": [
    "## Measuring the performance of a fraud detector"
   ]
  },
  {
   "cell_type": "markdown",
   "metadata": {},
   "source": [
    "Fraudulent activities are usually prosecuted, therefore fraudsters need to be creative and come up constantly with new ways of performing fraud. Furthermore, frauds are scarce (fortunately), and so we have few positive class patterns available for training. This means the problem is highly unbalanced, which is a problem for training good models, but is also a problem for the model evaluation. \n",
    "\n",
    "Consider a dumb model that classifies all data as negative (non-fraud). We can simulate the predictions of this model by creating a predictions vector of all zeros:"
   ]
  },
  {
   "cell_type": "code",
   "execution_count": 13,
   "metadata": {},
   "outputs": [],
   "source": [
    "dumbpreds = [0] * len(Fraud_test)"
   ]
  },
  {
   "cell_type": "markdown",
   "metadata": {},
   "source": [
    "Let's measure the accuracy of this model"
   ]
  },
  {
   "cell_type": "code",
   "execution_count": 14,
   "metadata": {},
   "outputs": [
    {
     "data": {
      "text/plain": [
       "0.9531071292413267"
      ]
     },
     "execution_count": 14,
     "metadata": {},
     "output_type": "execute_result"
    }
   ],
   "source": [
    "from sklearn.metrics import accuracy_score\n",
    "\n",
    "accuracy_score(Fraud_test[\"Class\"], dumbpreds)"
   ]
  },
  {
   "cell_type": "markdown",
   "metadata": {},
   "source": [
    "Yo should have obtained a 95% of accuracy, because most of the patterns are indeed negative. But this would be totally useless as a fraud detector! Therefore, we need a better metric.\n",
    "\n",
    "One that works well for heavily unbalanced problems is the [area under the ROC curve](https://en.wikipedia.org/wiki/Receiver_operating_characteristic), or AUC in short. In scikit-learn this metric is readily available, and we can test how this reveals the poor performance of this dumb model"
   ]
  },
  {
   "cell_type": "code",
   "execution_count": 15,
   "metadata": {},
   "outputs": [
    {
     "data": {
      "text/plain": [
       "0.5"
      ]
     },
     "execution_count": 15,
     "metadata": {},
     "output_type": "execute_result"
    }
   ],
   "source": [
    "from sklearn.metrics import roc_auc_score\n",
    "\n",
    "roc_auc_score(Fraud_test[\"Class\"], dumbpreds)"
   ]
  },
  {
   "cell_type": "markdown",
   "metadata": {},
   "source": [
    "An AUC of 50% means the model is no better than a random guess. We should aim to maximize this metric and attain a 100%, meaning all fraudulent patterns obtain higher scores than non-fraud patterns."
   ]
  },
  {
   "cell_type": "markdown",
   "metadata": {},
   "source": [
    "## Unsupervised fraud detector"
   ]
  },
  {
   "cell_type": "markdown",
   "metadata": {},
   "source": [
    "Since we now we have scarce positive data, it might make sense to start building an unsupervised fraud detector."
   ]
  },
  {
   "cell_type": "markdown",
   "metadata": {},
   "source": [
    "<table>\n",
    " <tr><td width=\"80\"><img src=\"img/question.png\" style=\"width:auto;height:auto\"></td><td style=\"text-align:left\">\n",
    "     Using <b>only the training data</b>, create an Isolation Forest model for anomaly detection. You can use the number of positive patterns in the data to adjust the contamination ratio. Then measure the performance of the model on the test set, in terms of AUC score.\n",
    " </td></tr>\n",
    "</table>"
   ]
  },
  {
   "cell_type": "markdown",
   "metadata": {},
   "source": [
    "<table>\n",
    " <tr><td width=\"80\"><img src=\"img/exclamation.png\" style=\"width:auto;height:auto\"></td><td style=\"text-align:left\">\n",
    "     Note the roc_auc_score metric must receive <b>positive class probabilities</b>. It is not possible to obtain these probabilities from an IsolationForest model, but you can make use of its decision_function method to obtain normality scores (average tree depth), which can be negated to obtain positive class scores.\n",
    " </td></tr>\n",
    "</table>"
   ]
  },
  {
   "cell_type": "code",
   "execution_count": 16,
   "metadata": {
    "scrolled": true
   },
   "outputs": [],
   "source": [
    "from sklearn.ensemble import IsolationForest"
   ]
  },
  {
   "cell_type": "code",
   "execution_count": 92,
   "metadata": {},
   "outputs": [
    {
     "data": {
      "text/html": [
       "<div>\n",
       "<style scoped>\n",
       "    .dataframe tbody tr th:only-of-type {\n",
       "        vertical-align: middle;\n",
       "    }\n",
       "\n",
       "    .dataframe tbody tr th {\n",
       "        vertical-align: top;\n",
       "    }\n",
       "\n",
       "    .dataframe thead th {\n",
       "        text-align: right;\n",
       "    }\n",
       "</style>\n",
       "<table border=\"1\" class=\"dataframe\">\n",
       "  <thead>\n",
       "    <tr style=\"text-align: right;\">\n",
       "      <th></th>\n",
       "      <th>0</th>\n",
       "      <th>1</th>\n",
       "      <th>2</th>\n",
       "      <th>3</th>\n",
       "      <th>4</th>\n",
       "    </tr>\n",
       "  </thead>\n",
       "  <tbody>\n",
       "    <tr>\n",
       "      <th>V1</th>\n",
       "      <td>-2.312227</td>\n",
       "      <td>-3.043541</td>\n",
       "      <td>-2.303350</td>\n",
       "      <td>-4.397974</td>\n",
       "      <td>1.234235</td>\n",
       "    </tr>\n",
       "    <tr>\n",
       "      <th>V2</th>\n",
       "      <td>1.951992</td>\n",
       "      <td>-3.157307</td>\n",
       "      <td>1.759247</td>\n",
       "      <td>1.358367</td>\n",
       "      <td>3.019740</td>\n",
       "    </tr>\n",
       "    <tr>\n",
       "      <th>V3</th>\n",
       "      <td>-1.609851</td>\n",
       "      <td>1.088463</td>\n",
       "      <td>-0.359745</td>\n",
       "      <td>-2.592844</td>\n",
       "      <td>-4.304597</td>\n",
       "    </tr>\n",
       "    <tr>\n",
       "      <th>V4</th>\n",
       "      <td>3.997906</td>\n",
       "      <td>2.288644</td>\n",
       "      <td>2.330243</td>\n",
       "      <td>2.679787</td>\n",
       "      <td>4.732795</td>\n",
       "    </tr>\n",
       "    <tr>\n",
       "      <th>V5</th>\n",
       "      <td>-0.522188</td>\n",
       "      <td>1.359805</td>\n",
       "      <td>-0.821628</td>\n",
       "      <td>-1.128131</td>\n",
       "      <td>3.624201</td>\n",
       "    </tr>\n",
       "    <tr>\n",
       "      <th>V6</th>\n",
       "      <td>-1.426545</td>\n",
       "      <td>-1.064823</td>\n",
       "      <td>-0.075788</td>\n",
       "      <td>-1.706536</td>\n",
       "      <td>-1.357746</td>\n",
       "    </tr>\n",
       "    <tr>\n",
       "      <th>V7</th>\n",
       "      <td>-2.537387</td>\n",
       "      <td>0.325574</td>\n",
       "      <td>0.562320</td>\n",
       "      <td>-3.496197</td>\n",
       "      <td>1.713445</td>\n",
       "    </tr>\n",
       "    <tr>\n",
       "      <th>V8</th>\n",
       "      <td>1.391657</td>\n",
       "      <td>-0.067794</td>\n",
       "      <td>-0.399147</td>\n",
       "      <td>-0.248778</td>\n",
       "      <td>-0.496358</td>\n",
       "    </tr>\n",
       "    <tr>\n",
       "      <th>V9</th>\n",
       "      <td>-2.770089</td>\n",
       "      <td>-0.270953</td>\n",
       "      <td>-0.238253</td>\n",
       "      <td>-0.247768</td>\n",
       "      <td>-1.282858</td>\n",
       "    </tr>\n",
       "    <tr>\n",
       "      <th>V10</th>\n",
       "      <td>-2.772272</td>\n",
       "      <td>-0.838587</td>\n",
       "      <td>-1.525412</td>\n",
       "      <td>-4.801637</td>\n",
       "      <td>-2.447469</td>\n",
       "    </tr>\n",
       "    <tr>\n",
       "      <th>V11</th>\n",
       "      <td>3.202033</td>\n",
       "      <td>-0.414575</td>\n",
       "      <td>2.032912</td>\n",
       "      <td>4.895844</td>\n",
       "      <td>2.101344</td>\n",
       "    </tr>\n",
       "    <tr>\n",
       "      <th>V12</th>\n",
       "      <td>-2.899907</td>\n",
       "      <td>-0.503141</td>\n",
       "      <td>-6.560124</td>\n",
       "      <td>-10.912819</td>\n",
       "      <td>-4.609628</td>\n",
       "    </tr>\n",
       "    <tr>\n",
       "      <th>V13</th>\n",
       "      <td>-0.595222</td>\n",
       "      <td>0.676502</td>\n",
       "      <td>0.022937</td>\n",
       "      <td>0.184372</td>\n",
       "      <td>1.464378</td>\n",
       "    </tr>\n",
       "    <tr>\n",
       "      <th>V14</th>\n",
       "      <td>-4.289254</td>\n",
       "      <td>-1.692029</td>\n",
       "      <td>-1.470102</td>\n",
       "      <td>-6.771097</td>\n",
       "      <td>-6.079337</td>\n",
       "    </tr>\n",
       "    <tr>\n",
       "      <th>V15</th>\n",
       "      <td>0.389724</td>\n",
       "      <td>2.000635</td>\n",
       "      <td>-0.698826</td>\n",
       "      <td>-0.007326</td>\n",
       "      <td>-0.339237</td>\n",
       "    </tr>\n",
       "    <tr>\n",
       "      <th>V16</th>\n",
       "      <td>-1.140747</td>\n",
       "      <td>0.666780</td>\n",
       "      <td>-2.282194</td>\n",
       "      <td>-7.358083</td>\n",
       "      <td>2.581851</td>\n",
       "    </tr>\n",
       "    <tr>\n",
       "      <th>V17</th>\n",
       "      <td>-2.830056</td>\n",
       "      <td>0.599717</td>\n",
       "      <td>-4.781831</td>\n",
       "      <td>-12.598419</td>\n",
       "      <td>6.739384</td>\n",
       "    </tr>\n",
       "    <tr>\n",
       "      <th>V18</th>\n",
       "      <td>-0.016822</td>\n",
       "      <td>1.725321</td>\n",
       "      <td>-2.615665</td>\n",
       "      <td>-5.131549</td>\n",
       "      <td>3.042493</td>\n",
       "    </tr>\n",
       "    <tr>\n",
       "      <th>V19</th>\n",
       "      <td>0.416956</td>\n",
       "      <td>0.283345</td>\n",
       "      <td>-1.334441</td>\n",
       "      <td>0.308334</td>\n",
       "      <td>-2.721853</td>\n",
       "    </tr>\n",
       "    <tr>\n",
       "      <th>V20</th>\n",
       "      <td>0.126911</td>\n",
       "      <td>2.102339</td>\n",
       "      <td>-0.430022</td>\n",
       "      <td>-0.171608</td>\n",
       "      <td>0.009061</td>\n",
       "    </tr>\n",
       "    <tr>\n",
       "      <th>V21</th>\n",
       "      <td>0.517232</td>\n",
       "      <td>0.661696</td>\n",
       "      <td>-0.294166</td>\n",
       "      <td>0.573574</td>\n",
       "      <td>-0.379068</td>\n",
       "    </tr>\n",
       "    <tr>\n",
       "      <th>V22</th>\n",
       "      <td>-0.035049</td>\n",
       "      <td>0.435477</td>\n",
       "      <td>-0.932391</td>\n",
       "      <td>0.176968</td>\n",
       "      <td>-0.704181</td>\n",
       "    </tr>\n",
       "    <tr>\n",
       "      <th>V23</th>\n",
       "      <td>-0.465211</td>\n",
       "      <td>1.375966</td>\n",
       "      <td>0.172726</td>\n",
       "      <td>-0.436207</td>\n",
       "      <td>-0.656805</td>\n",
       "    </tr>\n",
       "    <tr>\n",
       "      <th>V24</th>\n",
       "      <td>0.320198</td>\n",
       "      <td>-0.293803</td>\n",
       "      <td>-0.087330</td>\n",
       "      <td>-0.053502</td>\n",
       "      <td>-1.632653</td>\n",
       "    </tr>\n",
       "    <tr>\n",
       "      <th>V25</th>\n",
       "      <td>0.044519</td>\n",
       "      <td>0.279798</td>\n",
       "      <td>-0.156114</td>\n",
       "      <td>0.252405</td>\n",
       "      <td>1.488901</td>\n",
       "    </tr>\n",
       "    <tr>\n",
       "      <th>V26</th>\n",
       "      <td>0.177840</td>\n",
       "      <td>-0.145362</td>\n",
       "      <td>-0.542628</td>\n",
       "      <td>-0.657488</td>\n",
       "      <td>0.566797</td>\n",
       "    </tr>\n",
       "    <tr>\n",
       "      <th>V27</th>\n",
       "      <td>0.261145</td>\n",
       "      <td>-0.252773</td>\n",
       "      <td>0.039566</td>\n",
       "      <td>-0.827136</td>\n",
       "      <td>-0.010016</td>\n",
       "    </tr>\n",
       "    <tr>\n",
       "      <th>V28</th>\n",
       "      <td>-0.143276</td>\n",
       "      <td>0.035764</td>\n",
       "      <td>-0.153029</td>\n",
       "      <td>0.849573</td>\n",
       "      <td>0.146793</td>\n",
       "    </tr>\n",
       "    <tr>\n",
       "      <th>Amount</th>\n",
       "      <td>0.000000</td>\n",
       "      <td>529.000000</td>\n",
       "      <td>239.930000</td>\n",
       "      <td>59.000000</td>\n",
       "      <td>1.000000</td>\n",
       "    </tr>\n",
       "    <tr>\n",
       "      <th>Class</th>\n",
       "      <td>1.000000</td>\n",
       "      <td>1.000000</td>\n",
       "      <td>1.000000</td>\n",
       "      <td>1.000000</td>\n",
       "      <td>1.000000</td>\n",
       "    </tr>\n",
       "  </tbody>\n",
       "</table>\n",
       "</div>"
      ],
      "text/plain": [
       "               0           1           2          3         4\n",
       "V1     -2.312227   -3.043541   -2.303350  -4.397974  1.234235\n",
       "V2      1.951992   -3.157307    1.759247   1.358367  3.019740\n",
       "V3     -1.609851    1.088463   -0.359745  -2.592844 -4.304597\n",
       "V4      3.997906    2.288644    2.330243   2.679787  4.732795\n",
       "V5     -0.522188    1.359805   -0.821628  -1.128131  3.624201\n",
       "V6     -1.426545   -1.064823   -0.075788  -1.706536 -1.357746\n",
       "V7     -2.537387    0.325574    0.562320  -3.496197  1.713445\n",
       "V8      1.391657   -0.067794   -0.399147  -0.248778 -0.496358\n",
       "V9     -2.770089   -0.270953   -0.238253  -0.247768 -1.282858\n",
       "V10    -2.772272   -0.838587   -1.525412  -4.801637 -2.447469\n",
       "V11     3.202033   -0.414575    2.032912   4.895844  2.101344\n",
       "V12    -2.899907   -0.503141   -6.560124 -10.912819 -4.609628\n",
       "V13    -0.595222    0.676502    0.022937   0.184372  1.464378\n",
       "V14    -4.289254   -1.692029   -1.470102  -6.771097 -6.079337\n",
       "V15     0.389724    2.000635   -0.698826  -0.007326 -0.339237\n",
       "V16    -1.140747    0.666780   -2.282194  -7.358083  2.581851\n",
       "V17    -2.830056    0.599717   -4.781831 -12.598419  6.739384\n",
       "V18    -0.016822    1.725321   -2.615665  -5.131549  3.042493\n",
       "V19     0.416956    0.283345   -1.334441   0.308334 -2.721853\n",
       "V20     0.126911    2.102339   -0.430022  -0.171608  0.009061\n",
       "V21     0.517232    0.661696   -0.294166   0.573574 -0.379068\n",
       "V22    -0.035049    0.435477   -0.932391   0.176968 -0.704181\n",
       "V23    -0.465211    1.375966    0.172726  -0.436207 -0.656805\n",
       "V24     0.320198   -0.293803   -0.087330  -0.053502 -1.632653\n",
       "V25     0.044519    0.279798   -0.156114   0.252405  1.488901\n",
       "V26     0.177840   -0.145362   -0.542628  -0.657488  0.566797\n",
       "V27     0.261145   -0.252773    0.039566  -0.827136 -0.010016\n",
       "V28    -0.143276    0.035764   -0.153029   0.849573  0.146793\n",
       "Amount  0.000000  529.000000  239.930000  59.000000  1.000000\n",
       "Class   1.000000    1.000000    1.000000   1.000000  1.000000"
      ]
     },
     "execution_count": 92,
     "metadata": {},
     "output_type": "execute_result"
    }
   ],
   "source": [
    "Fraud_train.head().T"
   ]
  },
  {
   "cell_type": "code",
   "execution_count": 18,
   "metadata": {},
   "outputs": [],
   "source": [
    "Xtrain = Fraud_train[Fraud_train.columns[:-1]].values\n",
    "ytrain = Fraud_train[Fraud_train.columns[-1]].values"
   ]
  },
  {
   "cell_type": "code",
   "execution_count": 19,
   "metadata": {},
   "outputs": [],
   "source": [
    "Xtest = Fraud_test[Fraud_test.columns[:-1]].values\n",
    "ytest = Fraud_test[Fraud_test.columns[-1]].values"
   ]
  },
  {
   "cell_type": "code",
   "execution_count": 20,
   "metadata": {},
   "outputs": [
    {
     "data": {
      "text/plain": [
       "array([[-2.31222654e+00,  1.95199201e+00, -1.60985073e+00, ...,\n",
       "         2.61145003e-01, -1.43275875e-01,  0.00000000e+00],\n",
       "       [-3.04354062e+00, -3.15730712e+00,  1.08846278e+00, ...,\n",
       "        -2.52773123e-01,  3.57642252e-02,  5.29000000e+02],\n",
       "       [-2.30334957e+00,  1.75924746e+00, -3.59744743e-01, ...,\n",
       "         3.95659889e-02, -1.53028797e-01,  2.39930000e+02],\n",
       "       ...,\n",
       "       [-3.10660310e+00, -3.60127032e+00,  8.52922990e-01, ...,\n",
       "         2.54061971e-03, -3.86346116e-01,  2.95900000e+02],\n",
       "       [-1.08892915e+00,  1.17309797e+00,  1.05487094e+00, ...,\n",
       "         8.78928247e-02,  7.99399249e-02,  3.13900000e+01],\n",
       "       [-1.66752498e+00, -2.83333539e-01,  2.60902667e+00, ...,\n",
       "         4.05664000e-02, -1.25800471e-01,  3.38900000e+01]])"
      ]
     },
     "execution_count": 20,
     "metadata": {},
     "output_type": "execute_result"
    }
   ],
   "source": [
    "Xtrain"
   ]
  },
  {
   "cell_type": "code",
   "execution_count": 21,
   "metadata": {},
   "outputs": [
    {
     "data": {
      "text/plain": [
       "array([1, 1, 1, ..., 0, 0, 0], dtype=int64)"
      ]
     },
     "execution_count": 21,
     "metadata": {},
     "output_type": "execute_result"
    }
   ],
   "source": [
    "ytrain"
   ]
  },
  {
   "cell_type": "code",
   "execution_count": 52,
   "metadata": {},
   "outputs": [
    {
     "data": {
      "text/plain": [
       "<seaborn.axisgrid.FacetGrid at 0x20b7cbbf9c8>"
      ]
     },
     "execution_count": 52,
     "metadata": {},
     "output_type": "execute_result"
    },
    {
     "data": {
      "image/png": "[encoded data removed]",
      "text/plain": [
       "<Figure size 360x360 with 1 Axes>"
      ]
     },
     "metadata": {
      "needs_background": "light"
     },
     "output_type": "display_data"
    }
   ],
   "source": [
    "isoforest = IsolationForest(n_estimators=1000, contamination = 0.0469)\n",
    "isoforest.fit(Xtrain)\n",
    "sns.displot(isoforest.decision_function(Xtrain))"
   ]
  },
  {
   "cell_type": "code",
   "execution_count": 57,
   "metadata": {},
   "outputs": [],
   "source": [
    "def scoretestmines(model, Xtest, ytest):\n",
    "    npositives = sum(ytest == 1)\n",
    "    scores = isoforest.decision_function(Xtest)\n",
    "    sortedidx = [x[0] for x in sorted(enumerate(scores), key=lambda x: x[1])]\n",
    "    anomaliesidx = sortedidx[:npositives]\n",
    "    return sum(ytest[anomaliesidx] == 1)"
   ]
  },
  {
   "cell_type": "code",
   "execution_count": 58,
   "metadata": {},
   "outputs": [
    {
     "data": {
      "text/plain": [
       "146"
      ]
     },
     "execution_count": 58,
     "metadata": {},
     "output_type": "execute_result"
    }
   ],
   "source": [
    "scoretestmines(isoforest, Xtest, ytest)"
   ]
  },
  {
   "cell_type": "code",
   "execution_count": 55,
   "metadata": {},
   "outputs": [
    {
     "data": {
      "text/plain": [
       "array([-1, -1, -1, ...,  1,  1,  1])"
      ]
     },
     "execution_count": 55,
     "metadata": {},
     "output_type": "execute_result"
    }
   ],
   "source": [
    "positives = isoforest.predict(Xtest)\n",
    "positives"
   ]
  },
  {
   "cell_type": "code",
   "execution_count": 56,
   "metadata": {},
   "outputs": [
    {
     "data": {
      "text/plain": [
       "(array([0, 1], dtype=int64), array([5000,  246], dtype=int64))"
      ]
     },
     "execution_count": 56,
     "metadata": {},
     "output_type": "execute_result"
    }
   ],
   "source": [
    "np.unique(ytest, return_counts=True)"
   ]
  },
  {
   "cell_type": "markdown",
   "metadata": {},
   "source": [
    "Cambiamos los ceros por menos unos porque la función isoforest devuelve menos uno en los casos negativos"
   ]
  },
  {
   "cell_type": "code",
   "execution_count": 27,
   "metadata": {},
   "outputs": [],
   "source": [
    "# new_ytest = np.array([1 if a == 1 else -1 for a in ytest]) "
   ]
  },
  {
   "cell_type": "code",
   "execution_count": 60,
   "metadata": {},
   "outputs": [
    {
     "data": {
      "text/plain": [
       "0.9433365853658537"
      ]
     },
     "execution_count": 60,
     "metadata": {},
     "output_type": "execute_result"
    }
   ],
   "source": [
    "y_pred_pclp = (-1)*isoforest.decision_function(Xtest)\n",
    "roc_auc_score(ytest,y_pred_pclp)"
   ]
  },
  {
   "cell_type": "markdown",
   "metadata": {},
   "source": [
    "<table>\n",
    " <tr><td width=\"80\"><img src=\"img/question.png\" style=\"width:auto;height:auto\"></td><td style=\"text-align:left\">\n",
    "Create a visualization showing the performance of this model over the test data. Suggestion: make use of the <a href=https://scikit-learn.org/stable/auto_examples/model_selection/plot_roc.html>ROC plot portrayed in the scikit-learn docs</a>\n",
    " </td></tr>\n",
    "</table>"
   ]
  },
  {
   "cell_type": "code",
   "execution_count": 61,
   "metadata": {},
   "outputs": [
    {
     "data": {
      "image/png": "[encoded data removed]",
      "text/plain": [
       "<Figure size 432x288 with 1 Axes>"
      ]
     },
     "metadata": {
      "needs_background": "light"
     },
     "output_type": "display_data"
    }
   ],
   "source": [
    "from sklearn.metrics import roc_curve, auc\n",
    "# Compute ROC curve and ROC area for each class\n",
    "fpr = []\n",
    "tpr = []\n",
    "roc_auc = []\n",
    "\n",
    "fpr, tpr, threshold = roc_curve(ytest, y_pred_pclp,pos_label=1)\n",
    "roc_auc = auc(fpr, tpr)\n",
    "\n",
    "\n",
    "\n",
    "lw = 2\n",
    "plt.plot(fpr, tpr, color='darkorange',\n",
    "         lw=lw, label='ROC curve (area = %0.2f)' % roc_auc)\n",
    "plt.plot([0, 1], [0, 1], color='navy', lw=lw, linestyle='--')\n",
    "plt.xlim([0.0, 1.0])\n",
    "plt.ylim([0.0, 1.05])\n",
    "plt.xlabel('False Positive Rate')\n",
    "plt.ylabel('True Positive Rate')\n",
    "plt.title('Receiver operating characteristic example')\n",
    "plt.legend(loc=\"lower right\")\n",
    "plt.show()"
   ]
  },
  {
   "cell_type": "markdown",
   "metadata": {},
   "source": [
    "## Supervised models"
   ]
  },
  {
   "cell_type": "markdown",
   "metadata": {},
   "source": [
    "<table>\n",
    " <tr><td width=\"80\"><img src=\"img/question.png\" style=\"width:auto;height:auto\"></td><td style=\"text-align:left\">\n",
    "Let's check now whether we can improve the results using supervised models, that is, models that exploit the Class information available in the training data. Try <b>at least five</b> ensemble-based classification models, <b>using only the data in the training set</b>.\n",
    " </td></tr>\n",
    "</table>"
   ]
  },
  {
   "cell_type": "markdown",
   "metadata": {},
   "source": [
    "<table>\n",
    " <tr><td width=\"80\"><img src=\"img/exclamation.png\" style=\"width:auto;height:auto\"></td><td style=\"text-align:left\">\n",
    "Some suggestions on the scikit-learn models you can use are: Random Forest, Extra Trees, AdaBoost, Gradient Boosting,  Bagging, Voting and Stacking. You can also use an XGBClassifier, also included in this environment.\n",
    " </td></tr>\n",
    "</table>"
   ]
  },
  {
   "cell_type": "markdown",
   "metadata": {},
   "source": [
    "<table>\n",
    " <tr><td width=\"80\"><img src=\"img/pro.png\" style=\"width:auto;height:auto\"></td><td style=\"text-align:left\">\n",
    "     Bonus points will we awarded for:\n",
    "     <ul>\n",
    "         <li>Trying more ensemble strategies beyond the minimum requirement of five.</li>\n",
    "         <li>Improving the AUC score of your best model as much as possible.</li>\n",
    "         <li>Trying <a href=https://catboost.ai/>CatBoost</a> and/or <a href=https://lightgbm.readthedocs.io/en/latest/>LightGBM</a>, other two popular ensemble methods. Note you will need to install these in your environment.</li>\n",
    "     </ul>\n",
    " </td></tr>\n",
    "</table>"
   ]
  },
  {
   "cell_type": "code",
   "execution_count": 63,
   "metadata": {},
   "outputs": [],
   "source": [
    "from sklearn.ensemble import RandomForestClassifier, AdaBoostClassifier, GradientBoostingClassifier\n",
    "from xgboost import XGBClassifier"
   ]
  },
  {
   "cell_type": "code",
   "execution_count": 94,
   "metadata": {},
   "outputs": [],
   "source": [
    "from sklearn.ensemble import BaggingClassifier"
   ]
  },
  {
   "cell_type": "code",
   "execution_count": 96,
   "metadata": {
    "scrolled": true
   },
   "outputs": [
    {
     "name": "stderr",
     "output_type": "stream",
     "text": [
      "C:\\Anaconda3\\envs\\ensembles-labs\\lib\\site-packages\\sklearn\\model_selection\\_search.py:289: UserWarning: The total space of parameters 12 is smaller than n_iter=50. Running 12 iterations. For exhaustive searches, use GridSearchCV.\n",
      "  % (grid_size, self.n_iter, grid_size), UserWarning)\n",
      "C:\\Anaconda3\\envs\\ensembles-labs\\lib\\site-packages\\sklearn\\model_selection\\_search.py:289: UserWarning: The total space of parameters 12 is smaller than n_iter=50. Running 12 iterations. For exhaustive searches, use GridSearchCV.\n",
      "  % (grid_size, self.n_iter, grid_size), UserWarning)\n",
      "C:\\Anaconda3\\envs\\ensembles-labs\\lib\\site-packages\\sklearn\\model_selection\\_search.py:289: UserWarning: The total space of parameters 12 is smaller than n_iter=50. Running 12 iterations. For exhaustive searches, use GridSearchCV.\n",
      "  % (grid_size, self.n_iter, grid_size), UserWarning)\n"
     ]
    }
   ],
   "source": [
    "from sklearn.model_selection import RandomizedSearchCV\n",
    "import numpy as np\n",
    "\n",
    "def trainscore(X, y, Xte, yte, estimator):\n",
    "    \"\"\"Trains an estimator and returns score over a test set\"\"\"\n",
    "    estimator.fit(X, y)\n",
    "    return estimator.score(Xte, yte) * 100\n",
    "\n",
    "def tune(X, y, Xte, yte, estimator, param_dist, n_iter_search, n_jobs):\n",
    "    \"\"\"Performs hyperparameter tuning over an estimator\"\"\"\n",
    "    search = RandomizedSearchCV(estimator, param_distributions=param_dist, n_iter=n_iter_search, n_jobs=n_jobs)\n",
    "    return trainscore(X, y, Xte, yte, search)\n",
    "\n",
    "ntrees = 50\n",
    "\n",
    "models = {\n",
    "    \"randomForest\": {\n",
    "        \"class\" : RandomForestClassifier(),\n",
    "        \"param_dist\" : {\n",
    "            \"n_estimators\" : [ntrees],\n",
    "            \"max_depth\": [3, 5, 10, 15, 20, 25, 30, None],\n",
    "            \"max_features\": [\"sqrt\", \"log2\", None],\n",
    "            \"min_samples_split\": [2, 4, 8, 16, 32, 64],\n",
    "            \"min_samples_leaf\": [1, 2, 4, 8, 16, 32, 64],\n",
    "            \"bootstrap\": [True, False],\n",
    "            \"criterion\": [\"gini\", \"entropy\"]\n",
    "        }\n",
    "    },    \n",
    "    \"boosting\": {\n",
    "        \"class\" : AdaBoostClassifier(),\n",
    "        \"param_dist\" : {\n",
    "            \"n_estimators\" : [ntrees],\n",
    "            \"learning_rate\": np.logspace(-5,0,12)\n",
    "        }\n",
    "    },  \n",
    "    \"gradientBoosting\": {\n",
    "        \"class\" : GradientBoostingClassifier(),\n",
    "        \"param_dist\" : {\n",
    "            \"n_estimators\" : [ntrees],\n",
    "            \"loss\": [\"deviance\", \"exponential\"],\n",
    "            \"learning_rate\": np.logspace(-5,0,12),\n",
    "            \"max_depth\": [3, 5, 10, 15, 20, 25, 30, None],\n",
    "            \"min_samples_split\": [2, 4, 8, 16, 32, 64],\n",
    "            \"min_samples_leaf\": [1, 2, 4, 8, 16, 32, 64],\n",
    "            \"subsample\" : [0.1, 0.2, 0.5, 0.9, 1],\n",
    "            \"max_features\": [\"sqrt\", \"log2\", None],\n",
    "        }\n",
    "    },\n",
    "    \"xgb\": {\n",
    "        \"class\" : XGBClassifier(),\n",
    "        \"param_dist\" : {\n",
    "            'n_estimators': [ntrees],\n",
    "            'gamma' : [0, 1e-5, 1e-4, 1e-3, 1e-2, 1e-1, 1, 10, 100],\n",
    "            'max_depth': [6, 9, 12],\n",
    "            'subsample': [0.5, 0.9, 1.0],\n",
    "            'colsample_bytree': [0.5, 0.9, 1.0],\n",
    "            'reg_lambda' : [0, 1e-3, 1e-2, 1e-1, 1, 10, 100]\n",
    "        }\n",
    "    },\n",
    "    \"AdaBoost\": {\n",
    "        \"class\" : AdaBoostClassifier(),\n",
    "        \"param_dist\" : {\n",
    "            'n_estimators': [ntrees],\n",
    "            \"learning_rate\": np.logspace(-5,0,12),\n",
    "        }\n",
    "    },\n",
    "    \"BaggingClassifier\": {\n",
    "        \"class\" : BaggingClassifier(),\n",
    "        \"param_dist\" : {\n",
    "            \"n_estimators\" : [ntrees],\n",
    "            \"max_features\": [5,10,15,20,25,28],\n",
    "            \"bootstrap\": [True, False],\n",
    "        }\n",
    "    }\n",
    "}\n",
    "\n",
    "n_jobs = 7\n",
    "n_iter_search = 50\n",
    "\n",
    "accs = {\n",
    "  modelname :tune(\n",
    "            Xtrain, ytrain,\n",
    "            Xtest, ytest, \n",
    "            models[modelname][\"class\"], \n",
    "            param_dist=models[modelname][\"param_dist\"], \n",
    "            n_iter_search=n_iter_search, \n",
    "            n_jobs=n_jobs\n",
    "            )\n",
    "        for modelname in models\n",
    "}"
   ]
  },
  {
   "cell_type": "code",
   "execution_count": 97,
   "metadata": {},
   "outputs": [
    {
     "data": {
      "text/plain": [
       "{'randomForest': 99.19939001143729,\n",
       " 'boosting': 99.08501715592833,\n",
       " 'gradientBoosting': 99.00876858558902,\n",
       " 'xgb': 99.12314144109799,\n",
       " 'AdaBoost': 99.08501715592833,\n",
       " 'BaggingClassifier': 99.14220358368281}"
      ]
     },
     "execution_count": 97,
     "metadata": {},
     "output_type": "execute_result"
    }
   ],
   "source": [
    "accs"
   ]
  },
  {
   "cell_type": "markdown",
   "metadata": {},
   "source": [
    "<table>\n",
    " <tr><td width=\"80\"><img src=\"img/question.png\" style=\"width:auto;height:auto\"></td><td style=\"text-align:left\">\n",
    "Now create a visualization showing the performance of your supervised models on the test set, together with the unsupervised model. Has the performance improved after making use of the Class data? Which model obtains the best AUC?\n",
    " </td></tr>\n",
    "</table>"
   ]
  },
  {
   "cell_type": "code",
   "execution_count": 98,
   "metadata": {},
   "outputs": [
    {
     "data": {
      "text/plain": [
       "<AxesSubplot:xlabel='acc', ylabel='model'>"
      ]
     },
     "execution_count": 98,
     "metadata": {},
     "output_type": "execute_result"
    },
    {
     "data": {
      "image/png": "[encoded data removed]",
      "text/plain": [
       "<Figure size 1080x360 with 1 Axes>"
      ]
     },
     "metadata": {
      "needs_background": "light"
     },
     "output_type": "display_data"
    }
   ],
   "source": [
    "resdf = pd.DataFrame({\n",
    "        \"dataset\" : \"fraud\",\n",
    "        \"model\" : [model for model in accs.keys()],\n",
    "        \"acc\" : [acc for acc in accs.values()]\n",
    "    })\n",
    "\n",
    "modelscores = resdf.groupby([\"model\"]).mean()[\"acc\"].sort_values()\n",
    "modelscores\n",
    "\n",
    "plt.figure(figsize=(15,5))\n",
    "sns.barplot(y=\"model\", x=\"acc\", data=resdf, order=modelscores.index)"
   ]
  },
  {
   "cell_type": "code",
   "execution_count": null,
   "metadata": {},
   "outputs": [],
   "source": []
  }
 ],
 "metadata": {
  "anaconda-cloud": {},
  "kernelspec": {
   "display_name": "Python 3",
   "language": "python",
   "name": "python3"
  },
  "language_info": {
   "codemirror_mode": {
    "name": "ipython",
    "version": 3
   },
   "file_extension": ".py",
   "mimetype": "text/x-python",
   "name": "python",
   "nbconvert_exporter": "python",
   "pygments_lexer": "ipython3",
   "version": "3.7.10"
  }
 },
 "nbformat": 4,
 "nbformat_minor": 1
}
