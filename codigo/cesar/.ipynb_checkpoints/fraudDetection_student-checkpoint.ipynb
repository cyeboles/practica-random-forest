{
 "cells": [
  {
   "cell_type": "markdown",
   "metadata": {
    "nbgrader": {
     "grade": false,
     "locked": false,
     "solution": false
    }
   },
   "source": [
    "# Lab assignment: fraud detection through ensemble methods"
   ]
  },
  {
   "cell_type": "markdown",
   "metadata": {
    "nbgrader": {
     "grade": false,
     "locked": false,
     "solution": false
    }
   },
   "source": [
    "<img src=\"img/fraud.jpg\" style=\"width:600px;\">"
   ]
  },
  {
   "cell_type": "markdown",
   "metadata": {
    "nbgrader": {
     "grade": false,
     "locked": false,
     "solution": false
    }
   },
   "source": [
    "In this assignment we will use all the skills in ensemble learning we acquired from previous exercises to build a an automated fraud detection system."
   ]
  },
  {
   "cell_type": "markdown",
   "metadata": {
    "nbgrader": {
     "grade": false,
     "locked": false,
     "solution": false
    }
   },
   "source": [
    "## Guidelines"
   ]
  },
  {
   "cell_type": "markdown",
   "metadata": {
    "nbgrader": {
     "grade": false,
     "locked": false,
     "solution": false
    }
   },
   "source": [
    "Throughout this notebook you will find empty cells that you will need to fill with your own code. Follow the instructions in the notebook and pay special attention to the following symbols.\n",
    "\n",
    "<table>\n",
    " <tr><td width=\"80\"><img src=\"img/question.png\" style=\"width:auto;height:auto\"></td><td style=\"text-align:left\">You will need to solve a question by writing your own code or answer in the cell immediately below, or in a different file as instructed. Both correctness of the solution and code quality will be taken into account for marking.</td></tr>\n",
    " <tr><td width=\"80\"><img src=\"img/exclamation.png\" style=\"width:auto;height:auto\"></td><td style=\"text-align:left\">This is a hint or useful observation that can help you solve this assignment. You are not expected to write any solution, but you should pay attention to them to understand the assignment.</td></tr>\n",
    " <tr><td width=\"80\"><img src=\"img/pro.png\" style=\"width:auto;height:auto\"></td><td style=\"text-align:left\">This is an advanced and voluntary excercise that can help you gain a deeper knowledge into the topic. This exercise won't be taken into account towards marking, but you are encouraged to undertake it. Good luck!</td></tr>\n",
    "</table>\n",
    "\n",
    "To avoid missing packages and compatibility issues you should run this notebook under one of the [recommended Ensembles environment files](https://github.com/albarji/teaching-environments-ensembles)."
   ]
  },
  {
   "cell_type": "markdown",
   "metadata": {},
   "source": [
    "The following code will embed any plots into the notebook instead of generating a new window:"
   ]
  },
  {
   "cell_type": "code",
   "execution_count": 1,
   "metadata": {},
   "outputs": [],
   "source": [
    "import matplotlib.pyplot as plt\n",
    "import seaborn as sns\n",
    "%matplotlib inline\n",
    "import warnings\n",
    "warnings.filterwarnings('ignore')"
   ]
  },
  {
   "cell_type": "markdown",
   "metadata": {},
   "source": [
    "Lastly, if you need any help on the usage of a Python function you can place the writing cursor over its name and press Shift+Tab to produce a pop-out with related documentation. This will only work inside code cells. \n",
    "\n",
    "Let's go!"
   ]
  },
  {
   "cell_type": "markdown",
   "metadata": {},
   "source": [
    "## Data loading"
   ]
  },
  {
   "cell_type": "markdown",
   "metadata": {},
   "source": [
    "The data for this problem is included in the *data* folder, with separate files for training and test data. Each file includes several unidentified explanatory features, together with an \"Amount\" feature and the target \"Class\". Fraudulent operations are marked as Class == 1."
   ]
  },
  {
   "cell_type": "markdown",
   "metadata": {},
   "source": [
    "<table>\n",
    " <tr><td width=\"80\"><img src=\"img/question.png\" style=\"width:auto;height:auto\"></td><td style=\"text-align:left\">\n",
    "     Load the training and test data into Pandas DataFrames with names <b>train</b> and <b>test</b>, respectively.\n",
    " </td></tr>\n",
    "</table>"
   ]
  },
  {
   "cell_type": "code",
   "execution_count": 2,
   "metadata": {},
   "outputs": [],
   "source": [
    "import numpy as np\n",
    "import pandas as pd"
   ]
  },
  {
   "cell_type": "code",
   "execution_count": 3,
   "metadata": {},
   "outputs": [],
   "source": [
    "train = pd.read_csv(\"data/fraud_train.csv\")\n",
    "test = pd.read_csv(\"data/fraud_test.csv\")"
   ]
  },
  {
   "cell_type": "markdown",
   "metadata": {},
   "source": [
    "<table>\n",
    " <tr><td width=\"80\"><img src=\"img/question.png\" style=\"width:auto;height:auto\"></td><td style=\"text-align:left\">\n",
    "Perform a brief analysis of the training data to answer the following questions: how many explanatory variables do you have? What is the distribution of classes?\n",
    " </td></tr>\n",
    "</table>"
   ]
  },
  {
   "cell_type": "code",
   "execution_count": 4,
   "metadata": {},
   "outputs": [
    {
     "name": "stdout",
     "output_type": "stream",
     "text": [
      "Number of explanatory columns:  29\n",
      "Total training class \"0\":  5000\n",
      "Total training class \"1\":  246\n",
      "1's ratio in training:  0.04689287075867327\n",
      "Total test class \"0\":  5000\n",
      "Total test class \"1\":  246\n",
      "1's ratio in test:  0.04689287075867327\n"
     ]
    }
   ],
   "source": [
    "print('Number of explanatory columns: ', len(train.columns) - 1)\n",
    "print('Total training class \"0\": ', sum(train[\"Class\"] == 0))\n",
    "print('Total training class \"1\": ', sum(train[\"Class\"] == 1))\n",
    "print(\"1's ratio in training: \", sum(train[\"Class\"] == 1)/(sum(train[\"Class\"] == 1) + sum(train[\"Class\"] == 0)))\n",
    "print('Total test class \"0\": ', sum(test[\"Class\"] == 0))\n",
    "print('Total test class \"1\": ', sum(test[\"Class\"] == 1))\n",
    "print(\"1's ratio in test: \", sum(test[\"Class\"] == 1)/(sum(test[\"Class\"] == 1) + sum(test[\"Class\"] == 0)))"
   ]
  },
  {
   "cell_type": "markdown",
   "metadata": {},
   "source": [
    "## Measuring the performance of a fraud detector"
   ]
  },
  {
   "cell_type": "markdown",
   "metadata": {},
   "source": [
    "Fraudulent activities are usually prosecuted, therefore fraudsters need to be creative and come up constantly with new ways of performing fraud. Furthermore, frauds are scarce (fortunately), and so we have few positive class patterns available for training. This means the problem is highly unbalanced, which is a problem for training good models, but is also a problem for the model evaluation. \n",
    "\n",
    "Consider a dumb model that classifies all data as negative (non-fraud). We can simulate the predictions of this model by creating a predictions vector of all zeros:"
   ]
  },
  {
   "cell_type": "code",
   "execution_count": 5,
   "metadata": {},
   "outputs": [],
   "source": [
    "dumbpreds = [0] * len(test)"
   ]
  },
  {
   "cell_type": "markdown",
   "metadata": {},
   "source": [
    "Let's measure the accuracy of this model"
   ]
  },
  {
   "cell_type": "code",
   "execution_count": 6,
   "metadata": {},
   "outputs": [
    {
     "data": {
      "text/plain": [
       "0.9531071292413267"
      ]
     },
     "execution_count": 6,
     "metadata": {},
     "output_type": "execute_result"
    }
   ],
   "source": [
    "from sklearn.metrics import accuracy_score\n",
    "\n",
    "accuracy_score(test[\"Class\"], dumbpreds)"
   ]
  },
  {
   "cell_type": "markdown",
   "metadata": {},
   "source": [
    "Yo should have obtained a 95% of accuracy, because most of the patterns are indeed negative. But this would be totally useless as a fraud detector! Therefore, we need a better metric.\n",
    "\n",
    "One that works well for heavily unbalanced problems is the [area under the ROC curve](https://en.wikipedia.org/wiki/Receiver_operating_characteristic), or AUC in short. In scikit-learn this metric is readily available, and we can test how this reveals the poor performance of this dumb model"
   ]
  },
  {
   "cell_type": "code",
   "execution_count": 7,
   "metadata": {},
   "outputs": [
    {
     "data": {
      "text/plain": [
       "0.5"
      ]
     },
     "execution_count": 7,
     "metadata": {},
     "output_type": "execute_result"
    }
   ],
   "source": [
    "from sklearn.metrics import roc_auc_score\n",
    "\n",
    "roc_auc_score(test[\"Class\"], dumbpreds)"
   ]
  },
  {
   "cell_type": "markdown",
   "metadata": {},
   "source": [
    "An AUC of 50% means the model is no better than a random guess. We should aim to maximize this metric and attain a 100%, meaning all fraudulent patterns obtain higher scores than non-fraud patterns."
   ]
  },
  {
   "cell_type": "markdown",
   "metadata": {},
   "source": [
    "## Unsupervised fraud detector"
   ]
  },
  {
   "cell_type": "markdown",
   "metadata": {},
   "source": [
    "Since we now we have scarce positive data, it might make sense to start building an unsupervised fraud detector."
   ]
  },
  {
   "cell_type": "markdown",
   "metadata": {},
   "source": [
    "<table>\n",
    " <tr><td width=\"80\"><img src=\"img/question.png\" style=\"width:auto;height:auto\"></td><td style=\"text-align:left\">\n",
    "     Using <b>only the training data</b>, create an Isolation Forest model for anomaly detection. You can use the number of positive patterns in the data to adjust the contamination ratio. Then measure the performance of the model on the test set, in terms of AUC score.\n",
    " </td></tr>\n",
    "</table>"
   ]
  },
  {
   "cell_type": "markdown",
   "metadata": {},
   "source": [
    "<table>\n",
    " <tr><td width=\"80\"><img src=\"img/exclamation.png\" style=\"width:auto;height:auto\"></td><td style=\"text-align:left\">\n",
    "     Note the roc_auc_score metric must receive <b>positive class probabilities</b>. It is not possible to obtain these probabilities from an IsolationForest model, but you can make use of its decision_function method to obtain normality scores (average tree depth), which can be negated to obtain positive class scores.\n",
    " </td></tr>\n",
    "</table>"
   ]
  },
  {
   "cell_type": "code",
   "execution_count": 8,
   "metadata": {
    "scrolled": true
   },
   "outputs": [],
   "source": [
    "X_train = train.loc[:, train.columns != \"Class\"]\n",
    "y_train = train.loc[:, train.columns == \"Class\"]\n",
    "\n",
    "X_test = test.loc[:, test.columns != \"Class\"]\n",
    "y_test = test.loc[:, test.columns == \"Class\"]\n",
    "\n",
    "data = {\n",
    "    'X_train': X_train,\n",
    "    'y_train': y_train,\n",
    "    'X_test': X_test,\n",
    "    'y_test': y_test\n",
    "}"
   ]
  },
  {
   "cell_type": "code",
   "execution_count": 9,
   "metadata": {},
   "outputs": [],
   "source": [
    "from sklearn.ensemble import IsolationForest"
   ]
  },
  {
   "cell_type": "code",
   "execution_count": 10,
   "metadata": {},
   "outputs": [
    {
     "data": {
      "text/plain": [
       "IsolationForest(contamination=0.04689287075867327, random_state=0)"
      ]
     },
     "execution_count": 10,
     "metadata": {},
     "output_type": "execute_result"
    }
   ],
   "source": [
    "isoforest = IsolationForest(contamination = 0.04689287075867327, random_state = 0)\n",
    "isoforest.fit(X_train)"
   ]
  },
  {
   "cell_type": "code",
   "execution_count": 11,
   "metadata": {},
   "outputs": [
    {
     "data": {
      "text/plain": [
       "0.933129268292683"
      ]
     },
     "execution_count": 11,
     "metadata": {},
     "output_type": "execute_result"
    }
   ],
   "source": [
    "y_pred_score = isoforest.decision_function(X_test)*(-1)\n",
    "roc_auc_score(y_test,y_pred_score)"
   ]
  },
  {
   "cell_type": "markdown",
   "metadata": {},
   "source": [
    "<table>\n",
    " <tr><td width=\"80\"><img src=\"img/question.png\" style=\"width:auto;height:auto\"></td><td style=\"text-align:left\">\n",
    "Create a visualization showing the performance of this model over the test data. Suggestion: make use of the <a href=https://scikit-learn.org/stable/auto_examples/model_selection/plot_roc.html>ROC plot portrayed in the scikit-learn docs</a>\n",
    " </td></tr>\n",
    "</table>"
   ]
  },
  {
   "cell_type": "code",
   "execution_count": 12,
   "metadata": {},
   "outputs": [
    {
     "data": {
      "image/png": "[encoded data removed]",
      "text/plain": [
       "<Figure size 432x288 with 1 Axes>"
      ]
     },
     "metadata": {
      "needs_background": "light"
     },
     "output_type": "display_data"
    }
   ],
   "source": [
    "from sklearn.metrics import roc_curve, auc\n",
    "fpr = []\n",
    "tpr = []\n",
    "roc_auc = []\n",
    "\n",
    "fpr, tpr, _ = roc_curve(y_test, y_pred_score, pos_label=1)\n",
    "roc_auc = auc(fpr, tpr)\n",
    "\n",
    "lw = 2\n",
    "plt.plot(fpr, tpr, color='darkorange',\n",
    "         lw=lw, label='ROC curve (area = %0.2f)' % roc_auc)\n",
    "plt.plot([0, 1], [0, 1], color='navy', lw=lw, linestyle='--')\n",
    "plt.xlim([-0.01, 1.0])\n",
    "plt.ylim([0.0, 1.01])\n",
    "plt.xlabel('False Positive Rate')\n",
    "plt.ylabel('True Positive Rate')\n",
    "plt.title('ROC')\n",
    "plt.legend(loc=\"lower right\")\n",
    "plt.show()"
   ]
  },
  {
   "cell_type": "markdown",
   "metadata": {},
   "source": [
    "## Supervised models"
   ]
  },
  {
   "cell_type": "markdown",
   "metadata": {},
   "source": [
    "<table>\n",
    " <tr><td width=\"80\"><img src=\"img/question.png\" style=\"width:auto;height:auto\"></td><td style=\"text-align:left\">\n",
    "Let's check now whether we can improve the results using supervised models, that is, models that exploit the Class information available in the training data. Try <b>at least five</b> ensemble-based classification models, <b>using only the data in the training set</b>.\n",
    " </td></tr>\n",
    "</table>"
   ]
  },
  {
   "cell_type": "markdown",
   "metadata": {},
   "source": [
    "<table>\n",
    " <tr><td width=\"80\"><img src=\"img/exclamation.png\" style=\"width:auto;height:auto\"></td><td style=\"text-align:left\">\n",
    "Some suggestions on the scikit-learn models you can use are: Random Forest, Extra Trees, AdaBoost, Gradient Boosting,  Bagging, Voting and Stacking. You can also use an XGBClassifier, also included in this environment.\n",
    " </td></tr>\n",
    "</table>"
   ]
  },
  {
   "cell_type": "markdown",
   "metadata": {},
   "source": [
    "<table>\n",
    " <tr><td width=\"80\"><img src=\"img/pro.png\" style=\"width:auto;height:auto\"></td><td style=\"text-align:left\">\n",
    "     Bonus points will we awarded for:\n",
    "     <ul>\n",
    "         <li>Trying more ensemble strategies beyond the minimum requirement of five.</li>\n",
    "         <li>Improving the AUC score of your best model as much as possible.</li>\n",
    "         <li>Trying <a href=https://catboost.ai/>CatBoost</a> and/or <a href=https://lightgbm.readthedocs.io/en/latest/>LightGBM</a>, other two popular ensemble methods. Note you will need to install these in your environment.</li>\n",
    "     </ul>\n",
    " </td></tr>\n",
    "</table>"
   ]
  },
  {
   "cell_type": "code",
   "execution_count": 13,
   "metadata": {},
   "outputs": [],
   "source": [
    "from sklearn.ensemble import (RandomForestClassifier,\n",
    "                              ExtraTreesClassifier,\n",
    "                              AdaBoostClassifier,\n",
    "                              GradientBoostingClassifier,\n",
    "                              BaggingClassifier,\n",
    "                              VotingClassifier,\n",
    "                              StackingClassifier)\n",
    "from sklearn.linear_model import LogisticRegression\n",
    "\n",
    "from xgboost import XGBClassifier\n",
    "\n",
    "from catboost import CatBoostClassifier\n",
    "\n",
    "from lightgbm import LGBMClassifier\n",
    "\n",
    "from sklearn.model_selection import GridSearchCV, RandomizedSearchCV"
   ]
  },
  {
   "cell_type": "markdown",
   "metadata": {},
   "source": [
    "## Model Trainer"
   ]
  },
  {
   "cell_type": "code",
   "execution_count": 14,
   "metadata": {},
   "outputs": [],
   "source": [
    "class ModelTrainer:\n",
    "\n",
    "    def __init__(self, model, data, params_dist):\n",
    "\n",
    "        self.X_train = data['X_train']\n",
    "        self.y_train = data['y_train']\n",
    "        self.X_test = data['X_test']\n",
    "        self.y_test = data['y_test']\n",
    "        \n",
    "        self.model = model\n",
    "        self.params_dist = params_dist\n",
    "    \n",
    "    \n",
    "    def autofit(self, n_iter=1):\n",
    "\n",
    "\n",
    "        trained_model = RandomizedSearchCV(\n",
    "                                               self.model,\n",
    "                                               self.params_dist,\n",
    "                                               n_iter = n_iter,\n",
    "                                               n_jobs = 3,\n",
    "                                               random_state = 0,\n",
    "                                               )\n",
    "            \n",
    "            \n",
    "        trained_model.fit(self.X_train, self.y_train)\n",
    "\n",
    "        self.trained_model = trained_model\n",
    "        self.best_score = trained_model.score(self.X_test, self.y_test)\n",
    "\n",
    "        print('Training ended with a training score of ', trained_model.best_score_)\n",
    "        print('Best params:')\n",
    "        print(trained_model.best_params_)\n",
    "\n",
    "        return trained_model\n",
    "\n",
    "    \n",
    "    def test(self):\n",
    "        \n",
    "        if self.trained_model:\n",
    "            preds = self.trained_model.predict_proba(self.X_test)\n",
    "            preds_1 = [row[1] for row in preds]\n",
    "            \n",
    "            auc = roc_auc_score(self.y_test, preds_1)\n",
    "            self.auc = auc\n",
    "            \n",
    "            fpr, tpr, _ = roc_curve(self.y_test, preds_1, pos_label=1)\n",
    "            self.fpr = fpr\n",
    "            self.tpr = tpr\n",
    "            \n",
    "            return auc\n",
    "        \n",
    "        else:\n",
    "            raise Exception('Model not fitted. Try the .autofit method.')\n",
    "        \n",
    "        \n",
    "    def plot_roc(self):\n",
    "        if self.fpr.any():\n",
    "            lw = 2\n",
    "            plt.plot(self.fpr, self.tpr, color='darkorange',\n",
    "                     lw=lw, label='ROC curve (area = %0.2f)' % self.auc)\n",
    "            plt.plot([0, 1], [0, 1], color='navy', lw=lw, linestyle='--')\n",
    "            plt.xlim([-0.01, 1.0])\n",
    "            plt.ylim([0.0, 1.01])\n",
    "            plt.xlabel('False Positive Rate')\n",
    "            plt.ylabel('True Positive Rate')\n",
    "            plt.title('ROC')\n",
    "            plt.legend(loc=\"lower right\")\n",
    "            plt.show()\n",
    "        else:\n",
    "            raise Exception('Model not tested. Try the .test method.')\n"
   ]
  },
  {
   "cell_type": "markdown",
   "metadata": {},
   "source": [
    "### Random Forest Classifier"
   ]
  },
  {
   "cell_type": "code",
   "execution_count": 15,
   "metadata": {},
   "outputs": [
    {
     "name": "stdout",
     "output_type": "stream",
     "text": [
      "Training ended with a training score of  0.9881812156702529\n",
      "Best params:\n",
      "{'random_state': 0, 'n_estimators': 50, 'min_samples_split': 8, 'min_samples_leaf': 1, 'max_features': None, 'max_depth': 25, 'criterion': 'gini', 'bootstrap': False}\n"
     ]
    },
    {
     "data": {
      "text/plain": [
       "0.9397719512195123"
      ]
     },
     "execution_count": 15,
     "metadata": {},
     "output_type": "execute_result"
    }
   ],
   "source": [
    "param_dist = {\n",
    "    \"n_estimators\" : [50],\n",
    "    \"max_depth\": [3, 5, 10, 15, 20, 25, 30, None],\n",
    "    \"max_features\": [\"sqrt\", \"log2\", None],\n",
    "    \"min_samples_split\": [2, 4, 8, 16, 32, 64],\n",
    "    \"min_samples_leaf\": [1, 2, 4, 8, 16, 32, 64],\n",
    "    \"bootstrap\": [True, False],\n",
    "    \"criterion\": [\"gini\", \"entropy\"],\n",
    "    \"random_state\": [0]\n",
    "}\n",
    "\n",
    "RandomForestTrainer = ModelTrainer(RandomForestClassifier(),\n",
    "                                   data,\n",
    "                                   param_dist)\n",
    "RandomForestTrainer.autofit(1)\n",
    "RandomForestTrainer.test()"
   ]
  },
  {
   "cell_type": "code",
   "execution_count": 27,
   "metadata": {},
   "outputs": [
    {
     "data": {
      "image/png": "[encoded data removed]",
      "text/plain": [
       "<Figure size 432x288 with 1 Axes>"
      ]
     },
     "metadata": {
      "needs_background": "light"
     },
     "output_type": "display_data"
    }
   ],
   "source": [
    "RandomForestTrainer.plot_roc()"
   ]
  },
  {
   "cell_type": "markdown",
   "metadata": {},
   "source": [
    "### Extra trees"
   ]
  },
  {
   "cell_type": "code",
   "execution_count": 16,
   "metadata": {},
   "outputs": [
    {
     "name": "stdout",
     "output_type": "stream",
     "text": [
      "Training ended with a training score of  0.9931370466203642\n",
      "Best params:\n",
      "{'random_state': 0, 'n_estimators': 50, 'min_samples_split': 8, 'min_samples_leaf': 1, 'max_features': None, 'max_depth': 25, 'criterion': 'gini', 'bootstrap': False}\n"
     ]
    },
    {
     "data": {
      "text/plain": [
       "0.9815036585365853"
      ]
     },
     "execution_count": 16,
     "metadata": {},
     "output_type": "execute_result"
    }
   ],
   "source": [
    "param_dist = {\n",
    "    \"n_estimators\" : [50],\n",
    "    \"max_depth\": [3, 5, 10, 15, 20, 25, 30, None],\n",
    "    \"max_features\": [\"sqrt\", \"log2\", None],\n",
    "    \"min_samples_split\": [2, 4, 8, 16, 32, 64],\n",
    "    \"min_samples_leaf\": [1, 2, 4, 8, 16, 32, 64],\n",
    "    \"bootstrap\": [True, False],\n",
    "    \"criterion\": [\"gini\", \"entropy\"],\n",
    "    \"random_state\": [0]\n",
    "}\n",
    "\n",
    "ExtraTreesTrainer = ModelTrainer(ExtraTreesClassifier(),\n",
    "                                   data,\n",
    "                                   param_dist)\n",
    "ExtraTreesTrainer.autofit()\n",
    "ExtraTreesTrainer.test()"
   ]
  },
  {
   "cell_type": "code",
   "execution_count": 28,
   "metadata": {},
   "outputs": [
    {
     "data": {
      "image/png": "[encoded data removed]",
      "text/plain": [
       "<Figure size 432x288 with 1 Axes>"
      ]
     },
     "metadata": {
      "needs_background": "light"
     },
     "output_type": "display_data"
    }
   ],
   "source": [
    "ExtraTreesTrainer.plot_roc()"
   ]
  },
  {
   "cell_type": "markdown",
   "metadata": {},
   "source": [
    "### AdaBoost"
   ]
  },
  {
   "cell_type": "code",
   "execution_count": 17,
   "metadata": {
    "scrolled": true
   },
   "outputs": [
    {
     "name": "stdout",
     "output_type": "stream",
     "text": [
      "Training ended with a training score of  0.9872282899813882\n",
      "Best params:\n",
      "{'random_state': 0, 'n_estimators': 50, 'learning_rate': 0.005336699231206307}\n"
     ]
    },
    {
     "data": {
      "text/plain": [
       "0.9185256097560976"
      ]
     },
     "execution_count": 17,
     "metadata": {},
     "output_type": "execute_result"
    }
   ],
   "source": [
    "param_dist = {\n",
    "    \"n_estimators\" : [50],\n",
    "    \"learning_rate\": np.logspace(-5,0,12),\n",
    "    \"random_state\": [0]\n",
    "}\n",
    "\n",
    "AdaBoostTrainer = ModelTrainer(AdaBoostClassifier(),\n",
    "                               data,\n",
    "                               param_dist)\n",
    "AdaBoostTrainer.autofit()\n",
    "AdaBoostTrainer.test()"
   ]
  },
  {
   "cell_type": "code",
   "execution_count": 29,
   "metadata": {},
   "outputs": [
    {
     "data": {
      "image/png": "[encoded data removed]",
      "text/plain": [
       "<Figure size 432x288 with 1 Axes>"
      ]
     },
     "metadata": {
      "needs_background": "light"
     },
     "output_type": "display_data"
    }
   ],
   "source": [
    "AdaBoostTrainer.plot_roc()"
   ]
  },
  {
   "cell_type": "markdown",
   "metadata": {},
   "source": [
    "### Gradient Boosting"
   ]
  },
  {
   "cell_type": "code",
   "execution_count": 18,
   "metadata": {},
   "outputs": [
    {
     "name": "stdout",
     "output_type": "stream",
     "text": [
      "Training ended with a training score of  0.953107267692587\n",
      "Best params:\n",
      "{'subsample': 0.9, 'random_state': 0, 'n_estimators': 50, 'min_samples_split': 16, 'min_samples_leaf': 1, 'max_features': 'log2', 'max_depth': 20, 'loss': 'exponential', 'learning_rate': 0.005336699231206307}\n"
     ]
    },
    {
     "data": {
      "text/plain": [
       "0.9786617886178861"
      ]
     },
     "execution_count": 18,
     "metadata": {},
     "output_type": "execute_result"
    }
   ],
   "source": [
    "param_dist = {\n",
    "    \"n_estimators\" : [50],\n",
    "    \"loss\": [\"deviance\", \"exponential\"],\n",
    "    \"learning_rate\": np.logspace(-5,0,12),\n",
    "    \"max_depth\": [3, 5, 10, 15, 20, 25, 30, None],\n",
    "    \"min_samples_split\": [2, 4, 8, 16, 32, 64],\n",
    "    \"min_samples_leaf\": [1, 2, 4, 8, 16, 32, 64],\n",
    "    \"subsample\" : [0.1, 0.2, 0.5, 0.9, 1],\n",
    "    \"max_features\": [\"sqrt\", \"log2\", None],\n",
    "    \"random_state\": [0]\n",
    "}\n",
    "\n",
    "GradientBoostingTrainer = ModelTrainer(GradientBoostingClassifier(),\n",
    "                               data,\n",
    "                               param_dist)\n",
    "GradientBoostingTrainer.autofit()\n",
    "GradientBoostingTrainer.test()"
   ]
  },
  {
   "cell_type": "code",
   "execution_count": 30,
   "metadata": {},
   "outputs": [
    {
     "data": {
      "image/png": "[encoded data removed]",
      "text/plain": [
       "<Figure size 432x288 with 1 Axes>"
      ]
     },
     "metadata": {
      "needs_background": "light"
     },
     "output_type": "display_data"
    }
   ],
   "source": [
    "GradientBoostingTrainer.plot_roc()"
   ]
  },
  {
   "cell_type": "markdown",
   "metadata": {},
   "source": [
    "### Bagging"
   ]
  },
  {
   "cell_type": "code",
   "execution_count": 19,
   "metadata": {},
   "outputs": [
    {
     "name": "stdout",
     "output_type": "stream",
     "text": [
      "Training ended with a training score of  0.9919932815833674\n",
      "Best params:\n",
      "{'random_state': 0, 'n_estimators': 50, 'max_features': 5, 'bootstrap': False}\n"
     ]
    },
    {
     "data": {
      "text/plain": [
       "0.9707280487804878"
      ]
     },
     "execution_count": 19,
     "metadata": {},
     "output_type": "execute_result"
    }
   ],
   "source": [
    "param_dist = {\n",
    "    \"n_estimators\" : [50],\n",
    "    \"max_features\": [5,10,15,20,25,28],\n",
    "    \"bootstrap\": [True, False],\n",
    "    \"random_state\": [0]\n",
    "}\n",
    "\n",
    "BaggingTrainer = ModelTrainer(BaggingClassifier(),\n",
    "                               data,\n",
    "                               param_dist)\n",
    "BaggingTrainer.autofit()\n",
    "BaggingTrainer.test()"
   ]
  },
  {
   "cell_type": "code",
   "execution_count": 32,
   "metadata": {},
   "outputs": [
    {
     "data": {
      "image/png": "[encoded data removed]",
      "text/plain": [
       "<Figure size 432x288 with 1 Axes>"
      ]
     },
     "metadata": {
      "needs_background": "light"
     },
     "output_type": "display_data"
    }
   ],
   "source": [
    "BaggingTrainer.plot_roc()"
   ]
  },
  {
   "cell_type": "markdown",
   "metadata": {},
   "source": [
    "### XGBClassifier"
   ]
  },
  {
   "cell_type": "code",
   "execution_count": 20,
   "metadata": {},
   "outputs": [
    {
     "name": "stdout",
     "output_type": "stream",
     "text": [
      "[00:20:27] WARNING: C:/Users/Administrator/workspace/xgboost-win64_release_1.3.0/src/learner.cc:1061: Starting in XGBoost 1.3.0, the default evaluation metric used with the objective 'binary:logistic' was changed from 'error' to 'logloss'. Explicitly set eval_metric if you'd like to restore the old behavior.\n",
      "Training ended with a training score of  0.9937090199282764\n",
      "Best params:\n",
      "{'subsample': 0.5, 'reg_lambda': 1, 'random_state': 0, 'n_estimators': 50, 'max_depth': 12, 'gamma': 1e-05, 'colsample_bytree': 0.9}\n"
     ]
    },
    {
     "data": {
      "text/plain": [
       "0.9765951219512194"
      ]
     },
     "execution_count": 20,
     "metadata": {},
     "output_type": "execute_result"
    }
   ],
   "source": [
    "param_dist = {\n",
    "    'n_estimators': [50],\n",
    "    'gamma' : [0, 1e-5, 1e-4, 1e-3, 1e-2, 1e-1, 1, 10, 100],\n",
    "    'max_depth': [6, 9, 12],\n",
    "    'subsample': [0.5, 0.9, 1.0],\n",
    "    'colsample_bytree': [0.5, 0.9, 1.0],\n",
    "    'reg_lambda' : [0, 1e-3, 1e-2, 1e-1, 1, 10, 100],\n",
    "    \"random_state\": [0]\n",
    "}\n",
    "\n",
    "XGBTrainer = ModelTrainer(XGBClassifier(),\n",
    "                               data,\n",
    "                               param_dist)\n",
    "XGBTrainer.autofit()\n",
    "XGBTrainer.test()"
   ]
  },
  {
   "cell_type": "code",
   "execution_count": 33,
   "metadata": {},
   "outputs": [
    {
     "data": {
      "image/png": "[encoded data removed]",
      "text/plain": [
       "<Figure size 432x288 with 1 Axes>"
      ]
     },
     "metadata": {
      "needs_background": "light"
     },
     "output_type": "display_data"
    }
   ],
   "source": [
    "XGBTrainer.plot_roc()"
   ]
  },
  {
   "cell_type": "markdown",
   "metadata": {},
   "source": [
    "### CatBoost"
   ]
  },
  {
   "cell_type": "code",
   "execution_count": 21,
   "metadata": {},
   "outputs": [
    {
     "name": "stdout",
     "output_type": "stream",
     "text": [
      "Learning rate set to 0.091465\n",
      "0:\tlearn: 0.5074295\ttotal: 222ms\tremaining: 44.2s\n",
      "1:\tlearn: 0.3630069\ttotal: 312ms\tremaining: 30.9s\n",
      "2:\tlearn: 0.2687289\ttotal: 410ms\tremaining: 26.9s\n",
      "3:\tlearn: 0.2086471\ttotal: 534ms\tremaining: 26.2s\n",
      "4:\tlearn: 0.1641536\ttotal: 634ms\tremaining: 24.7s\n",
      "5:\tlearn: 0.1319646\ttotal: 720ms\tremaining: 23.3s\n",
      "6:\tlearn: 0.1075806\ttotal: 808ms\tremaining: 22.3s\n",
      "7:\tlearn: 0.0915508\ttotal: 868ms\tremaining: 20.8s\n",
      "8:\tlearn: 0.0783301\ttotal: 934ms\tremaining: 19.8s\n",
      "9:\tlearn: 0.0673570\ttotal: 999ms\tremaining: 19s\n",
      "10:\tlearn: 0.0593309\ttotal: 1.06s\tremaining: 18.3s\n",
      "11:\tlearn: 0.0520908\ttotal: 1.12s\tremaining: 17.6s\n",
      "12:\tlearn: 0.0475838\ttotal: 1.18s\tremaining: 16.9s\n",
      "13:\tlearn: 0.0431341\ttotal: 1.23s\tremaining: 16.3s\n",
      "14:\tlearn: 0.0394892\ttotal: 1.29s\tremaining: 15.9s\n",
      "15:\tlearn: 0.0366928\ttotal: 1.35s\tremaining: 15.5s\n",
      "16:\tlearn: 0.0345257\ttotal: 1.41s\tremaining: 15.1s\n",
      "17:\tlearn: 0.0325865\ttotal: 1.47s\tremaining: 14.9s\n",
      "18:\tlearn: 0.0307819\ttotal: 1.55s\tremaining: 14.8s\n",
      "19:\tlearn: 0.0293927\ttotal: 1.63s\tremaining: 14.6s\n",
      "20:\tlearn: 0.0280306\ttotal: 1.69s\tremaining: 14.4s\n",
      "21:\tlearn: 0.0266103\ttotal: 1.75s\tremaining: 14.1s\n",
      "22:\tlearn: 0.0253336\ttotal: 1.8s\tremaining: 13.9s\n",
      "23:\tlearn: 0.0243308\ttotal: 1.85s\tremaining: 13.6s\n",
      "24:\tlearn: 0.0230719\ttotal: 1.91s\tremaining: 13.4s\n",
      "25:\tlearn: 0.0221506\ttotal: 1.97s\tremaining: 13.2s\n",
      "26:\tlearn: 0.0212353\ttotal: 2.02s\tremaining: 12.9s\n",
      "27:\tlearn: 0.0205267\ttotal: 2.07s\tremaining: 12.7s\n",
      "28:\tlearn: 0.0196808\ttotal: 2.13s\tremaining: 12.5s\n",
      "29:\tlearn: 0.0191511\ttotal: 2.19s\tremaining: 12.4s\n",
      "30:\tlearn: 0.0186602\ttotal: 2.27s\tremaining: 12.4s\n",
      "31:\tlearn: 0.0182165\ttotal: 2.33s\tremaining: 12.3s\n",
      "32:\tlearn: 0.0174244\ttotal: 2.41s\tremaining: 12.2s\n",
      "33:\tlearn: 0.0169676\ttotal: 2.48s\tremaining: 12.1s\n",
      "34:\tlearn: 0.0164429\ttotal: 2.54s\tremaining: 12s\n",
      "35:\tlearn: 0.0159910\ttotal: 2.61s\tremaining: 11.9s\n",
      "36:\tlearn: 0.0153825\ttotal: 2.67s\tremaining: 11.8s\n",
      "37:\tlearn: 0.0150218\ttotal: 2.74s\tremaining: 11.7s\n",
      "38:\tlearn: 0.0147279\ttotal: 2.8s\tremaining: 11.6s\n",
      "39:\tlearn: 0.0143826\ttotal: 2.86s\tremaining: 11.4s\n",
      "40:\tlearn: 0.0140107\ttotal: 2.92s\tremaining: 11.3s\n",
      "41:\tlearn: 0.0137682\ttotal: 2.97s\tremaining: 11.2s\n",
      "42:\tlearn: 0.0134254\ttotal: 3.03s\tremaining: 11.1s\n",
      "43:\tlearn: 0.0132906\ttotal: 3.08s\tremaining: 10.9s\n",
      "44:\tlearn: 0.0131014\ttotal: 3.13s\tremaining: 10.8s\n",
      "45:\tlearn: 0.0127543\ttotal: 3.19s\tremaining: 10.7s\n",
      "46:\tlearn: 0.0125157\ttotal: 3.24s\tremaining: 10.5s\n",
      "47:\tlearn: 0.0122838\ttotal: 3.29s\tremaining: 10.4s\n",
      "48:\tlearn: 0.0121450\ttotal: 3.34s\tremaining: 10.3s\n",
      "49:\tlearn: 0.0118893\ttotal: 3.4s\tremaining: 10.2s\n",
      "50:\tlearn: 0.0118268\ttotal: 3.45s\tremaining: 10.1s\n",
      "51:\tlearn: 0.0116304\ttotal: 3.5s\tremaining: 9.98s\n",
      "52:\tlearn: 0.0112889\ttotal: 3.56s\tremaining: 9.88s\n",
      "53:\tlearn: 0.0109205\ttotal: 3.62s\tremaining: 9.78s\n",
      "54:\tlearn: 0.0106266\ttotal: 3.67s\tremaining: 9.68s\n",
      "55:\tlearn: 0.0104519\ttotal: 3.72s\tremaining: 9.57s\n",
      "56:\tlearn: 0.0101873\ttotal: 3.78s\tremaining: 9.47s\n",
      "57:\tlearn: 0.0100752\ttotal: 3.83s\tremaining: 9.38s\n",
      "58:\tlearn: 0.0098872\ttotal: 3.89s\tremaining: 9.29s\n",
      "59:\tlearn: 0.0096479\ttotal: 3.94s\tremaining: 9.2s\n",
      "60:\tlearn: 0.0095418\ttotal: 4s\tremaining: 9.11s\n",
      "61:\tlearn: 0.0094014\ttotal: 4.05s\tremaining: 9.01s\n",
      "62:\tlearn: 0.0091218\ttotal: 4.1s\tremaining: 8.92s\n",
      "63:\tlearn: 0.0090174\ttotal: 4.16s\tremaining: 8.83s\n",
      "64:\tlearn: 0.0089231\ttotal: 4.21s\tremaining: 8.75s\n",
      "65:\tlearn: 0.0086862\ttotal: 4.27s\tremaining: 8.66s\n",
      "66:\tlearn: 0.0084642\ttotal: 4.32s\tremaining: 8.57s\n",
      "67:\tlearn: 0.0083358\ttotal: 4.37s\tremaining: 8.48s\n",
      "68:\tlearn: 0.0082076\ttotal: 4.42s\tremaining: 8.39s\n",
      "69:\tlearn: 0.0080468\ttotal: 4.47s\tremaining: 8.31s\n",
      "70:\tlearn: 0.0079314\ttotal: 4.53s\tremaining: 8.22s\n",
      "71:\tlearn: 0.0078642\ttotal: 4.58s\tremaining: 8.14s\n",
      "72:\tlearn: 0.0077752\ttotal: 4.63s\tremaining: 8.06s\n",
      "73:\tlearn: 0.0076008\ttotal: 4.69s\tremaining: 7.99s\n",
      "74:\tlearn: 0.0075239\ttotal: 4.75s\tremaining: 7.91s\n",
      "75:\tlearn: 0.0073979\ttotal: 4.8s\tremaining: 7.83s\n",
      "76:\tlearn: 0.0073398\ttotal: 4.86s\tremaining: 7.76s\n",
      "77:\tlearn: 0.0071883\ttotal: 4.91s\tremaining: 7.69s\n",
      "78:\tlearn: 0.0070183\ttotal: 4.97s\tremaining: 7.61s\n",
      "79:\tlearn: 0.0068535\ttotal: 5.03s\tremaining: 7.54s\n",
      "80:\tlearn: 0.0067395\ttotal: 5.08s\tremaining: 7.47s\n",
      "81:\tlearn: 0.0066321\ttotal: 5.14s\tremaining: 7.39s\n",
      "82:\tlearn: 0.0065387\ttotal: 5.19s\tremaining: 7.32s\n",
      "83:\tlearn: 0.0064686\ttotal: 5.24s\tremaining: 7.24s\n",
      "84:\tlearn: 0.0063252\ttotal: 5.32s\tremaining: 7.19s\n",
      "85:\tlearn: 0.0062612\ttotal: 5.37s\tremaining: 7.12s\n",
      "86:\tlearn: 0.0062229\ttotal: 5.42s\tremaining: 7.04s\n",
      "87:\tlearn: 0.0061002\ttotal: 5.48s\tremaining: 6.97s\n",
      "88:\tlearn: 0.0059652\ttotal: 5.53s\tremaining: 6.9s\n",
      "89:\tlearn: 0.0059173\ttotal: 5.59s\tremaining: 6.84s\n",
      "90:\tlearn: 0.0058220\ttotal: 5.65s\tremaining: 6.77s\n",
      "91:\tlearn: 0.0057180\ttotal: 5.71s\tremaining: 6.7s\n",
      "92:\tlearn: 0.0056909\ttotal: 5.77s\tremaining: 6.64s\n",
      "93:\tlearn: 0.0056081\ttotal: 5.83s\tremaining: 6.57s\n",
      "94:\tlearn: 0.0055605\ttotal: 5.88s\tremaining: 6.5s\n",
      "95:\tlearn: 0.0055035\ttotal: 5.95s\tremaining: 6.44s\n",
      "96:\tlearn: 0.0054112\ttotal: 6s\tremaining: 6.38s\n",
      "97:\tlearn: 0.0053760\ttotal: 6.06s\tremaining: 6.3s\n",
      "98:\tlearn: 0.0053129\ttotal: 6.11s\tremaining: 6.23s\n",
      "99:\tlearn: 0.0052035\ttotal: 6.16s\tremaining: 6.16s\n",
      "100:\tlearn: 0.0050993\ttotal: 6.21s\tremaining: 6.09s\n",
      "101:\tlearn: 0.0050636\ttotal: 6.27s\tremaining: 6.02s\n",
      "102:\tlearn: 0.0050062\ttotal: 6.33s\tremaining: 5.96s\n",
      "103:\tlearn: 0.0049103\ttotal: 6.38s\tremaining: 5.89s\n",
      "104:\tlearn: 0.0048205\ttotal: 6.44s\tremaining: 5.83s\n",
      "105:\tlearn: 0.0047935\ttotal: 6.49s\tremaining: 5.76s\n",
      "106:\tlearn: 0.0047128\ttotal: 6.54s\tremaining: 5.69s\n",
      "107:\tlearn: 0.0046522\ttotal: 6.6s\tremaining: 5.62s\n",
      "108:\tlearn: 0.0046435\ttotal: 6.65s\tremaining: 5.55s\n",
      "109:\tlearn: 0.0046013\ttotal: 6.72s\tremaining: 5.5s\n",
      "110:\tlearn: 0.0045314\ttotal: 6.77s\tremaining: 5.43s\n",
      "111:\tlearn: 0.0044675\ttotal: 6.83s\tremaining: 5.36s\n",
      "112:\tlearn: 0.0044397\ttotal: 6.88s\tremaining: 5.3s\n",
      "113:\tlearn: 0.0044003\ttotal: 6.93s\tremaining: 5.23s\n",
      "114:\tlearn: 0.0043820\ttotal: 6.99s\tremaining: 5.16s\n",
      "115:\tlearn: 0.0043307\ttotal: 7.04s\tremaining: 5.1s\n",
      "116:\tlearn: 0.0042905\ttotal: 7.09s\tremaining: 5.03s\n",
      "117:\tlearn: 0.0042766\ttotal: 7.16s\tremaining: 4.97s\n",
      "118:\tlearn: 0.0042676\ttotal: 7.23s\tremaining: 4.92s\n",
      "119:\tlearn: 0.0042006\ttotal: 7.31s\tremaining: 4.87s\n",
      "120:\tlearn: 0.0041245\ttotal: 7.37s\tremaining: 4.81s\n",
      "121:\tlearn: 0.0041208\ttotal: 7.43s\tremaining: 4.75s\n",
      "122:\tlearn: 0.0041168\ttotal: 7.48s\tremaining: 4.68s\n",
      "123:\tlearn: 0.0040735\ttotal: 7.54s\tremaining: 4.62s\n",
      "124:\tlearn: 0.0040659\ttotal: 7.6s\tremaining: 4.56s\n",
      "125:\tlearn: 0.0039813\ttotal: 7.65s\tremaining: 4.49s\n",
      "126:\tlearn: 0.0039119\ttotal: 7.7s\tremaining: 4.42s\n",
      "127:\tlearn: 0.0038357\ttotal: 7.75s\tremaining: 4.36s\n",
      "128:\tlearn: 0.0037950\ttotal: 7.81s\tremaining: 4.3s\n",
      "129:\tlearn: 0.0037663\ttotal: 7.87s\tremaining: 4.24s\n",
      "130:\tlearn: 0.0037138\ttotal: 7.92s\tremaining: 4.17s\n",
      "131:\tlearn: 0.0036825\ttotal: 8s\tremaining: 4.12s\n",
      "132:\tlearn: 0.0036282\ttotal: 8.07s\tremaining: 4.07s\n",
      "133:\tlearn: 0.0035895\ttotal: 8.14s\tremaining: 4.01s\n",
      "134:\tlearn: 0.0035413\ttotal: 8.21s\tremaining: 3.95s\n",
      "135:\tlearn: 0.0035175\ttotal: 8.28s\tremaining: 3.89s\n",
      "136:\tlearn: 0.0034735\ttotal: 8.33s\tremaining: 3.83s\n",
      "137:\tlearn: 0.0034431\ttotal: 8.38s\tremaining: 3.77s\n",
      "138:\tlearn: 0.0034216\ttotal: 8.45s\tremaining: 3.71s\n",
      "139:\tlearn: 0.0033974\ttotal: 8.51s\tremaining: 3.65s\n",
      "140:\tlearn: 0.0033483\ttotal: 8.57s\tremaining: 3.58s\n",
      "141:\tlearn: 0.0033181\ttotal: 8.62s\tremaining: 3.52s\n",
      "142:\tlearn: 0.0033141\ttotal: 8.69s\tremaining: 3.46s\n",
      "143:\tlearn: 0.0032887\ttotal: 8.75s\tremaining: 3.4s\n",
      "144:\tlearn: 0.0032563\ttotal: 8.81s\tremaining: 3.34s\n",
      "145:\tlearn: 0.0032184\ttotal: 8.89s\tremaining: 3.29s\n",
      "146:\tlearn: 0.0031847\ttotal: 8.96s\tremaining: 3.23s\n",
      "147:\tlearn: 0.0031505\ttotal: 9.03s\tremaining: 3.17s\n",
      "148:\tlearn: 0.0031215\ttotal: 9.08s\tremaining: 3.11s\n",
      "149:\tlearn: 0.0031196\ttotal: 9.15s\tremaining: 3.05s\n",
      "150:\tlearn: 0.0030821\ttotal: 9.21s\tremaining: 2.99s\n",
      "151:\tlearn: 0.0030717\ttotal: 9.26s\tremaining: 2.92s\n",
      "152:\tlearn: 0.0030340\ttotal: 9.31s\tremaining: 2.86s\n",
      "153:\tlearn: 0.0030113\ttotal: 9.38s\tremaining: 2.8s\n",
      "154:\tlearn: 0.0029932\ttotal: 9.44s\tremaining: 2.74s\n",
      "155:\tlearn: 0.0029763\ttotal: 9.5s\tremaining: 2.68s\n",
      "156:\tlearn: 0.0029438\ttotal: 9.57s\tremaining: 2.62s\n",
      "157:\tlearn: 0.0029366\ttotal: 9.64s\tremaining: 2.56s\n",
      "158:\tlearn: 0.0029008\ttotal: 9.71s\tremaining: 2.5s\n",
      "159:\tlearn: 0.0028635\ttotal: 9.79s\tremaining: 2.45s\n",
      "160:\tlearn: 0.0028377\ttotal: 9.84s\tremaining: 2.38s\n",
      "161:\tlearn: 0.0027779\ttotal: 9.9s\tremaining: 2.32s\n"
     ]
    },
    {
     "name": "stdout",
     "output_type": "stream",
     "text": [
      "162:\tlearn: 0.0027569\ttotal: 9.97s\tremaining: 2.26s\n",
      "163:\tlearn: 0.0027535\ttotal: 10s\tremaining: 2.2s\n",
      "164:\tlearn: 0.0027509\ttotal: 10.1s\tremaining: 2.14s\n",
      "165:\tlearn: 0.0027292\ttotal: 10.1s\tremaining: 2.07s\n",
      "166:\tlearn: 0.0026999\ttotal: 10.2s\tremaining: 2.01s\n",
      "167:\tlearn: 0.0026974\ttotal: 10.2s\tremaining: 1.95s\n",
      "168:\tlearn: 0.0026704\ttotal: 10.3s\tremaining: 1.89s\n",
      "169:\tlearn: 0.0026349\ttotal: 10.3s\tremaining: 1.82s\n",
      "170:\tlearn: 0.0025941\ttotal: 10.4s\tremaining: 1.76s\n",
      "171:\tlearn: 0.0025563\ttotal: 10.4s\tremaining: 1.7s\n",
      "172:\tlearn: 0.0025064\ttotal: 10.5s\tremaining: 1.64s\n",
      "173:\tlearn: 0.0024748\ttotal: 10.6s\tremaining: 1.58s\n",
      "174:\tlearn: 0.0024579\ttotal: 10.6s\tremaining: 1.52s\n",
      "175:\tlearn: 0.0024351\ttotal: 10.7s\tremaining: 1.46s\n",
      "176:\tlearn: 0.0024170\ttotal: 10.8s\tremaining: 1.4s\n",
      "177:\tlearn: 0.0024155\ttotal: 10.8s\tremaining: 1.34s\n",
      "178:\tlearn: 0.0023876\ttotal: 10.9s\tremaining: 1.28s\n",
      "179:\tlearn: 0.0023862\ttotal: 10.9s\tremaining: 1.21s\n",
      "180:\tlearn: 0.0023630\ttotal: 11s\tremaining: 1.15s\n",
      "181:\tlearn: 0.0023308\ttotal: 11s\tremaining: 1.09s\n",
      "182:\tlearn: 0.0023249\ttotal: 11.1s\tremaining: 1.03s\n",
      "183:\tlearn: 0.0023237\ttotal: 11.1s\tremaining: 966ms\n",
      "184:\tlearn: 0.0023028\ttotal: 11.2s\tremaining: 905ms\n",
      "185:\tlearn: 0.0023017\ttotal: 11.2s\tremaining: 842ms\n",
      "186:\tlearn: 0.0023003\ttotal: 11.2s\tremaining: 781ms\n",
      "187:\tlearn: 0.0022775\ttotal: 11.3s\tremaining: 720ms\n",
      "188:\tlearn: 0.0022714\ttotal: 11.3s\tremaining: 660ms\n",
      "189:\tlearn: 0.0022426\ttotal: 11.4s\tremaining: 599ms\n",
      "190:\tlearn: 0.0022250\ttotal: 11.4s\tremaining: 539ms\n",
      "191:\tlearn: 0.0022239\ttotal: 11.5s\tremaining: 479ms\n",
      "192:\tlearn: 0.0022051\ttotal: 11.5s\tremaining: 418ms\n",
      "193:\tlearn: 0.0021939\ttotal: 11.6s\tremaining: 358ms\n",
      "194:\tlearn: 0.0021840\ttotal: 11.6s\tremaining: 298ms\n",
      "195:\tlearn: 0.0021667\ttotal: 11.7s\tremaining: 238ms\n",
      "196:\tlearn: 0.0021525\ttotal: 11.7s\tremaining: 179ms\n",
      "197:\tlearn: 0.0021187\ttotal: 11.8s\tremaining: 119ms\n",
      "198:\tlearn: 0.0021157\ttotal: 11.8s\tremaining: 59.5ms\n",
      "199:\tlearn: 0.0020998\ttotal: 11.9s\tremaining: 0us\n",
      "Training ended with a training score of  0.9933278859684961\n",
      "Best params:\n",
      "{'random_seed': 42, 'loss_function': 'Logloss', 'iterations': 200, 'depth': 9}\n"
     ]
    },
    {
     "data": {
      "text/plain": [
       "0.984928455284553"
      ]
     },
     "execution_count": 21,
     "metadata": {},
     "output_type": "execute_result"
    }
   ],
   "source": [
    "param_dist = {\n",
    "    'iterations': [200],\n",
    "    'loss_function' : ['Logloss', 'CrossEntropy', 'Tweedie'],\n",
    "    'depth': [3, 6, 9, 12,],\n",
    "    \"random_seed\": [42]\n",
    "}\n",
    "\n",
    "CatBoostTrainer = ModelTrainer(CatBoostClassifier(),\n",
    "                               data,\n",
    "                               param_dist)\n",
    "CatBoostTrainer.autofit()\n",
    "CatBoostTrainer.test()"
   ]
  },
  {
   "cell_type": "code",
   "execution_count": 34,
   "metadata": {},
   "outputs": [
    {
     "data": {
      "image/png": "[encoded data removed]",
      "text/plain": [
       "<Figure size 432x288 with 1 Axes>"
      ]
     },
     "metadata": {
      "needs_background": "light"
     },
     "output_type": "display_data"
    }
   ],
   "source": [
    "CatBoostTrainer.plot_roc()"
   ]
  },
  {
   "cell_type": "markdown",
   "metadata": {},
   "source": [
    "### LightGBM"
   ]
  },
  {
   "cell_type": "code",
   "execution_count": 22,
   "metadata": {},
   "outputs": [
    {
     "name": "stdout",
     "output_type": "stream",
     "text": [
      "[LightGBM] [Warning] Accuracy may be bad since you didn't set num_leaves and 2^max_depth > num_leaves\n",
      "Training ended with a training score of  0.9931372281991921\n",
      "Best params:\n",
      "{'random_state': 0, 'objective': 'binary', 'num_leaves': 31, 'n_estimators': 100, 'min_child_samples': 20, 'max_depth': 16, 'learning_rate': 0.05, 'boosting_type': 'gbdt'}\n"
     ]
    },
    {
     "data": {
      "text/plain": [
       "0.9767268292682927"
      ]
     },
     "execution_count": 22,
     "metadata": {},
     "output_type": "execute_result"
    }
   ],
   "source": [
    "param_dist = {\n",
    "    'boosting_type' : ['gbdt'],\n",
    "    'num_leaves': [31, 21, 26, 16],\n",
    "    'learning_rate': [0.1, 0.05, 0.03],\n",
    "    'max_depth': [8, 16, 32],\n",
    "    'n_estimators': [50, 100, 200],\n",
    "    'min_child_samples': [3, 10, 20],\n",
    "    \"objective\": ['binary'],\n",
    "    \"random_state\": [0]\n",
    "}\n",
    "\n",
    "LGBMTrainer = ModelTrainer(LGBMClassifier(),\n",
    "                               data,\n",
    "                               param_dist)\n",
    "LGBMTrainer.autofit()\n",
    "LGBMTrainer.test()"
   ]
  },
  {
   "cell_type": "code",
   "execution_count": 35,
   "metadata": {},
   "outputs": [
    {
     "data": {
      "image/png": "[encoded data removed]",
      "text/plain": [
       "<Figure size 432x288 with 1 Axes>"
      ]
     },
     "metadata": {
      "needs_background": "light"
     },
     "output_type": "display_data"
    }
   ],
   "source": [
    "LGBMTrainer.plot_roc()"
   ]
  },
  {
   "cell_type": "markdown",
   "metadata": {},
   "source": [
    "### Voting classifier"
   ]
  },
  {
   "cell_type": "code",
   "execution_count": 23,
   "metadata": {},
   "outputs": [],
   "source": [
    "estimators = [\n",
    "    ('RandomForest', RandomForestTrainer.trained_model),\n",
    "    ('ExtraTrees', ExtraTreesTrainer.trained_model),\n",
    "    ('GradientBoosting', GradientBoostingTrainer.trained_model),\n",
    "    ('XGB', XGBTrainer.trained_model),\n",
    "    ('CatBoosting', CatBoostTrainer.trained_model),\n",
    "]"
   ]
  },
  {
   "cell_type": "code",
   "execution_count": 24,
   "metadata": {},
   "outputs": [
    {
     "name": "stdout",
     "output_type": "stream",
     "text": [
      "[00:29:50] WARNING: C:/Users/Administrator/workspace/xgboost-win64_release_1.3.0/src/learner.cc:1061: Starting in XGBoost 1.3.0, the default evaluation metric used with the objective 'binary:logistic' was changed from 'error' to 'logloss'. Explicitly set eval_metric if you'd like to restore the old behavior.\n",
      "Learning rate set to 0.091465\n",
      "0:\tlearn: 0.5074295\ttotal: 62.2ms\tremaining: 12.4s\n",
      "1:\tlearn: 0.3630069\ttotal: 115ms\tremaining: 11.4s\n",
      "2:\tlearn: 0.2687289\ttotal: 167ms\tremaining: 11s\n",
      "3:\tlearn: 0.2086471\ttotal: 224ms\tremaining: 11s\n",
      "4:\tlearn: 0.1641536\ttotal: 283ms\tremaining: 11.1s\n",
      "5:\tlearn: 0.1319646\ttotal: 336ms\tremaining: 10.9s\n",
      "6:\tlearn: 0.1075806\ttotal: 387ms\tremaining: 10.7s\n",
      "7:\tlearn: 0.0915508\ttotal: 441ms\tremaining: 10.6s\n",
      "8:\tlearn: 0.0783301\ttotal: 497ms\tremaining: 10.5s\n",
      "9:\tlearn: 0.0673570\ttotal: 549ms\tremaining: 10.4s\n",
      "10:\tlearn: 0.0593309\ttotal: 601ms\tremaining: 10.3s\n",
      "11:\tlearn: 0.0520908\ttotal: 654ms\tremaining: 10.2s\n",
      "12:\tlearn: 0.0475838\ttotal: 708ms\tremaining: 10.2s\n",
      "13:\tlearn: 0.0431341\ttotal: 765ms\tremaining: 10.2s\n",
      "14:\tlearn: 0.0394892\ttotal: 817ms\tremaining: 10.1s\n",
      "15:\tlearn: 0.0366928\ttotal: 870ms\tremaining: 10s\n",
      "16:\tlearn: 0.0345257\ttotal: 925ms\tremaining: 9.95s\n",
      "17:\tlearn: 0.0325865\ttotal: 980ms\tremaining: 9.91s\n",
      "18:\tlearn: 0.0307819\ttotal: 1.03s\tremaining: 9.84s\n",
      "19:\tlearn: 0.0293927\ttotal: 1.08s\tremaining: 9.75s\n",
      "20:\tlearn: 0.0280306\ttotal: 1.14s\tremaining: 9.68s\n",
      "21:\tlearn: 0.0266103\ttotal: 1.19s\tremaining: 9.65s\n",
      "22:\tlearn: 0.0253336\ttotal: 1.25s\tremaining: 9.58s\n",
      "23:\tlearn: 0.0243308\ttotal: 1.3s\tremaining: 9.51s\n",
      "24:\tlearn: 0.0230719\ttotal: 1.35s\tremaining: 9.45s\n",
      "25:\tlearn: 0.0221506\ttotal: 1.4s\tremaining: 9.4s\n",
      "26:\tlearn: 0.0212353\ttotal: 1.46s\tremaining: 9.34s\n",
      "27:\tlearn: 0.0205267\ttotal: 1.51s\tremaining: 9.3s\n",
      "28:\tlearn: 0.0196808\ttotal: 1.57s\tremaining: 9.26s\n",
      "29:\tlearn: 0.0191511\ttotal: 1.63s\tremaining: 9.21s\n",
      "30:\tlearn: 0.0186602\ttotal: 1.68s\tremaining: 9.14s\n",
      "31:\tlearn: 0.0182165\ttotal: 1.73s\tremaining: 9.07s\n",
      "32:\tlearn: 0.0174244\ttotal: 1.78s\tremaining: 9.03s\n",
      "33:\tlearn: 0.0169676\ttotal: 1.84s\tremaining: 8.96s\n",
      "34:\tlearn: 0.0164429\ttotal: 1.89s\tremaining: 8.9s\n",
      "35:\tlearn: 0.0159910\ttotal: 1.94s\tremaining: 8.84s\n",
      "36:\tlearn: 0.0153825\ttotal: 1.99s\tremaining: 8.78s\n",
      "37:\tlearn: 0.0150218\ttotal: 2.05s\tremaining: 8.74s\n",
      "38:\tlearn: 0.0147279\ttotal: 2.1s\tremaining: 8.66s\n",
      "39:\tlearn: 0.0143826\ttotal: 2.15s\tremaining: 8.6s\n",
      "40:\tlearn: 0.0140107\ttotal: 2.21s\tremaining: 8.55s\n",
      "41:\tlearn: 0.0137682\ttotal: 2.26s\tremaining: 8.51s\n",
      "42:\tlearn: 0.0134254\ttotal: 2.31s\tremaining: 8.45s\n",
      "43:\tlearn: 0.0132906\ttotal: 2.37s\tremaining: 8.38s\n",
      "44:\tlearn: 0.0131014\ttotal: 2.42s\tremaining: 8.34s\n",
      "45:\tlearn: 0.0127543\ttotal: 2.48s\tremaining: 8.3s\n",
      "46:\tlearn: 0.0125157\ttotal: 2.53s\tremaining: 8.24s\n",
      "47:\tlearn: 0.0122838\ttotal: 2.61s\tremaining: 8.25s\n",
      "48:\tlearn: 0.0121450\ttotal: 2.67s\tremaining: 8.23s\n",
      "49:\tlearn: 0.0118893\ttotal: 2.73s\tremaining: 8.2s\n",
      "50:\tlearn: 0.0118268\ttotal: 2.78s\tremaining: 8.14s\n",
      "51:\tlearn: 0.0116304\ttotal: 2.84s\tremaining: 8.09s\n",
      "52:\tlearn: 0.0112889\ttotal: 2.9s\tremaining: 8.03s\n",
      "53:\tlearn: 0.0109205\ttotal: 2.96s\tremaining: 8.01s\n",
      "54:\tlearn: 0.0106266\ttotal: 3.02s\tremaining: 7.98s\n",
      "55:\tlearn: 0.0104519\ttotal: 3.09s\tremaining: 7.95s\n",
      "56:\tlearn: 0.0101873\ttotal: 3.17s\tremaining: 7.94s\n",
      "57:\tlearn: 0.0100752\ttotal: 3.23s\tremaining: 7.9s\n",
      "58:\tlearn: 0.0098872\ttotal: 3.31s\tremaining: 7.91s\n",
      "59:\tlearn: 0.0096479\ttotal: 3.43s\tremaining: 8.01s\n",
      "60:\tlearn: 0.0095418\ttotal: 3.51s\tremaining: 8.01s\n",
      "61:\tlearn: 0.0094014\ttotal: 3.58s\tremaining: 7.97s\n",
      "62:\tlearn: 0.0091218\ttotal: 3.66s\tremaining: 7.96s\n",
      "63:\tlearn: 0.0090174\ttotal: 3.73s\tremaining: 7.94s\n",
      "64:\tlearn: 0.0089231\ttotal: 3.8s\tremaining: 7.88s\n",
      "65:\tlearn: 0.0086862\ttotal: 3.86s\tremaining: 7.83s\n",
      "66:\tlearn: 0.0084642\ttotal: 3.92s\tremaining: 7.78s\n",
      "67:\tlearn: 0.0083358\ttotal: 3.97s\tremaining: 7.71s\n",
      "68:\tlearn: 0.0082076\ttotal: 4.03s\tremaining: 7.65s\n",
      "69:\tlearn: 0.0080468\ttotal: 4.09s\tremaining: 7.59s\n",
      "70:\tlearn: 0.0079314\ttotal: 4.14s\tremaining: 7.53s\n",
      "71:\tlearn: 0.0078642\ttotal: 4.21s\tremaining: 7.48s\n",
      "72:\tlearn: 0.0077752\ttotal: 4.27s\tremaining: 7.43s\n",
      "73:\tlearn: 0.0076008\ttotal: 4.34s\tremaining: 7.4s\n",
      "74:\tlearn: 0.0075239\ttotal: 4.41s\tremaining: 7.35s\n",
      "75:\tlearn: 0.0073979\ttotal: 4.49s\tremaining: 7.32s\n",
      "76:\tlearn: 0.0073398\ttotal: 4.57s\tremaining: 7.29s\n",
      "77:\tlearn: 0.0071883\ttotal: 4.64s\tremaining: 7.26s\n",
      "78:\tlearn: 0.0070183\ttotal: 4.71s\tremaining: 7.21s\n",
      "79:\tlearn: 0.0068535\ttotal: 4.76s\tremaining: 7.14s\n",
      "80:\tlearn: 0.0067395\ttotal: 4.82s\tremaining: 7.08s\n",
      "81:\tlearn: 0.0066321\ttotal: 4.89s\tremaining: 7.04s\n",
      "82:\tlearn: 0.0065387\ttotal: 4.96s\tremaining: 6.99s\n",
      "83:\tlearn: 0.0064686\ttotal: 5.02s\tremaining: 6.93s\n",
      "84:\tlearn: 0.0063252\ttotal: 5.08s\tremaining: 6.87s\n",
      "85:\tlearn: 0.0062612\ttotal: 5.15s\tremaining: 6.82s\n",
      "86:\tlearn: 0.0062229\ttotal: 5.21s\tremaining: 6.77s\n",
      "87:\tlearn: 0.0061002\ttotal: 5.28s\tremaining: 6.72s\n",
      "88:\tlearn: 0.0059652\ttotal: 5.34s\tremaining: 6.66s\n",
      "89:\tlearn: 0.0059173\ttotal: 5.39s\tremaining: 6.59s\n",
      "90:\tlearn: 0.0058220\ttotal: 5.45s\tremaining: 6.53s\n",
      "91:\tlearn: 0.0057180\ttotal: 5.51s\tremaining: 6.47s\n",
      "92:\tlearn: 0.0056909\ttotal: 5.59s\tremaining: 6.43s\n",
      "93:\tlearn: 0.0056081\ttotal: 5.65s\tremaining: 6.37s\n",
      "94:\tlearn: 0.0055605\ttotal: 5.7s\tremaining: 6.3s\n",
      "95:\tlearn: 0.0055035\ttotal: 5.76s\tremaining: 6.24s\n",
      "96:\tlearn: 0.0054112\ttotal: 5.81s\tremaining: 6.17s\n",
      "97:\tlearn: 0.0053760\ttotal: 5.86s\tremaining: 6.1s\n",
      "98:\tlearn: 0.0053129\ttotal: 5.92s\tremaining: 6.03s\n",
      "99:\tlearn: 0.0052035\ttotal: 5.98s\tremaining: 5.98s\n",
      "100:\tlearn: 0.0050993\ttotal: 6.04s\tremaining: 5.92s\n",
      "101:\tlearn: 0.0050636\ttotal: 6.11s\tremaining: 5.87s\n",
      "102:\tlearn: 0.0050062\ttotal: 6.17s\tremaining: 5.81s\n",
      "103:\tlearn: 0.0049103\ttotal: 6.22s\tremaining: 5.74s\n",
      "104:\tlearn: 0.0048205\ttotal: 6.27s\tremaining: 5.67s\n",
      "105:\tlearn: 0.0047935\ttotal: 6.32s\tremaining: 5.61s\n",
      "106:\tlearn: 0.0047128\ttotal: 6.38s\tremaining: 5.55s\n",
      "107:\tlearn: 0.0046522\ttotal: 6.43s\tremaining: 5.48s\n",
      "108:\tlearn: 0.0046435\ttotal: 6.49s\tremaining: 5.42s\n",
      "109:\tlearn: 0.0046013\ttotal: 6.54s\tremaining: 5.35s\n",
      "110:\tlearn: 0.0045314\ttotal: 6.6s\tremaining: 5.29s\n",
      "111:\tlearn: 0.0044675\ttotal: 6.65s\tremaining: 5.22s\n",
      "112:\tlearn: 0.0044397\ttotal: 6.7s\tremaining: 5.16s\n",
      "113:\tlearn: 0.0044003\ttotal: 6.75s\tremaining: 5.1s\n",
      "114:\tlearn: 0.0043820\ttotal: 6.82s\tremaining: 5.04s\n",
      "115:\tlearn: 0.0043307\ttotal: 6.87s\tremaining: 4.97s\n",
      "116:\tlearn: 0.0042905\ttotal: 6.93s\tremaining: 4.92s\n",
      "117:\tlearn: 0.0042766\ttotal: 7s\tremaining: 4.86s\n",
      "118:\tlearn: 0.0042676\ttotal: 7.06s\tremaining: 4.81s\n",
      "119:\tlearn: 0.0042006\ttotal: 7.13s\tremaining: 4.76s\n",
      "120:\tlearn: 0.0041245\ttotal: 7.2s\tremaining: 4.7s\n",
      "121:\tlearn: 0.0041208\ttotal: 7.27s\tremaining: 4.65s\n",
      "122:\tlearn: 0.0041168\ttotal: 7.34s\tremaining: 4.59s\n",
      "123:\tlearn: 0.0040735\ttotal: 7.41s\tremaining: 4.54s\n",
      "124:\tlearn: 0.0040659\ttotal: 7.47s\tremaining: 4.49s\n",
      "125:\tlearn: 0.0039813\ttotal: 7.55s\tremaining: 4.43s\n",
      "126:\tlearn: 0.0039119\ttotal: 7.61s\tremaining: 4.38s\n",
      "127:\tlearn: 0.0038357\ttotal: 7.67s\tremaining: 4.32s\n",
      "128:\tlearn: 0.0037950\ttotal: 7.72s\tremaining: 4.25s\n",
      "129:\tlearn: 0.0037663\ttotal: 7.78s\tremaining: 4.19s\n",
      "130:\tlearn: 0.0037138\ttotal: 7.84s\tremaining: 4.13s\n",
      "131:\tlearn: 0.0036825\ttotal: 7.9s\tremaining: 4.07s\n",
      "132:\tlearn: 0.0036282\ttotal: 7.96s\tremaining: 4.01s\n",
      "133:\tlearn: 0.0035895\ttotal: 8.02s\tremaining: 3.95s\n",
      "134:\tlearn: 0.0035413\ttotal: 8.1s\tremaining: 3.9s\n",
      "135:\tlearn: 0.0035175\ttotal: 8.19s\tremaining: 3.85s\n",
      "136:\tlearn: 0.0034735\ttotal: 8.25s\tremaining: 3.79s\n",
      "137:\tlearn: 0.0034431\ttotal: 8.31s\tremaining: 3.73s\n",
      "138:\tlearn: 0.0034216\ttotal: 8.39s\tremaining: 3.68s\n",
      "139:\tlearn: 0.0033974\ttotal: 8.46s\tremaining: 3.63s\n",
      "140:\tlearn: 0.0033483\ttotal: 8.53s\tremaining: 3.57s\n",
      "141:\tlearn: 0.0033181\ttotal: 8.59s\tremaining: 3.51s\n",
      "142:\tlearn: 0.0033141\ttotal: 8.65s\tremaining: 3.45s\n",
      "143:\tlearn: 0.0032887\ttotal: 8.71s\tremaining: 3.39s\n",
      "144:\tlearn: 0.0032563\ttotal: 8.78s\tremaining: 3.33s\n",
      "145:\tlearn: 0.0032184\ttotal: 8.83s\tremaining: 3.27s\n",
      "146:\tlearn: 0.0031847\ttotal: 8.89s\tremaining: 3.2s\n",
      "147:\tlearn: 0.0031505\ttotal: 8.95s\tremaining: 3.14s\n",
      "148:\tlearn: 0.0031215\ttotal: 9.01s\tremaining: 3.08s\n",
      "149:\tlearn: 0.0031196\ttotal: 9.07s\tremaining: 3.02s\n",
      "150:\tlearn: 0.0030821\ttotal: 9.13s\tremaining: 2.96s\n",
      "151:\tlearn: 0.0030717\ttotal: 9.19s\tremaining: 2.9s\n",
      "152:\tlearn: 0.0030340\ttotal: 9.26s\tremaining: 2.84s\n",
      "153:\tlearn: 0.0030113\ttotal: 9.33s\tremaining: 2.79s\n",
      "154:\tlearn: 0.0029932\ttotal: 9.39s\tremaining: 2.73s\n"
     ]
    },
    {
     "name": "stdout",
     "output_type": "stream",
     "text": [
      "155:\tlearn: 0.0029763\ttotal: 9.45s\tremaining: 2.67s\n",
      "156:\tlearn: 0.0029438\ttotal: 9.5s\tremaining: 2.6s\n",
      "157:\tlearn: 0.0029366\ttotal: 9.56s\tremaining: 2.54s\n",
      "158:\tlearn: 0.0029008\ttotal: 9.62s\tremaining: 2.48s\n",
      "159:\tlearn: 0.0028635\ttotal: 9.68s\tremaining: 2.42s\n",
      "160:\tlearn: 0.0028377\ttotal: 9.74s\tremaining: 2.36s\n",
      "161:\tlearn: 0.0027779\ttotal: 9.8s\tremaining: 2.3s\n",
      "162:\tlearn: 0.0027569\ttotal: 9.87s\tremaining: 2.24s\n",
      "163:\tlearn: 0.0027535\ttotal: 9.93s\tremaining: 2.18s\n",
      "164:\tlearn: 0.0027509\ttotal: 9.99s\tremaining: 2.12s\n",
      "165:\tlearn: 0.0027292\ttotal: 10.1s\tremaining: 2.06s\n",
      "166:\tlearn: 0.0026999\ttotal: 10.1s\tremaining: 2s\n",
      "167:\tlearn: 0.0026974\ttotal: 10.2s\tremaining: 1.94s\n",
      "168:\tlearn: 0.0026704\ttotal: 10.2s\tremaining: 1.88s\n",
      "169:\tlearn: 0.0026349\ttotal: 10.3s\tremaining: 1.81s\n",
      "170:\tlearn: 0.0025941\ttotal: 10.3s\tremaining: 1.75s\n",
      "171:\tlearn: 0.0025563\ttotal: 10.4s\tremaining: 1.69s\n",
      "172:\tlearn: 0.0025064\ttotal: 10.5s\tremaining: 1.63s\n",
      "173:\tlearn: 0.0024748\ttotal: 10.5s\tremaining: 1.57s\n",
      "174:\tlearn: 0.0024579\ttotal: 10.6s\tremaining: 1.51s\n",
      "175:\tlearn: 0.0024351\ttotal: 10.7s\tremaining: 1.45s\n",
      "176:\tlearn: 0.0024170\ttotal: 10.7s\tremaining: 1.39s\n",
      "177:\tlearn: 0.0024155\ttotal: 10.8s\tremaining: 1.33s\n",
      "178:\tlearn: 0.0023876\ttotal: 10.8s\tremaining: 1.27s\n",
      "179:\tlearn: 0.0023862\ttotal: 10.9s\tremaining: 1.21s\n",
      "180:\tlearn: 0.0023630\ttotal: 10.9s\tremaining: 1.15s\n",
      "181:\tlearn: 0.0023308\ttotal: 11s\tremaining: 1.09s\n",
      "182:\tlearn: 0.0023249\ttotal: 11.1s\tremaining: 1.03s\n",
      "183:\tlearn: 0.0023237\ttotal: 11.1s\tremaining: 965ms\n",
      "184:\tlearn: 0.0023028\ttotal: 11.2s\tremaining: 905ms\n",
      "185:\tlearn: 0.0023017\ttotal: 11.2s\tremaining: 843ms\n",
      "186:\tlearn: 0.0023003\ttotal: 11.3s\tremaining: 782ms\n",
      "187:\tlearn: 0.0022775\ttotal: 11.3s\tremaining: 722ms\n",
      "188:\tlearn: 0.0022714\ttotal: 11.4s\tremaining: 661ms\n",
      "189:\tlearn: 0.0022426\ttotal: 11.4s\tremaining: 601ms\n",
      "190:\tlearn: 0.0022250\ttotal: 11.5s\tremaining: 542ms\n",
      "191:\tlearn: 0.0022239\ttotal: 11.6s\tremaining: 481ms\n",
      "192:\tlearn: 0.0022051\ttotal: 11.6s\tremaining: 421ms\n",
      "193:\tlearn: 0.0021939\ttotal: 11.7s\tremaining: 361ms\n",
      "194:\tlearn: 0.0021840\ttotal: 11.7s\tremaining: 301ms\n",
      "195:\tlearn: 0.0021667\ttotal: 11.8s\tremaining: 241ms\n",
      "196:\tlearn: 0.0021525\ttotal: 11.8s\tremaining: 180ms\n",
      "197:\tlearn: 0.0021187\ttotal: 11.9s\tremaining: 120ms\n",
      "198:\tlearn: 0.0021157\ttotal: 12s\tremaining: 60.1ms\n",
      "199:\tlearn: 0.0020998\ttotal: 12s\tremaining: 0us\n",
      "Training ended with a training score of  0.99294638885106\n",
      "Best params:\n",
      "{'voting': 'soft'}\n"
     ]
    },
    {
     "data": {
      "text/plain": [
       "0.9817105691056911"
      ]
     },
     "execution_count": 24,
     "metadata": {},
     "output_type": "execute_result"
    }
   ],
   "source": [
    "param_dist = {\n",
    "    \"voting\" : ['soft']\n",
    "}\n",
    "VotingTrainer = ModelTrainer(VotingClassifier(estimators),\n",
    "                               data,\n",
    "                               param_dist)\n",
    "VotingTrainer.autofit()\n",
    "VotingTrainer.test()"
   ]
  },
  {
   "cell_type": "code",
   "execution_count": 36,
   "metadata": {},
   "outputs": [
    {
     "data": {
      "image/png": "[encoded data removed]",
      "text/plain": [
       "<Figure size 432x288 with 1 Axes>"
      ]
     },
     "metadata": {
      "needs_background": "light"
     },
     "output_type": "display_data"
    }
   ],
   "source": [
    "VotingTrainer.plot_roc()"
   ]
  },
  {
   "cell_type": "markdown",
   "metadata": {},
   "source": [
    "### Stacking Classifier"
   ]
  },
  {
   "cell_type": "code",
   "execution_count": 25,
   "metadata": {},
   "outputs": [],
   "source": [
    "from sklearn.preprocessing import StandardScaler\n",
    "from sklearn.pipeline import make_pipeline\n",
    "\n",
    "estimators = [\n",
    "    ('GradientBoosting', GradientBoostingTrainer.trained_model),\n",
    "    ('ExtraTrees', make_pipeline(StandardScaler(),\n",
    "                                 ExtraTreesTrainer.trained_model)),\n",
    "    ('XGB', make_pipeline(StandardScaler(),\n",
    "                                 XGBTrainer.trained_model)),\n",
    "     ]"
   ]
  },
  {
   "cell_type": "code",
   "execution_count": 26,
   "metadata": {},
   "outputs": [
    {
     "name": "stdout",
     "output_type": "stream",
     "text": [
      "[00:32:55] WARNING: C:/Users/Administrator/workspace/xgboost-win64_release_1.3.0/src/learner.cc:1061: Starting in XGBoost 1.3.0, the default evaluation metric used with the objective 'binary:logistic' was changed from 'error' to 'logloss'. Explicitly set eval_metric if you'd like to restore the old behavior.\n",
      "[00:33:27] WARNING: C:/Users/Administrator/workspace/xgboost-win64_release_1.3.0/src/learner.cc:1061: Starting in XGBoost 1.3.0, the default evaluation metric used with the objective 'binary:logistic' was changed from 'error' to 'logloss'. Explicitly set eval_metric if you'd like to restore the old behavior.\n",
      "[00:33:28] WARNING: C:/Users/Administrator/workspace/xgboost-win64_release_1.3.0/src/learner.cc:1061: Starting in XGBoost 1.3.0, the default evaluation metric used with the objective 'binary:logistic' was changed from 'error' to 'logloss'. Explicitly set eval_metric if you'd like to restore the old behavior.\n",
      "[00:33:29] WARNING: C:/Users/Administrator/workspace/xgboost-win64_release_1.3.0/src/learner.cc:1061: Starting in XGBoost 1.3.0, the default evaluation metric used with the objective 'binary:logistic' was changed from 'error' to 'logloss'. Explicitly set eval_metric if you'd like to restore the old behavior.\n",
      "[00:33:30] WARNING: C:/Users/Administrator/workspace/xgboost-win64_release_1.3.0/src/learner.cc:1061: Starting in XGBoost 1.3.0, the default evaluation metric used with the objective 'binary:logistic' was changed from 'error' to 'logloss'. Explicitly set eval_metric if you'd like to restore the old behavior.\n",
      "[00:33:31] WARNING: C:/Users/Administrator/workspace/xgboost-win64_release_1.3.0/src/learner.cc:1061: Starting in XGBoost 1.3.0, the default evaluation metric used with the objective 'binary:logistic' was changed from 'error' to 'logloss'. Explicitly set eval_metric if you'd like to restore the old behavior.\n",
      "Training ended with a training score of  0.99294638885106\n",
      "Best params:\n",
      "{'final_estimator': LogisticRegression()}\n"
     ]
    },
    {
     "data": {
      "text/plain": [
       "0.9834422764227642"
      ]
     },
     "execution_count": 26,
     "metadata": {},
     "output_type": "execute_result"
    }
   ],
   "source": [
    "param_dist = {\n",
    "    \"final_estimator\" : [LogisticRegression()],\n",
    "}\n",
    "StackingTrainer = ModelTrainer(StackingClassifier(estimators),\n",
    "                               data,\n",
    "                               param_dist)\n",
    "StackingTrainer.autofit()\n",
    "StackingTrainer.test()"
   ]
  },
  {
   "cell_type": "code",
   "execution_count": 37,
   "metadata": {},
   "outputs": [
    {
     "data": {
      "image/png": "[encoded data removed]",
      "text/plain": [
       "<Figure size 432x288 with 1 Axes>"
      ]
     },
     "metadata": {
      "needs_background": "light"
     },
     "output_type": "display_data"
    }
   ],
   "source": [
    "StackingTrainer.plot_roc()"
   ]
  },
  {
   "cell_type": "markdown",
   "metadata": {},
   "source": [
    "<table>\n",
    " <tr><td width=\"80\"><img src=\"img/question.png\" style=\"width:auto;height:auto\"></td><td style=\"text-align:left\">\n",
    "Now create a visualization showing the performance of your supervised models on the test set, together with the unsupervised model. Has the performance improved after making use of the Class data? Which model obtains the best AUC?\n",
    " </td></tr>\n",
    "</table>"
   ]
  },
  {
   "cell_type": "markdown",
   "metadata": {},
   "source": []
  },
  {
   "cell_type": "code",
   "execution_count": null,
   "metadata": {},
   "outputs": [],
   "source": []
  },
  {
   "cell_type": "code",
   "execution_count": null,
   "metadata": {},
   "outputs": [],
   "source": []
  },
  {
   "cell_type": "code",
   "execution_count": null,
   "metadata": {},
   "outputs": [],
   "source": []
  },
  {
   "cell_type": "code",
   "execution_count": null,
   "metadata": {},
   "outputs": [],
   "source": []
  }
 ],
 "metadata": {
  "anaconda-cloud": {},
  "kernelspec": {
   "display_name": "Python 3",
   "language": "python",
   "name": "python3"
  },
  "language_info": {
   "codemirror_mode": {
    "name": "ipython",
    "version": 3
   },
   "file_extension": ".py",
   "mimetype": "text/x-python",
   "name": "python",
   "nbconvert_exporter": "python",
   "pygments_lexer": "ipython3",
   "version": "3.8.0"
  }
 },
 "nbformat": 4,
 "nbformat_minor": 1
}
