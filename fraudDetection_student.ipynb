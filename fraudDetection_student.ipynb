{
 "cells": [
  {
   "cell_type": "markdown",
   "metadata": {
    "nbgrader": {
     "grade": false,
     "locked": false,
     "solution": false
    }
   },
   "source": [
    "# Lab assignment: fraud detection through ensemble methods"
   ]
  },
  {
   "cell_type": "markdown",
   "metadata": {
    "nbgrader": {
     "grade": false,
     "locked": false,
     "solution": false
    }
   },
   "source": [
    "<img src=\"img/fraud.jpg\" style=\"width:600px;\">"
   ]
  },
  {
   "cell_type": "markdown",
   "metadata": {
    "nbgrader": {
     "grade": false,
     "locked": false,
     "solution": false
    }
   },
   "source": [
    "In this assignment we will use all the skills in ensemble learning we acquired from previous exercises to build a an automated fraud detection system."
   ]
  },
  {
   "cell_type": "markdown",
   "metadata": {
    "nbgrader": {
     "grade": false,
     "locked": false,
     "solution": false
    }
   },
   "source": [
    "## Guidelines"
   ]
  },
  {
   "cell_type": "markdown",
   "metadata": {
    "nbgrader": {
     "grade": false,
     "locked": false,
     "solution": false
    }
   },
   "source": [
    "Throughout this notebook you will find empty cells that you will need to fill with your own code. Follow the instructions in the notebook and pay special attention to the following symbols.\n",
    "\n",
    "<table>\n",
    " <tr><td width=\"80\"><img src=\"img/question.png\" style=\"width:auto;height:auto\"></td><td style=\"text-align:left\">You will need to solve a question by writing your own code or answer in the cell immediately below, or in a different file as instructed. Both correctness of the solution and code quality will be taken into account for marking.</td></tr>\n",
    " <tr><td width=\"80\"><img src=\"img/exclamation.png\" style=\"width:auto;height:auto\"></td><td style=\"text-align:left\">This is a hint or useful observation that can help you solve this assignment. You are not expected to write any solution, but you should pay attention to them to understand the assignment.</td></tr>\n",
    " <tr><td width=\"80\"><img src=\"img/pro.png\" style=\"width:auto;height:auto\"></td><td style=\"text-align:left\">This is an advanced and voluntary excercise that can help you gain a deeper knowledge into the topic. This exercise won't be taken into account towards marking, but you are encouraged to undertake it. Good luck!</td></tr>\n",
    "</table>\n",
    "\n",
    "To avoid missing packages and compatibility issues you should run this notebook under one of the [recommended Ensembles environment files](https://github.com/albarji/teaching-environments-ensembles)."
   ]
  },
  {
   "cell_type": "markdown",
   "metadata": {},
   "source": [
    "The following code will embed any plots into the notebook instead of generating a new window:"
   ]
  },
  {
   "cell_type": "code",
   "execution_count": 1,
   "metadata": {},
   "outputs": [],
   "source": [
    "import matplotlib.pyplot as plt\n",
    "import seaborn as sns\n",
    "%matplotlib inline\n",
    "import warnings\n",
    "warnings.filterwarnings('ignore')"
   ]
  },
  {
   "cell_type": "markdown",
   "metadata": {},
   "source": [
    "Lastly, if you need any help on the usage of a Python function you can place the writing cursor over its name and press Shift+Tab to produce a pop-out with related documentation. This will only work inside code cells. \n",
    "\n",
    "Let's go!"
   ]
  },
  {
   "cell_type": "markdown",
   "metadata": {},
   "source": [
    "## Data loading"
   ]
  },
  {
   "cell_type": "markdown",
   "metadata": {},
   "source": [
    "The data for this problem is included in the *data* folder, with separate files for training and test data. Each file includes several unidentified explanatory features, together with an \"Amount\" feature and the target \"Class\". Fraudulent operations are marked as Class == 1."
   ]
  },
  {
   "cell_type": "markdown",
   "metadata": {},
   "source": [
    "<table>\n",
    " <tr><td width=\"80\"><img src=\"img/question.png\" style=\"width:auto;height:auto\"></td><td style=\"text-align:left\">\n",
    "     Load the training and test data into Pandas DataFrames with names <b>train</b> and <b>test</b>, respectively.\n",
    " </td></tr>\n",
    "</table>"
   ]
  },
  {
   "cell_type": "code",
   "execution_count": 2,
   "metadata": {},
   "outputs": [],
   "source": [
    "import numpy as np\n",
    "import pandas as pd"
   ]
  },
  {
   "cell_type": "code",
   "execution_count": 3,
   "metadata": {},
   "outputs": [],
   "source": [
    "train = pd.read_csv(\"data/fraud_train.csv\")\n",
    "test = pd.read_csv(\"data/fraud_test.csv\")"
   ]
  },
  {
   "cell_type": "markdown",
   "metadata": {},
   "source": [
    "<table>\n",
    " <tr><td width=\"80\"><img src=\"img/question.png\" style=\"width:auto;height:auto\"></td><td style=\"text-align:left\">\n",
    "Perform a brief analysis of the training data to answer the following questions: how many explanatory variables do you have? What is the distribution of classes?\n",
    " </td></tr>\n",
    "</table>"
   ]
  },
  {
   "cell_type": "code",
   "execution_count": 4,
   "metadata": {},
   "outputs": [
    {
     "name": "stdout",
     "output_type": "stream",
     "text": [
      "Number of explanatory columns:  29\n",
      "Total training class \"0\":  5000\n",
      "Total training class \"1\":  246\n",
      "1's ratio in training:  0.04689287075867327\n",
      "Total test class \"0\":  5000\n",
      "Total test class \"1\":  246\n",
      "1's ratio in test:  0.04689287075867327\n"
     ]
    }
   ],
   "source": [
    "print('Number of explanatory columns: ', len(train.columns) - 1)\n",
    "print('Total training class \"0\": ', sum(train[\"Class\"] == 0))\n",
    "print('Total training class \"1\": ', sum(train[\"Class\"] == 1))\n",
    "print(\"1's ratio in training: \", sum(train[\"Class\"] == 1)/(sum(train[\"Class\"] == 1) + sum(train[\"Class\"] == 0)))\n",
    "print('Total test class \"0\": ', sum(test[\"Class\"] == 0))\n",
    "print('Total test class \"1\": ', sum(test[\"Class\"] == 1))\n",
    "print(\"1's ratio in test: \", sum(test[\"Class\"] == 1)/(sum(test[\"Class\"] == 1) + sum(test[\"Class\"] == 0)))"
   ]
  },
  {
   "cell_type": "markdown",
   "metadata": {},
   "source": [
    "## Measuring the performance of a fraud detector"
   ]
  },
  {
   "cell_type": "markdown",
   "metadata": {},
   "source": [
    "Fraudulent activities are usually prosecuted, therefore fraudsters need to be creative and come up constantly with new ways of performing fraud. Furthermore, frauds are scarce (fortunately), and so we have few positive class patterns available for training. This means the problem is highly unbalanced, which is a problem for training good models, but is also a problem for the model evaluation. \n",
    "\n",
    "Consider a dumb model that classifies all data as negative (non-fraud). We can simulate the predictions of this model by creating a predictions vector of all zeros:"
   ]
  },
  {
   "cell_type": "code",
   "execution_count": 5,
   "metadata": {},
   "outputs": [],
   "source": [
    "dumbpreds = [0] * len(test)"
   ]
  },
  {
   "cell_type": "markdown",
   "metadata": {},
   "source": [
    "Let's measure the accuracy of this model"
   ]
  },
  {
   "cell_type": "code",
   "execution_count": 6,
   "metadata": {},
   "outputs": [
    {
     "data": {
      "text/plain": [
       "0.9531071292413267"
      ]
     },
     "execution_count": 6,
     "metadata": {},
     "output_type": "execute_result"
    }
   ],
   "source": [
    "from sklearn.metrics import accuracy_score\n",
    "\n",
    "accuracy_score(test[\"Class\"], dumbpreds)"
   ]
  },
  {
   "cell_type": "markdown",
   "metadata": {},
   "source": [
    "Yo should have obtained a 95% of accuracy, because most of the patterns are indeed negative. But this would be totally useless as a fraud detector! Therefore, we need a better metric.\n",
    "\n",
    "One that works well for heavily unbalanced problems is the [area under the ROC curve](https://en.wikipedia.org/wiki/Receiver_operating_characteristic), or AUC in short. In scikit-learn this metric is readily available, and we can test how this reveals the poor performance of this dumb model"
   ]
  },
  {
   "cell_type": "code",
   "execution_count": 7,
   "metadata": {},
   "outputs": [
    {
     "data": {
      "text/plain": [
       "0.5"
      ]
     },
     "execution_count": 7,
     "metadata": {},
     "output_type": "execute_result"
    }
   ],
   "source": [
    "from sklearn.metrics import roc_auc_score\n",
    "\n",
    "roc_auc_score(test[\"Class\"], dumbpreds)"
   ]
  },
  {
   "cell_type": "markdown",
   "metadata": {},
   "source": [
    "An AUC of 50% means the model is no better than a random guess. We should aim to maximize this metric and attain a 100%, meaning all fraudulent patterns obtain higher scores than non-fraud patterns."
   ]
  },
  {
   "cell_type": "markdown",
   "metadata": {},
   "source": [
    "## Unsupervised fraud detector"
   ]
  },
  {
   "cell_type": "markdown",
   "metadata": {},
   "source": [
    "Since we now we have scarce positive data, it might make sense to start building an unsupervised fraud detector."
   ]
  },
  {
   "cell_type": "markdown",
   "metadata": {},
   "source": [
    "<table>\n",
    " <tr><td width=\"80\"><img src=\"img/question.png\" style=\"width:auto;height:auto\"></td><td style=\"text-align:left\">\n",
    "     Using <b>only the training data</b>, create an Isolation Forest model for anomaly detection. You can use the number of positive patterns in the data to adjust the contamination ratio. Then measure the performance of the model on the test set, in terms of AUC score.\n",
    " </td></tr>\n",
    "</table>"
   ]
  },
  {
   "cell_type": "markdown",
   "metadata": {},
   "source": [
    "<table>\n",
    " <tr><td width=\"80\"><img src=\"img/exclamation.png\" style=\"width:auto;height:auto\"></td><td style=\"text-align:left\">\n",
    "     Note the roc_auc_score metric must receive <b>positive class probabilities</b>. It is not possible to obtain these probabilities from an IsolationForest model, but you can make use of its decision_function method to obtain normality scores (average tree depth), which can be negated to obtain positive class scores.\n",
    " </td></tr>\n",
    "</table>"
   ]
  },
  {
   "cell_type": "code",
   "execution_count": 8,
   "metadata": {
    "scrolled": true
   },
   "outputs": [],
   "source": [
    "X_train = train.loc[:, train.columns != \"Class\"]\n",
    "y_train = train.loc[:, train.columns == \"Class\"]\n",
    "\n",
    "X_test = test.loc[:, test.columns != \"Class\"]\n",
    "y_test = test.loc[:, test.columns == \"Class\"]\n",
    "\n",
    "data = {\n",
    "    'X_train': X_train,\n",
    "    'y_train': y_train,\n",
    "    'X_test': X_test,\n",
    "    'y_test': y_test\n",
    "}"
   ]
  },
  {
   "cell_type": "code",
   "execution_count": 9,
   "metadata": {},
   "outputs": [],
   "source": [
    "from sklearn.ensemble import IsolationForest"
   ]
  },
  {
   "cell_type": "code",
   "execution_count": 10,
   "metadata": {},
   "outputs": [
    {
     "data": {
      "text/plain": [
       "IsolationForest(contamination=0.04689287075867327, random_state=0)"
      ]
     },
     "execution_count": 10,
     "metadata": {},
     "output_type": "execute_result"
    }
   ],
   "source": [
    "isoforest = IsolationForest(contamination = 0.04689287075867327, random_state = 0)\n",
    "isoforest.fit(X_train)"
   ]
  },
  {
   "cell_type": "code",
   "execution_count": 11,
   "metadata": {},
   "outputs": [
    {
     "data": {
      "text/plain": [
       "0.933129268292683"
      ]
     },
     "execution_count": 11,
     "metadata": {},
     "output_type": "execute_result"
    }
   ],
   "source": [
    "y_pred_score = isoforest.decision_function(X_test)*(-1)\n",
    "roc_auc_score(y_test,y_pred_score)"
   ]
  },
  {
   "cell_type": "markdown",
   "metadata": {},
   "source": [
    "<table>\n",
    " <tr><td width=\"80\"><img src=\"img/question.png\" style=\"width:auto;height:auto\"></td><td style=\"text-align:left\">\n",
    "Create a visualization showing the performance of this model over the test data. Suggestion: make use of the <a href=https://scikit-learn.org/stable/auto_examples/model_selection/plot_roc.html>ROC plot portrayed in the scikit-learn docs</a>\n",
    " </td></tr>\n",
    "</table>"
   ]
  },
  {
   "cell_type": "code",
   "execution_count": 12,
   "metadata": {},
   "outputs": [
    {
     "data": {
      "image/png": "[encoded data removed]",
      "text/plain": [
       "<Figure size 432x288 with 1 Axes>"
      ]
     },
     "metadata": {
      "needs_background": "light"
     },
     "output_type": "display_data"
    }
   ],
   "source": [
    "from sklearn.metrics import roc_curve, auc\n",
    "fpr = []\n",
    "tpr = []\n",
    "roc_auc = []\n",
    "\n",
    "fpr, tpr, _ = roc_curve(y_test, y_pred_score, pos_label=1)\n",
    "roc_auc = auc(fpr, tpr)\n",
    "\n",
    "lw = 2\n",
    "plt.plot(fpr, tpr, color='darkorange',\n",
    "         lw=lw, label='ROC curve (area = %0.2f)' % roc_auc)\n",
    "plt.plot([0, 1], [0, 1], color='navy', lw=lw, linestyle='--')\n",
    "plt.xlim([-0.01, 1.0])\n",
    "plt.ylim([0.0, 1.01])\n",
    "plt.xlabel('False Positive Rate')\n",
    "plt.ylabel('True Positive Rate')\n",
    "plt.title('ROC')\n",
    "plt.legend(loc=\"lower right\")\n",
    "plt.show()"
   ]
  },
  {
   "cell_type": "markdown",
   "metadata": {},
   "source": [
    "## Supervised models"
   ]
  },
  {
   "cell_type": "markdown",
   "metadata": {},
   "source": [
    "<table>\n",
    " <tr><td width=\"80\"><img src=\"img/question.png\" style=\"width:auto;height:auto\"></td><td style=\"text-align:left\">\n",
    "Let's check now whether we can improve the results using supervised models, that is, models that exploit the Class information available in the training data. Try <b>at least five</b> ensemble-based classification models, <b>using only the data in the training set</b>.\n",
    " </td></tr>\n",
    "</table>"
   ]
  },
  {
   "cell_type": "markdown",
   "metadata": {},
   "source": [
    "<table>\n",
    " <tr><td width=\"80\"><img src=\"img/exclamation.png\" style=\"width:auto;height:auto\"></td><td style=\"text-align:left\">\n",
    "Some suggestions on the scikit-learn models you can use are: Random Forest, Extra Trees, AdaBoost, Gradient Boosting,  Bagging, Voting and Stacking. You can also use an XGBClassifier, also included in this environment.\n",
    " </td></tr>\n",
    "</table>"
   ]
  },
  {
   "cell_type": "markdown",
   "metadata": {},
   "source": [
    "<table>\n",
    " <tr><td width=\"80\"><img src=\"img/pro.png\" style=\"width:auto;height:auto\"></td><td style=\"text-align:left\">\n",
    "     Bonus points will we awarded for:\n",
    "     <ul>\n",
    "         <li>Trying more ensemble strategies beyond the minimum requirement of five.</li>\n",
    "         <li>Improving the AUC score of your best model as much as possible.</li>\n",
    "         <li>Trying <a href=https://catboost.ai/>CatBoost</a> and/or <a href=https://lightgbm.readthedocs.io/en/latest/>LightGBM</a>, other two popular ensemble methods. Note you will need to install these in your environment.</li>\n",
    "     </ul>\n",
    " </td></tr>\n",
    "</table>"
   ]
  },
  {
   "cell_type": "code",
   "execution_count": 20,
   "metadata": {},
   "outputs": [],
   "source": [
    "from sklearn.ensemble import (RandomForestClassifier,\n",
    "                              ExtraTreesClassifier,\n",
    "                              AdaBoostClassifier,\n",
    "                              GradientBoostingClassifier,\n",
    "                              BaggingClassifier,\n",
    "                              VotingClassifier,\n",
    "                              StackingClassifier)\n",
    "from sklearn.linear_model import LogisticRegression\n",
    "\n",
    "from xgboost import XGBClassifier\n",
    "\n",
    "from catboost import CatBoostClassifier\n",
    "\n",
    "from lightgbm import LGBMClassifier\n",
    "\n",
    "from sklearn.model_selection import GridSearchCV, RandomizedSearchCV"
   ]
  },
  {
   "cell_type": "markdown",
   "metadata": {},
   "source": [
    "## Model Trainer"
   ]
  },
  {
   "cell_type": "code",
   "execution_count": 21,
   "metadata": {},
   "outputs": [],
   "source": [
    "class ModelTrainer:\n",
    "\n",
    "    def __init__(self, model, data, params_dist):\n",
    "\n",
    "        self.X_train = data['X_train']\n",
    "        self.y_train = data['y_train']\n",
    "        self.X_test = data['X_test']\n",
    "        self.y_test = data['y_test']\n",
    "        \n",
    "        self.model = model\n",
    "        self.params_dist = params_dist\n",
    "    \n",
    "    \n",
    "    def autofit(self, n_iter=1):\n",
    "\n",
    "\n",
    "        trained_model = RandomizedSearchCV(\n",
    "                                               self.model,\n",
    "                                               self.params_dist,\n",
    "                                               n_iter = n_iter,\n",
    "                                               n_jobs = 3,\n",
    "                                               random_state = 0,\n",
    "                                               )\n",
    "            \n",
    "            \n",
    "        trained_model.fit(self.X_train, self.y_train)\n",
    "\n",
    "        self.trained_model = trained_model\n",
    "        self.best_score = trained_model.score(self.X_test, self.y_test)\n",
    "\n",
    "        print('Training ended with a training score of ', trained_model.best_score_)\n",
    "        print('Best params:')\n",
    "        print(trained_model.best_params_)\n",
    "\n",
    "        return trained_model\n",
    "\n",
    "    \n",
    "    def test(self):\n",
    "        \n",
    "        if self.trained_model:\n",
    "            preds = self.trained_model.predict_proba(self.X_test)\n",
    "            preds_1 = [row[1] for row in preds]\n",
    "            \n",
    "            auc = roc_auc_score(self.y_test, preds_1)\n",
    "            self.auc = auc\n",
    "            \n",
    "            fpr, tpr, _ = roc_curve(self.y_test, preds_1, pos_label=1)\n",
    "            self.fpr = fpr\n",
    "            self.tpr = tpr\n",
    "            \n",
    "            return auc\n",
    "        \n",
    "        else:\n",
    "            raise Exception('Model not fitted. Try the .autofit method.')\n",
    "        \n",
    "        \n",
    "    def plot_roc(self):\n",
    "        if self.fpr.any():\n",
    "            lw = 2\n",
    "            plt.plot(self.fpr, self.tpr, color='darkorange',\n",
    "                     lw=lw, label='ROC curve (area = %0.2f)' % self.auc)\n",
    "            plt.plot([0, 1], [0, 1], color='navy', lw=lw, linestyle='--')\n",
    "            plt.xlim([-0.01, 1.0])\n",
    "            plt.ylim([0.0, 1.01])\n",
    "            plt.xlabel('False Positive Rate')\n",
    "            plt.ylabel('True Positive Rate')\n",
    "            plt.title('ROC')\n",
    "            plt.legend(loc=\"lower right\")\n",
    "            plt.show()\n",
    "        else:\n",
    "            raise Exception('Model not tested. Try the .test method.')\n"
   ]
  },
  {
   "cell_type": "markdown",
   "metadata": {},
   "source": [
    "### Random Forest Classifier"
   ]
  },
  {
   "cell_type": "code",
   "execution_count": 22,
   "metadata": {},
   "outputs": [
    {
     "name": "stdout",
     "output_type": "stream",
     "text": [
      "Training ended with a training score of  0.9881812156702529\n",
      "Best params:\n",
      "{'random_state': 0, 'n_estimators': 50, 'min_samples_split': 8, 'min_samples_leaf': 1, 'max_features': None, 'max_depth': 25, 'criterion': 'gini', 'bootstrap': False}\n"
     ]
    },
    {
     "data": {
      "text/plain": [
       "0.9397719512195123"
      ]
     },
     "execution_count": 22,
     "metadata": {},
     "output_type": "execute_result"
    }
   ],
   "source": [
    "param_dist = {\n",
    "    \"n_estimators\" : [50],\n",
    "    \"max_depth\": [3, 5, 10, 15, 20, 25, 30, None],\n",
    "    \"max_features\": [\"sqrt\", \"log2\", None],\n",
    "    \"min_samples_split\": [2, 4, 8, 16, 32, 64],\n",
    "    \"min_samples_leaf\": [1, 2, 4, 8, 16, 32, 64],\n",
    "    \"bootstrap\": [True, False],\n",
    "    \"criterion\": [\"gini\", \"entropy\"],\n",
    "    \"random_state\": [0]\n",
    "}\n",
    "\n",
    "RandomForestTrainer = ModelTrainer(RandomForestClassifier(),\n",
    "                                   data,\n",
    "                                   param_dist)\n",
    "RandomForestTrainer.autofit(1)\n",
    "RandomForestTrainer.test()"
   ]
  },
  {
   "cell_type": "code",
   "execution_count": 23,
   "metadata": {},
   "outputs": [
    {
     "data": {
      "image/png": "[encoded data removed]",
      "text/plain": [
       "<Figure size 432x288 with 1 Axes>"
      ]
     },
     "metadata": {
      "needs_background": "light"
     },
     "output_type": "display_data"
    }
   ],
   "source": [
    "RandomForestTrainer.plot_roc()"
   ]
  },
  {
   "cell_type": "markdown",
   "metadata": {},
   "source": [
    "### Extra trees"
   ]
  },
  {
   "cell_type": "code",
   "execution_count": 24,
   "metadata": {},
   "outputs": [
    {
     "name": "stdout",
     "output_type": "stream",
     "text": [
      "Training ended with a training score of  0.9931370466203642\n",
      "Best params:\n",
      "{'random_state': 0, 'n_estimators': 50, 'min_samples_split': 8, 'min_samples_leaf': 1, 'max_features': None, 'max_depth': 25, 'criterion': 'gini', 'bootstrap': False}\n"
     ]
    },
    {
     "data": {
      "text/plain": [
       "0.9815036585365853"
      ]
     },
     "execution_count": 24,
     "metadata": {},
     "output_type": "execute_result"
    }
   ],
   "source": [
    "param_dist = {\n",
    "    \"n_estimators\" : [50],\n",
    "    \"max_depth\": [3, 5, 10, 15, 20, 25, 30, None],\n",
    "    \"max_features\": [\"sqrt\", \"log2\", None],\n",
    "    \"min_samples_split\": [2, 4, 8, 16, 32, 64],\n",
    "    \"min_samples_leaf\": [1, 2, 4, 8, 16, 32, 64],\n",
    "    \"bootstrap\": [True, False],\n",
    "    \"criterion\": [\"gini\", \"entropy\"],\n",
    "    \"random_state\": [0]\n",
    "}\n",
    "\n",
    "ExtraTreesTrainer = ModelTrainer(ExtraTreesClassifier(),\n",
    "                                   data,\n",
    "                                   param_dist)\n",
    "ExtraTreesTrainer.autofit()\n",
    "ExtraTreesTrainer.test()"
   ]
  },
  {
   "cell_type": "code",
   "execution_count": 25,
   "metadata": {},
   "outputs": [
    {
     "data": {
      "image/png": "[encoded data removed]",
      "text/plain": [
       "<Figure size 432x288 with 1 Axes>"
      ]
     },
     "metadata": {
      "needs_background": "light"
     },
     "output_type": "display_data"
    }
   ],
   "source": [
    "ExtraTreesTrainer.plot_roc()"
   ]
  },
  {
   "cell_type": "markdown",
   "metadata": {},
   "source": [
    "### AdaBoost"
   ]
  },
  {
   "cell_type": "code",
   "execution_count": 26,
   "metadata": {
    "scrolled": true
   },
   "outputs": [
    {
     "name": "stdout",
     "output_type": "stream",
     "text": [
      "Training ended with a training score of  0.9872282899813882\n",
      "Best params:\n",
      "{'random_state': 0, 'n_estimators': 50, 'learning_rate': 0.005336699231206307}\n"
     ]
    },
    {
     "data": {
      "text/plain": [
       "0.9185256097560976"
      ]
     },
     "execution_count": 26,
     "metadata": {},
     "output_type": "execute_result"
    }
   ],
   "source": [
    "param_dist = {\n",
    "    \"n_estimators\" : [50],\n",
    "    \"learning_rate\": np.logspace(-5,0,12),\n",
    "    \"random_state\": [0]\n",
    "}\n",
    "\n",
    "AdaBoostTrainer = ModelTrainer(AdaBoostClassifier(),\n",
    "                               data,\n",
    "                               param_dist)\n",
    "AdaBoostTrainer.autofit()\n",
    "AdaBoostTrainer.test()"
   ]
  },
  {
   "cell_type": "code",
   "execution_count": 27,
   "metadata": {},
   "outputs": [
    {
     "data": {
      "image/png": "[encoded data removed]",
      "text/plain": [
       "<Figure size 432x288 with 1 Axes>"
      ]
     },
     "metadata": {
      "needs_background": "light"
     },
     "output_type": "display_data"
    }
   ],
   "source": [
    "AdaBoostTrainer.plot_roc()"
   ]
  },
  {
   "cell_type": "markdown",
   "metadata": {},
   "source": [
    "### Gradient Boosting"
   ]
  },
  {
   "cell_type": "code",
   "execution_count": 28,
   "metadata": {},
   "outputs": [
    {
     "name": "stdout",
     "output_type": "stream",
     "text": [
      "Training ended with a training score of  0.953107267692587\n",
      "Best params:\n",
      "{'subsample': 0.9, 'random_state': 0, 'n_estimators': 50, 'min_samples_split': 16, 'min_samples_leaf': 1, 'max_features': 'log2', 'max_depth': 20, 'loss': 'exponential', 'learning_rate': 0.005336699231206307}\n"
     ]
    },
    {
     "data": {
      "text/plain": [
       "0.9786617886178861"
      ]
     },
     "execution_count": 28,
     "metadata": {},
     "output_type": "execute_result"
    }
   ],
   "source": [
    "param_dist = {\n",
    "    \"n_estimators\" : [50],\n",
    "    \"loss\": [\"deviance\", \"exponential\"],\n",
    "    \"learning_rate\": np.logspace(-5,0,12),\n",
    "    \"max_depth\": [3, 5, 10, 15, 20, 25, 30, None],\n",
    "    \"min_samples_split\": [2, 4, 8, 16, 32, 64],\n",
    "    \"min_samples_leaf\": [1, 2, 4, 8, 16, 32, 64],\n",
    "    \"subsample\" : [0.1, 0.2, 0.5, 0.9, 1],\n",
    "    \"max_features\": [\"sqrt\", \"log2\", None],\n",
    "    \"random_state\": [0]\n",
    "}\n",
    "\n",
    "GradientBoostingTrainer = ModelTrainer(GradientBoostingClassifier(),\n",
    "                               data,\n",
    "                               param_dist)\n",
    "GradientBoostingTrainer.autofit()\n",
    "GradientBoostingTrainer.test()"
   ]
  },
  {
   "cell_type": "code",
   "execution_count": 29,
   "metadata": {},
   "outputs": [
    {
     "data": {
      "image/png": "[encoded data removed]",
      "text/plain": [
       "<Figure size 432x288 with 1 Axes>"
      ]
     },
     "metadata": {
      "needs_background": "light"
     },
     "output_type": "display_data"
    }
   ],
   "source": [
    "GradientBoostingTrainer.plot_roc()"
   ]
  },
  {
   "cell_type": "markdown",
   "metadata": {},
   "source": [
    "### Bagging"
   ]
  },
  {
   "cell_type": "code",
   "execution_count": 30,
   "metadata": {},
   "outputs": [
    {
     "name": "stdout",
     "output_type": "stream",
     "text": [
      "Training ended with a training score of  0.9919932815833674\n",
      "Best params:\n",
      "{'random_state': 0, 'n_estimators': 50, 'max_features': 5, 'bootstrap': False}\n"
     ]
    },
    {
     "data": {
      "text/plain": [
       "0.9707280487804878"
      ]
     },
     "execution_count": 30,
     "metadata": {},
     "output_type": "execute_result"
    }
   ],
   "source": [
    "param_dist = {\n",
    "    \"n_estimators\" : [50],\n",
    "    \"max_features\": [5,10,15,20,25,28],\n",
    "    \"bootstrap\": [True, False],\n",
    "    \"random_state\": [0]\n",
    "}\n",
    "\n",
    "BaggingTrainer = ModelTrainer(BaggingClassifier(),\n",
    "                               data,\n",
    "                               param_dist)\n",
    "BaggingTrainer.autofit()\n",
    "BaggingTrainer.test()"
   ]
  },
  {
   "cell_type": "code",
   "execution_count": 31,
   "metadata": {},
   "outputs": [
    {
     "data": {
      "image/png": "[encoded data removed]",
      "text/plain": [
       "<Figure size 432x288 with 1 Axes>"
      ]
     },
     "metadata": {
      "needs_background": "light"
     },
     "output_type": "display_data"
    }
   ],
   "source": [
    "BaggingTrainer.plot_roc()"
   ]
  },
  {
   "cell_type": "markdown",
   "metadata": {},
   "source": [
    "### XGBClassifier"
   ]
  },
  {
   "cell_type": "code",
   "execution_count": 32,
   "metadata": {},
   "outputs": [
    {
     "name": "stdout",
     "output_type": "stream",
     "text": [
      "[11:36:31] WARNING: C:/Users/Administrator/workspace/xgboost-win64_release_1.3.0/src/learner.cc:1061: Starting in XGBoost 1.3.0, the default evaluation metric used with the objective 'binary:logistic' was changed from 'error' to 'logloss'. Explicitly set eval_metric if you'd like to restore the old behavior.\n",
      "Training ended with a training score of  0.9937090199282764\n",
      "Best params:\n",
      "{'subsample': 0.5, 'reg_lambda': 1, 'random_state': 0, 'n_estimators': 50, 'max_depth': 12, 'gamma': 1e-05, 'colsample_bytree': 0.9}\n"
     ]
    },
    {
     "data": {
      "text/plain": [
       "0.9765951219512194"
      ]
     },
     "execution_count": 32,
     "metadata": {},
     "output_type": "execute_result"
    }
   ],
   "source": [
    "param_dist = {\n",
    "    'n_estimators': [50],\n",
    "    'gamma' : [0, 1e-5, 1e-4, 1e-3, 1e-2, 1e-1, 1, 10, 100],\n",
    "    'max_depth': [6, 9, 12],\n",
    "    'subsample': [0.5, 0.9, 1.0],\n",
    "    'colsample_bytree': [0.5, 0.9, 1.0],\n",
    "    'reg_lambda' : [0, 1e-3, 1e-2, 1e-1, 1, 10, 100],\n",
    "    \"random_state\": [0]\n",
    "}\n",
    "\n",
    "XGBTrainer = ModelTrainer(XGBClassifier(),\n",
    "                               data,\n",
    "                               param_dist)\n",
    "XGBTrainer.autofit()\n",
    "XGBTrainer.test()"
   ]
  },
  {
   "cell_type": "code",
   "execution_count": 33,
   "metadata": {},
   "outputs": [
    {
     "data": {
      "image/png": "[encoded data removed]",
      "text/plain": [
       "<Figure size 432x288 with 1 Axes>"
      ]
     },
     "metadata": {
      "needs_background": "light"
     },
     "output_type": "display_data"
    }
   ],
   "source": [
    "XGBTrainer.plot_roc()"
   ]
  },
  {
   "cell_type": "markdown",
   "metadata": {},
   "source": [
    "### CatBoost"
   ]
  },
  {
   "cell_type": "code",
   "execution_count": 34,
   "metadata": {},
   "outputs": [
    {
     "name": "stdout",
     "output_type": "stream",
     "text": [
      "Learning rate set to 0.091465\n",
      "0:\tlearn: 0.5074295\ttotal: 224ms\tremaining: 44.6s\n",
      "1:\tlearn: 0.3630069\ttotal: 295ms\tremaining: 29.2s\n",
      "2:\tlearn: 0.2687289\ttotal: 350ms\tremaining: 23s\n",
      "3:\tlearn: 0.2086471\ttotal: 413ms\tremaining: 20.2s\n",
      "4:\tlearn: 0.1641536\ttotal: 487ms\tremaining: 19s\n",
      "5:\tlearn: 0.1319646\ttotal: 628ms\tremaining: 20.3s\n",
      "6:\tlearn: 0.1075806\ttotal: 700ms\tremaining: 19.3s\n",
      "7:\tlearn: 0.0915508\ttotal: 778ms\tremaining: 18.7s\n",
      "8:\tlearn: 0.0783301\ttotal: 829ms\tremaining: 17.6s\n",
      "9:\tlearn: 0.0673570\ttotal: 895ms\tremaining: 17s\n",
      "10:\tlearn: 0.0593309\ttotal: 945ms\tremaining: 16.2s\n",
      "11:\tlearn: 0.0520908\ttotal: 997ms\tremaining: 15.6s\n",
      "12:\tlearn: 0.0475838\ttotal: 1.06s\tremaining: 15.2s\n",
      "13:\tlearn: 0.0431341\ttotal: 1.11s\tremaining: 14.7s\n",
      "14:\tlearn: 0.0394892\ttotal: 1.16s\tremaining: 14.3s\n",
      "15:\tlearn: 0.0366928\ttotal: 1.21s\tremaining: 13.9s\n",
      "16:\tlearn: 0.0345257\ttotal: 1.26s\tremaining: 13.6s\n",
      "17:\tlearn: 0.0325865\ttotal: 1.32s\tremaining: 13.3s\n",
      "18:\tlearn: 0.0307819\ttotal: 1.37s\tremaining: 13.1s\n",
      "19:\tlearn: 0.0293927\ttotal: 1.43s\tremaining: 12.9s\n",
      "20:\tlearn: 0.0280306\ttotal: 1.49s\tremaining: 12.7s\n",
      "21:\tlearn: 0.0266103\ttotal: 1.55s\tremaining: 12.5s\n",
      "22:\tlearn: 0.0253336\ttotal: 1.6s\tremaining: 12.3s\n",
      "23:\tlearn: 0.0243308\ttotal: 1.65s\tremaining: 12.1s\n",
      "24:\tlearn: 0.0230719\ttotal: 1.71s\tremaining: 11.9s\n",
      "25:\tlearn: 0.0221506\ttotal: 1.76s\tremaining: 11.8s\n",
      "26:\tlearn: 0.0212353\ttotal: 1.81s\tremaining: 11.6s\n",
      "27:\tlearn: 0.0205267\ttotal: 1.86s\tremaining: 11.5s\n",
      "28:\tlearn: 0.0196808\ttotal: 1.91s\tremaining: 11.3s\n",
      "29:\tlearn: 0.0191511\ttotal: 1.97s\tremaining: 11.2s\n",
      "30:\tlearn: 0.0186602\ttotal: 2.02s\tremaining: 11s\n",
      "31:\tlearn: 0.0182165\ttotal: 2.06s\tremaining: 10.8s\n",
      "32:\tlearn: 0.0174244\ttotal: 2.12s\tremaining: 10.7s\n",
      "33:\tlearn: 0.0169676\ttotal: 2.18s\tremaining: 10.6s\n",
      "34:\tlearn: 0.0164429\ttotal: 2.23s\tremaining: 10.5s\n",
      "35:\tlearn: 0.0159910\ttotal: 2.29s\tremaining: 10.4s\n",
      "36:\tlearn: 0.0153825\ttotal: 2.35s\tremaining: 10.4s\n",
      "37:\tlearn: 0.0150218\ttotal: 2.42s\tremaining: 10.3s\n",
      "38:\tlearn: 0.0147279\ttotal: 2.47s\tremaining: 10.2s\n",
      "39:\tlearn: 0.0143826\ttotal: 2.53s\tremaining: 10.1s\n",
      "40:\tlearn: 0.0140107\ttotal: 2.6s\tremaining: 10.1s\n",
      "41:\tlearn: 0.0137682\ttotal: 2.65s\tremaining: 9.97s\n",
      "42:\tlearn: 0.0134254\ttotal: 2.7s\tremaining: 9.87s\n",
      "43:\tlearn: 0.0132906\ttotal: 2.75s\tremaining: 9.76s\n",
      "44:\tlearn: 0.0131014\ttotal: 2.81s\tremaining: 9.66s\n",
      "45:\tlearn: 0.0127543\ttotal: 2.86s\tremaining: 9.57s\n",
      "46:\tlearn: 0.0125157\ttotal: 2.91s\tremaining: 9.46s\n",
      "47:\tlearn: 0.0122838\ttotal: 2.95s\tremaining: 9.36s\n",
      "48:\tlearn: 0.0121450\ttotal: 3.01s\tremaining: 9.28s\n",
      "49:\tlearn: 0.0118893\ttotal: 3.06s\tremaining: 9.19s\n",
      "50:\tlearn: 0.0118268\ttotal: 3.11s\tremaining: 9.09s\n",
      "51:\tlearn: 0.0116304\ttotal: 3.16s\tremaining: 8.99s\n",
      "52:\tlearn: 0.0112889\ttotal: 3.22s\tremaining: 8.93s\n",
      "53:\tlearn: 0.0109205\ttotal: 3.27s\tremaining: 8.84s\n",
      "54:\tlearn: 0.0106266\ttotal: 3.32s\tremaining: 8.75s\n",
      "55:\tlearn: 0.0104519\ttotal: 3.37s\tremaining: 8.68s\n",
      "56:\tlearn: 0.0101873\ttotal: 3.44s\tremaining: 8.62s\n",
      "57:\tlearn: 0.0100752\ttotal: 3.49s\tremaining: 8.53s\n",
      "58:\tlearn: 0.0098872\ttotal: 3.54s\tremaining: 8.46s\n",
      "59:\tlearn: 0.0096479\ttotal: 3.6s\tremaining: 8.41s\n",
      "60:\tlearn: 0.0095418\ttotal: 3.66s\tremaining: 8.34s\n",
      "61:\tlearn: 0.0094014\ttotal: 3.72s\tremaining: 8.28s\n",
      "62:\tlearn: 0.0091218\ttotal: 3.77s\tremaining: 8.2s\n",
      "63:\tlearn: 0.0090174\ttotal: 3.84s\tremaining: 8.17s\n",
      "64:\tlearn: 0.0089231\ttotal: 3.92s\tremaining: 8.15s\n",
      "65:\tlearn: 0.0086862\ttotal: 3.99s\tremaining: 8.09s\n",
      "66:\tlearn: 0.0084642\ttotal: 4.05s\tremaining: 8.04s\n",
      "67:\tlearn: 0.0083358\ttotal: 4.12s\tremaining: 8s\n",
      "68:\tlearn: 0.0082076\ttotal: 4.17s\tremaining: 7.92s\n",
      "69:\tlearn: 0.0080468\ttotal: 4.22s\tremaining: 7.84s\n",
      "70:\tlearn: 0.0079314\ttotal: 4.27s\tremaining: 7.76s\n",
      "71:\tlearn: 0.0078642\ttotal: 4.33s\tremaining: 7.71s\n",
      "72:\tlearn: 0.0077752\ttotal: 4.38s\tremaining: 7.63s\n",
      "73:\tlearn: 0.0076008\ttotal: 4.44s\tremaining: 7.56s\n",
      "74:\tlearn: 0.0075239\ttotal: 4.5s\tremaining: 7.5s\n",
      "75:\tlearn: 0.0073979\ttotal: 4.55s\tremaining: 7.43s\n",
      "76:\tlearn: 0.0073398\ttotal: 4.6s\tremaining: 7.35s\n",
      "77:\tlearn: 0.0071883\ttotal: 4.66s\tremaining: 7.29s\n",
      "78:\tlearn: 0.0070183\ttotal: 4.71s\tremaining: 7.22s\n",
      "79:\tlearn: 0.0068535\ttotal: 4.77s\tremaining: 7.15s\n",
      "80:\tlearn: 0.0067395\ttotal: 4.82s\tremaining: 7.08s\n",
      "81:\tlearn: 0.0066321\ttotal: 4.87s\tremaining: 7s\n",
      "82:\tlearn: 0.0065387\ttotal: 4.92s\tremaining: 6.94s\n",
      "83:\tlearn: 0.0064686\ttotal: 5s\tremaining: 6.91s\n",
      "84:\tlearn: 0.0063252\ttotal: 5.07s\tremaining: 6.86s\n",
      "85:\tlearn: 0.0062612\ttotal: 5.15s\tremaining: 6.82s\n",
      "86:\tlearn: 0.0062229\ttotal: 5.23s\tremaining: 6.79s\n",
      "87:\tlearn: 0.0061002\ttotal: 5.31s\tremaining: 6.75s\n",
      "88:\tlearn: 0.0059652\ttotal: 5.39s\tremaining: 6.72s\n",
      "89:\tlearn: 0.0059173\ttotal: 5.48s\tremaining: 6.69s\n",
      "90:\tlearn: 0.0058220\ttotal: 5.57s\tremaining: 6.67s\n",
      "91:\tlearn: 0.0057180\ttotal: 5.66s\tremaining: 6.64s\n",
      "92:\tlearn: 0.0056909\ttotal: 5.74s\tremaining: 6.61s\n",
      "93:\tlearn: 0.0056081\ttotal: 5.83s\tremaining: 6.58s\n",
      "94:\tlearn: 0.0055605\ttotal: 5.93s\tremaining: 6.56s\n",
      "95:\tlearn: 0.0055035\ttotal: 6.01s\tremaining: 6.51s\n",
      "96:\tlearn: 0.0054112\ttotal: 6.09s\tremaining: 6.47s\n",
      "97:\tlearn: 0.0053760\ttotal: 6.17s\tremaining: 6.42s\n",
      "98:\tlearn: 0.0053129\ttotal: 6.26s\tremaining: 6.38s\n",
      "99:\tlearn: 0.0052035\ttotal: 6.31s\tremaining: 6.31s\n",
      "100:\tlearn: 0.0050993\ttotal: 6.36s\tremaining: 6.24s\n",
      "101:\tlearn: 0.0050636\ttotal: 6.43s\tremaining: 6.18s\n",
      "102:\tlearn: 0.0050062\ttotal: 6.5s\tremaining: 6.12s\n",
      "103:\tlearn: 0.0049103\ttotal: 6.57s\tremaining: 6.06s\n",
      "104:\tlearn: 0.0048205\ttotal: 6.64s\tremaining: 6.01s\n",
      "105:\tlearn: 0.0047935\ttotal: 6.71s\tremaining: 5.95s\n",
      "106:\tlearn: 0.0047128\ttotal: 6.8s\tremaining: 5.91s\n",
      "107:\tlearn: 0.0046522\ttotal: 6.92s\tremaining: 5.89s\n",
      "108:\tlearn: 0.0046435\ttotal: 7.03s\tremaining: 5.87s\n",
      "109:\tlearn: 0.0046013\ttotal: 7.11s\tremaining: 5.82s\n",
      "110:\tlearn: 0.0045314\ttotal: 7.17s\tremaining: 5.75s\n",
      "111:\tlearn: 0.0044675\ttotal: 7.22s\tremaining: 5.67s\n",
      "112:\tlearn: 0.0044397\ttotal: 7.32s\tremaining: 5.64s\n",
      "113:\tlearn: 0.0044003\ttotal: 7.39s\tremaining: 5.58s\n",
      "114:\tlearn: 0.0043820\ttotal: 7.46s\tremaining: 5.51s\n",
      "115:\tlearn: 0.0043307\ttotal: 7.51s\tremaining: 5.44s\n",
      "116:\tlearn: 0.0042905\ttotal: 7.57s\tremaining: 5.37s\n",
      "117:\tlearn: 0.0042766\ttotal: 7.62s\tremaining: 5.29s\n",
      "118:\tlearn: 0.0042676\ttotal: 7.67s\tremaining: 5.22s\n",
      "119:\tlearn: 0.0042006\ttotal: 7.74s\tremaining: 5.16s\n",
      "120:\tlearn: 0.0041245\ttotal: 7.83s\tremaining: 5.12s\n",
      "121:\tlearn: 0.0041208\ttotal: 7.92s\tremaining: 5.06s\n",
      "122:\tlearn: 0.0041168\ttotal: 8s\tremaining: 5.01s\n",
      "123:\tlearn: 0.0040735\ttotal: 8.07s\tremaining: 4.95s\n",
      "124:\tlearn: 0.0040659\ttotal: 8.15s\tremaining: 4.89s\n",
      "125:\tlearn: 0.0039813\ttotal: 8.22s\tremaining: 4.83s\n",
      "126:\tlearn: 0.0039119\ttotal: 8.3s\tremaining: 4.77s\n",
      "127:\tlearn: 0.0038357\ttotal: 8.45s\tremaining: 4.75s\n",
      "128:\tlearn: 0.0037950\ttotal: 8.55s\tremaining: 4.71s\n",
      "129:\tlearn: 0.0037663\ttotal: 8.63s\tremaining: 4.65s\n",
      "130:\tlearn: 0.0037138\ttotal: 8.7s\tremaining: 4.58s\n",
      "131:\tlearn: 0.0036825\ttotal: 8.76s\tremaining: 4.51s\n",
      "132:\tlearn: 0.0036282\ttotal: 8.81s\tremaining: 4.44s\n",
      "133:\tlearn: 0.0035895\ttotal: 8.88s\tremaining: 4.37s\n",
      "134:\tlearn: 0.0035413\ttotal: 8.94s\tremaining: 4.3s\n",
      "135:\tlearn: 0.0035175\ttotal: 9.02s\tremaining: 4.25s\n",
      "136:\tlearn: 0.0034735\ttotal: 9.11s\tremaining: 4.19s\n",
      "137:\tlearn: 0.0034431\ttotal: 9.18s\tremaining: 4.13s\n",
      "138:\tlearn: 0.0034216\ttotal: 9.29s\tremaining: 4.08s\n",
      "139:\tlearn: 0.0033974\ttotal: 9.37s\tremaining: 4.02s\n",
      "140:\tlearn: 0.0033483\ttotal: 9.46s\tremaining: 3.96s\n",
      "141:\tlearn: 0.0033181\ttotal: 9.53s\tremaining: 3.89s\n",
      "142:\tlearn: 0.0033141\ttotal: 9.61s\tremaining: 3.83s\n",
      "143:\tlearn: 0.0032887\ttotal: 9.67s\tremaining: 3.76s\n",
      "144:\tlearn: 0.0032563\ttotal: 9.72s\tremaining: 3.69s\n",
      "145:\tlearn: 0.0032184\ttotal: 9.78s\tremaining: 3.62s\n",
      "146:\tlearn: 0.0031847\ttotal: 9.83s\tremaining: 3.54s\n",
      "147:\tlearn: 0.0031505\ttotal: 9.88s\tremaining: 3.47s\n",
      "148:\tlearn: 0.0031215\ttotal: 9.93s\tremaining: 3.4s\n",
      "149:\tlearn: 0.0031196\ttotal: 10s\tremaining: 3.33s\n",
      "150:\tlearn: 0.0030821\ttotal: 10.1s\tremaining: 3.27s\n",
      "151:\tlearn: 0.0030717\ttotal: 10.1s\tremaining: 3.2s\n",
      "152:\tlearn: 0.0030340\ttotal: 10.2s\tremaining: 3.13s\n",
      "153:\tlearn: 0.0030113\ttotal: 10.3s\tremaining: 3.07s\n",
      "154:\tlearn: 0.0029932\ttotal: 10.3s\tremaining: 3s\n",
      "155:\tlearn: 0.0029763\ttotal: 10.4s\tremaining: 2.93s\n",
      "156:\tlearn: 0.0029438\ttotal: 10.5s\tremaining: 2.87s\n",
      "157:\tlearn: 0.0029366\ttotal: 10.5s\tremaining: 2.8s\n",
      "158:\tlearn: 0.0029008\ttotal: 10.6s\tremaining: 2.73s\n",
      "159:\tlearn: 0.0028635\ttotal: 10.6s\tremaining: 2.66s\n"
     ]
    },
    {
     "name": "stdout",
     "output_type": "stream",
     "text": [
      "160:\tlearn: 0.0028377\ttotal: 10.7s\tremaining: 2.59s\n",
      "161:\tlearn: 0.0027779\ttotal: 10.8s\tremaining: 2.52s\n",
      "162:\tlearn: 0.0027569\ttotal: 10.8s\tremaining: 2.45s\n",
      "163:\tlearn: 0.0027535\ttotal: 10.9s\tremaining: 2.38s\n",
      "164:\tlearn: 0.0027509\ttotal: 10.9s\tremaining: 2.31s\n",
      "165:\tlearn: 0.0027292\ttotal: 11s\tremaining: 2.24s\n",
      "166:\tlearn: 0.0026999\ttotal: 11s\tremaining: 2.17s\n",
      "167:\tlearn: 0.0026974\ttotal: 11.1s\tremaining: 2.1s\n",
      "168:\tlearn: 0.0026704\ttotal: 11.1s\tremaining: 2.04s\n",
      "169:\tlearn: 0.0026349\ttotal: 11.1s\tremaining: 1.97s\n",
      "170:\tlearn: 0.0025941\ttotal: 11.2s\tremaining: 1.9s\n",
      "171:\tlearn: 0.0025563\ttotal: 11.3s\tremaining: 1.83s\n",
      "172:\tlearn: 0.0025064\ttotal: 11.3s\tremaining: 1.77s\n",
      "173:\tlearn: 0.0024748\ttotal: 11.4s\tremaining: 1.7s\n",
      "174:\tlearn: 0.0024579\ttotal: 11.5s\tremaining: 1.64s\n",
      "175:\tlearn: 0.0024351\ttotal: 11.6s\tremaining: 1.57s\n",
      "176:\tlearn: 0.0024170\ttotal: 11.6s\tremaining: 1.51s\n",
      "177:\tlearn: 0.0024155\ttotal: 11.7s\tremaining: 1.44s\n",
      "178:\tlearn: 0.0023876\ttotal: 11.7s\tremaining: 1.38s\n",
      "179:\tlearn: 0.0023862\ttotal: 11.8s\tremaining: 1.31s\n",
      "180:\tlearn: 0.0023630\ttotal: 11.8s\tremaining: 1.24s\n",
      "181:\tlearn: 0.0023308\ttotal: 11.9s\tremaining: 1.18s\n",
      "182:\tlearn: 0.0023249\ttotal: 11.9s\tremaining: 1.11s\n",
      "183:\tlearn: 0.0023237\ttotal: 12s\tremaining: 1.04s\n",
      "184:\tlearn: 0.0023028\ttotal: 12s\tremaining: 975ms\n",
      "185:\tlearn: 0.0023017\ttotal: 12s\tremaining: 907ms\n",
      "186:\tlearn: 0.0023003\ttotal: 12.1s\tremaining: 841ms\n",
      "187:\tlearn: 0.0022775\ttotal: 12.1s\tremaining: 775ms\n",
      "188:\tlearn: 0.0022714\ttotal: 12.2s\tremaining: 710ms\n",
      "189:\tlearn: 0.0022426\ttotal: 12.2s\tremaining: 645ms\n",
      "190:\tlearn: 0.0022250\ttotal: 12.3s\tremaining: 580ms\n",
      "191:\tlearn: 0.0022239\ttotal: 12.4s\tremaining: 515ms\n",
      "192:\tlearn: 0.0022051\ttotal: 12.4s\tremaining: 451ms\n",
      "193:\tlearn: 0.0021939\ttotal: 12.5s\tremaining: 386ms\n",
      "194:\tlearn: 0.0021840\ttotal: 12.5s\tremaining: 321ms\n",
      "195:\tlearn: 0.0021667\ttotal: 12.6s\tremaining: 257ms\n",
      "196:\tlearn: 0.0021525\ttotal: 12.6s\tremaining: 192ms\n",
      "197:\tlearn: 0.0021187\ttotal: 12.7s\tremaining: 128ms\n",
      "198:\tlearn: 0.0021157\ttotal: 12.7s\tremaining: 64ms\n",
      "199:\tlearn: 0.0020998\ttotal: 12.8s\tremaining: 0us\n",
      "Training ended with a training score of  0.9933278859684961\n",
      "Best params:\n",
      "{'random_seed': 42, 'loss_function': 'Logloss', 'iterations': 200, 'depth': 9}\n"
     ]
    },
    {
     "data": {
      "text/plain": [
       "0.984928455284553"
      ]
     },
     "execution_count": 34,
     "metadata": {},
     "output_type": "execute_result"
    }
   ],
   "source": [
    "param_dist = {\n",
    "    'iterations': [200],\n",
    "    'loss_function' : ['Logloss', 'CrossEntropy', 'Tweedie'],\n",
    "    'depth': [3, 6, 9, 12,],\n",
    "    \"random_seed\": [42]\n",
    "}\n",
    "\n",
    "CatBoostTrainer = ModelTrainer(CatBoostClassifier(),\n",
    "                               data,\n",
    "                               param_dist)\n",
    "CatBoostTrainer.autofit()\n",
    "CatBoostTrainer.test()"
   ]
  },
  {
   "cell_type": "code",
   "execution_count": 35,
   "metadata": {},
   "outputs": [
    {
     "data": {
      "image/png": "[encoded data removed]",
      "text/plain": [
       "<Figure size 432x288 with 1 Axes>"
      ]
     },
     "metadata": {
      "needs_background": "light"
     },
     "output_type": "display_data"
    }
   ],
   "source": [
    "CatBoostTrainer.plot_roc()"
   ]
  },
  {
   "cell_type": "markdown",
   "metadata": {},
   "source": [
    "### LightGBM"
   ]
  },
  {
   "cell_type": "code",
   "execution_count": 36,
   "metadata": {},
   "outputs": [
    {
     "name": "stdout",
     "output_type": "stream",
     "text": [
      "Training ended with a training score of  0.9931372281991921\n",
      "Best params:\n",
      "{'random_state': 0, 'objective': 'binary', 'num_leaves': 31, 'n_estimators': 100, 'min_child_samples': 20, 'max_depth': 16, 'learning_rate': 0.05, 'boosting_type': 'gbdt'}\n"
     ]
    },
    {
     "data": {
      "text/plain": [
       "0.9767268292682927"
      ]
     },
     "execution_count": 36,
     "metadata": {},
     "output_type": "execute_result"
    }
   ],
   "source": [
    "param_dist = {\n",
    "    'boosting_type' : ['gbdt'],\n",
    "    'num_leaves': [31, 21, 26, 16],\n",
    "    'learning_rate': [0.1, 0.05, 0.03],\n",
    "    'max_depth': [8, 16, 32],\n",
    "    'n_estimators': [50, 100, 200],\n",
    "    'min_child_samples': [3, 10, 20],\n",
    "    \"objective\": ['binary'],\n",
    "    \"random_state\": [0]\n",
    "}\n",
    "\n",
    "LGBMTrainer = ModelTrainer(LGBMClassifier(),\n",
    "                               data,\n",
    "                               param_dist)\n",
    "LGBMTrainer.autofit()\n",
    "LGBMTrainer.test()"
   ]
  },
  {
   "cell_type": "code",
   "execution_count": 37,
   "metadata": {},
   "outputs": [
    {
     "data": {
      "image/png": "[encoded data removed]",
      "text/plain": [
       "<Figure size 432x288 with 1 Axes>"
      ]
     },
     "metadata": {
      "needs_background": "light"
     },
     "output_type": "display_data"
    }
   ],
   "source": [
    "LGBMTrainer.plot_roc()"
   ]
  },
  {
   "cell_type": "markdown",
   "metadata": {},
   "source": [
    "### Voting classifier"
   ]
  },
  {
   "cell_type": "code",
   "execution_count": 38,
   "metadata": {},
   "outputs": [],
   "source": [
    "estimators = [\n",
    "    ('RandomForest', RandomForestTrainer.trained_model),\n",
    "    ('ExtraTrees', ExtraTreesTrainer.trained_model),\n",
    "    ('GradientBoosting', GradientBoostingTrainer.trained_model),\n",
    "    ('XGB', XGBTrainer.trained_model),\n",
    "    ('CatBoosting', CatBoostTrainer.trained_model),\n",
    "]"
   ]
  },
  {
   "cell_type": "code",
   "execution_count": 39,
   "metadata": {},
   "outputs": [
    {
     "name": "stdout",
     "output_type": "stream",
     "text": [
      "[11:45:24] WARNING: C:/Users/Administrator/workspace/xgboost-win64_release_1.3.0/src/learner.cc:1061: Starting in XGBoost 1.3.0, the default evaluation metric used with the objective 'binary:logistic' was changed from 'error' to 'logloss'. Explicitly set eval_metric if you'd like to restore the old behavior.\n",
      "Learning rate set to 0.091465\n",
      "0:\tlearn: 0.5074295\ttotal: 58.7ms\tremaining: 11.7s\n",
      "1:\tlearn: 0.3630069\ttotal: 108ms\tremaining: 10.7s\n",
      "2:\tlearn: 0.2687289\ttotal: 157ms\tremaining: 10.3s\n",
      "3:\tlearn: 0.2086471\ttotal: 208ms\tremaining: 10.2s\n",
      "4:\tlearn: 0.1641536\ttotal: 264ms\tremaining: 10.3s\n",
      "5:\tlearn: 0.1319646\ttotal: 313ms\tremaining: 10.1s\n",
      "6:\tlearn: 0.1075806\ttotal: 367ms\tremaining: 10.1s\n",
      "7:\tlearn: 0.0915508\ttotal: 423ms\tremaining: 10.1s\n",
      "8:\tlearn: 0.0783301\ttotal: 510ms\tremaining: 10.8s\n",
      "9:\tlearn: 0.0673570\ttotal: 592ms\tremaining: 11.3s\n",
      "10:\tlearn: 0.0593309\ttotal: 668ms\tremaining: 11.5s\n",
      "11:\tlearn: 0.0520908\ttotal: 740ms\tremaining: 11.6s\n",
      "12:\tlearn: 0.0475838\ttotal: 892ms\tremaining: 12.8s\n",
      "13:\tlearn: 0.0431341\ttotal: 990ms\tremaining: 13.2s\n",
      "14:\tlearn: 0.0394892\ttotal: 1.05s\tremaining: 13s\n",
      "15:\tlearn: 0.0366928\ttotal: 1.18s\tremaining: 13.5s\n",
      "16:\tlearn: 0.0345257\ttotal: 1.25s\tremaining: 13.4s\n",
      "17:\tlearn: 0.0325865\ttotal: 1.29s\tremaining: 13.1s\n",
      "18:\tlearn: 0.0307819\ttotal: 1.35s\tremaining: 12.9s\n",
      "19:\tlearn: 0.0293927\ttotal: 1.4s\tremaining: 12.6s\n",
      "20:\tlearn: 0.0280306\ttotal: 1.47s\tremaining: 12.5s\n",
      "21:\tlearn: 0.0266103\ttotal: 1.54s\tremaining: 12.5s\n",
      "22:\tlearn: 0.0253336\ttotal: 1.6s\tremaining: 12.4s\n",
      "23:\tlearn: 0.0243308\ttotal: 1.67s\tremaining: 12.3s\n",
      "24:\tlearn: 0.0230719\ttotal: 1.75s\tremaining: 12.3s\n",
      "25:\tlearn: 0.0221506\ttotal: 1.85s\tremaining: 12.4s\n",
      "26:\tlearn: 0.0212353\ttotal: 1.95s\tremaining: 12.5s\n",
      "27:\tlearn: 0.0205267\ttotal: 2.03s\tremaining: 12.5s\n",
      "28:\tlearn: 0.0196808\ttotal: 2.09s\tremaining: 12.3s\n",
      "29:\tlearn: 0.0191511\ttotal: 2.14s\tremaining: 12.1s\n",
      "30:\tlearn: 0.0186602\ttotal: 2.19s\tremaining: 12s\n",
      "31:\tlearn: 0.0182165\ttotal: 2.29s\tremaining: 12s\n",
      "32:\tlearn: 0.0174244\ttotal: 2.4s\tremaining: 12.1s\n",
      "33:\tlearn: 0.0169676\ttotal: 2.46s\tremaining: 12s\n",
      "34:\tlearn: 0.0164429\ttotal: 2.55s\tremaining: 12s\n",
      "35:\tlearn: 0.0159910\ttotal: 2.64s\tremaining: 12s\n",
      "36:\tlearn: 0.0153825\ttotal: 2.7s\tremaining: 11.9s\n",
      "37:\tlearn: 0.0150218\ttotal: 2.76s\tremaining: 11.8s\n",
      "38:\tlearn: 0.0147279\ttotal: 2.82s\tremaining: 11.6s\n",
      "39:\tlearn: 0.0143826\ttotal: 2.88s\tremaining: 11.5s\n",
      "40:\tlearn: 0.0140107\ttotal: 2.96s\tremaining: 11.5s\n",
      "41:\tlearn: 0.0137682\ttotal: 3.02s\tremaining: 11.4s\n",
      "42:\tlearn: 0.0134254\ttotal: 3.07s\tremaining: 11.2s\n",
      "43:\tlearn: 0.0132906\ttotal: 3.12s\tremaining: 11s\n",
      "44:\tlearn: 0.0131014\ttotal: 3.17s\tremaining: 10.9s\n",
      "45:\tlearn: 0.0127543\ttotal: 3.25s\tremaining: 10.9s\n",
      "46:\tlearn: 0.0125157\ttotal: 3.31s\tremaining: 10.8s\n",
      "47:\tlearn: 0.0122838\ttotal: 3.36s\tremaining: 10.6s\n",
      "48:\tlearn: 0.0121450\ttotal: 3.41s\tremaining: 10.5s\n",
      "49:\tlearn: 0.0118893\ttotal: 3.47s\tremaining: 10.4s\n",
      "50:\tlearn: 0.0118268\ttotal: 3.53s\tremaining: 10.3s\n",
      "51:\tlearn: 0.0116304\ttotal: 3.59s\tremaining: 10.2s\n",
      "52:\tlearn: 0.0112889\ttotal: 3.66s\tremaining: 10.2s\n",
      "53:\tlearn: 0.0109205\ttotal: 3.74s\tremaining: 10.1s\n",
      "54:\tlearn: 0.0106266\ttotal: 3.79s\tremaining: 9.99s\n",
      "55:\tlearn: 0.0104519\ttotal: 3.84s\tremaining: 9.87s\n",
      "56:\tlearn: 0.0101873\ttotal: 3.9s\tremaining: 9.79s\n",
      "57:\tlearn: 0.0100752\ttotal: 3.96s\tremaining: 9.69s\n",
      "58:\tlearn: 0.0098872\ttotal: 4.01s\tremaining: 9.58s\n",
      "59:\tlearn: 0.0096479\ttotal: 4.06s\tremaining: 9.48s\n",
      "60:\tlearn: 0.0095418\ttotal: 4.13s\tremaining: 9.42s\n",
      "61:\tlearn: 0.0094014\ttotal: 4.21s\tremaining: 9.36s\n",
      "62:\tlearn: 0.0091218\ttotal: 4.27s\tremaining: 9.29s\n",
      "63:\tlearn: 0.0090174\ttotal: 4.33s\tremaining: 9.21s\n",
      "64:\tlearn: 0.0089231\ttotal: 4.39s\tremaining: 9.13s\n",
      "65:\tlearn: 0.0086862\ttotal: 4.45s\tremaining: 9.04s\n",
      "66:\tlearn: 0.0084642\ttotal: 4.5s\tremaining: 8.94s\n",
      "67:\tlearn: 0.0083358\ttotal: 4.56s\tremaining: 8.85s\n",
      "68:\tlearn: 0.0082076\ttotal: 4.62s\tremaining: 8.77s\n",
      "69:\tlearn: 0.0080468\ttotal: 4.67s\tremaining: 8.67s\n",
      "70:\tlearn: 0.0079314\ttotal: 4.73s\tremaining: 8.6s\n",
      "71:\tlearn: 0.0078642\ttotal: 4.8s\tremaining: 8.54s\n",
      "72:\tlearn: 0.0077752\ttotal: 4.85s\tremaining: 8.45s\n",
      "73:\tlearn: 0.0076008\ttotal: 4.9s\tremaining: 8.35s\n",
      "74:\tlearn: 0.0075239\ttotal: 4.96s\tremaining: 8.27s\n",
      "75:\tlearn: 0.0073979\ttotal: 5.01s\tremaining: 8.18s\n",
      "76:\tlearn: 0.0073398\ttotal: 5.06s\tremaining: 8.09s\n",
      "77:\tlearn: 0.0071883\ttotal: 5.11s\tremaining: 8s\n",
      "78:\tlearn: 0.0070183\ttotal: 5.16s\tremaining: 7.91s\n",
      "79:\tlearn: 0.0068535\ttotal: 5.22s\tremaining: 7.82s\n",
      "80:\tlearn: 0.0067395\ttotal: 5.26s\tremaining: 7.74s\n",
      "81:\tlearn: 0.0066321\ttotal: 5.32s\tremaining: 7.65s\n",
      "82:\tlearn: 0.0065387\ttotal: 5.38s\tremaining: 7.58s\n",
      "83:\tlearn: 0.0064686\ttotal: 5.46s\tremaining: 7.54s\n",
      "84:\tlearn: 0.0063252\ttotal: 5.53s\tremaining: 7.48s\n",
      "85:\tlearn: 0.0062612\ttotal: 5.59s\tremaining: 7.41s\n",
      "86:\tlearn: 0.0062229\ttotal: 5.66s\tremaining: 7.35s\n",
      "87:\tlearn: 0.0061002\ttotal: 5.73s\tremaining: 7.29s\n",
      "88:\tlearn: 0.0059652\ttotal: 5.78s\tremaining: 7.21s\n",
      "89:\tlearn: 0.0059173\ttotal: 5.85s\tremaining: 7.15s\n",
      "90:\tlearn: 0.0058220\ttotal: 5.9s\tremaining: 7.07s\n",
      "91:\tlearn: 0.0057180\ttotal: 5.95s\tremaining: 6.98s\n",
      "92:\tlearn: 0.0056909\ttotal: 6s\tremaining: 6.9s\n",
      "93:\tlearn: 0.0056081\ttotal: 6.05s\tremaining: 6.82s\n",
      "94:\tlearn: 0.0055605\ttotal: 6.1s\tremaining: 6.74s\n",
      "95:\tlearn: 0.0055035\ttotal: 6.15s\tremaining: 6.66s\n",
      "96:\tlearn: 0.0054112\ttotal: 6.2s\tremaining: 6.58s\n",
      "97:\tlearn: 0.0053760\ttotal: 6.26s\tremaining: 6.51s\n",
      "98:\tlearn: 0.0053129\ttotal: 6.31s\tremaining: 6.44s\n",
      "99:\tlearn: 0.0052035\ttotal: 6.36s\tremaining: 6.36s\n",
      "100:\tlearn: 0.0050993\ttotal: 6.42s\tremaining: 6.3s\n",
      "101:\tlearn: 0.0050636\ttotal: 6.48s\tremaining: 6.23s\n",
      "102:\tlearn: 0.0050062\ttotal: 6.54s\tremaining: 6.16s\n",
      "103:\tlearn: 0.0049103\ttotal: 6.59s\tremaining: 6.08s\n",
      "104:\tlearn: 0.0048205\ttotal: 6.65s\tremaining: 6.02s\n",
      "105:\tlearn: 0.0047935\ttotal: 6.71s\tremaining: 5.95s\n",
      "106:\tlearn: 0.0047128\ttotal: 6.76s\tremaining: 5.88s\n",
      "107:\tlearn: 0.0046522\ttotal: 6.82s\tremaining: 5.8s\n",
      "108:\tlearn: 0.0046435\ttotal: 6.87s\tremaining: 5.74s\n",
      "109:\tlearn: 0.0046013\ttotal: 6.93s\tremaining: 5.67s\n",
      "110:\tlearn: 0.0045314\ttotal: 6.98s\tremaining: 5.6s\n",
      "111:\tlearn: 0.0044675\ttotal: 7.05s\tremaining: 5.54s\n",
      "112:\tlearn: 0.0044397\ttotal: 7.11s\tremaining: 5.47s\n",
      "113:\tlearn: 0.0044003\ttotal: 7.17s\tremaining: 5.41s\n",
      "114:\tlearn: 0.0043820\ttotal: 7.22s\tremaining: 5.34s\n",
      "115:\tlearn: 0.0043307\ttotal: 7.28s\tremaining: 5.27s\n",
      "116:\tlearn: 0.0042905\ttotal: 7.34s\tremaining: 5.21s\n",
      "117:\tlearn: 0.0042766\ttotal: 7.41s\tremaining: 5.14s\n",
      "118:\tlearn: 0.0042676\ttotal: 7.46s\tremaining: 5.08s\n",
      "119:\tlearn: 0.0042006\ttotal: 7.51s\tremaining: 5s\n",
      "120:\tlearn: 0.0041245\ttotal: 7.56s\tremaining: 4.94s\n",
      "121:\tlearn: 0.0041208\ttotal: 7.62s\tremaining: 4.87s\n",
      "122:\tlearn: 0.0041168\ttotal: 7.67s\tremaining: 4.8s\n",
      "123:\tlearn: 0.0040735\ttotal: 7.72s\tremaining: 4.73s\n",
      "124:\tlearn: 0.0040659\ttotal: 7.77s\tremaining: 4.66s\n",
      "125:\tlearn: 0.0039813\ttotal: 7.82s\tremaining: 4.59s\n",
      "126:\tlearn: 0.0039119\ttotal: 7.87s\tremaining: 4.52s\n",
      "127:\tlearn: 0.0038357\ttotal: 7.92s\tremaining: 4.46s\n",
      "128:\tlearn: 0.0037950\ttotal: 7.97s\tremaining: 4.39s\n",
      "129:\tlearn: 0.0037663\ttotal: 8.05s\tremaining: 4.33s\n",
      "130:\tlearn: 0.0037138\ttotal: 8.1s\tremaining: 4.27s\n",
      "131:\tlearn: 0.0036825\ttotal: 8.15s\tremaining: 4.2s\n",
      "132:\tlearn: 0.0036282\ttotal: 8.2s\tremaining: 4.13s\n",
      "133:\tlearn: 0.0035895\ttotal: 8.25s\tremaining: 4.06s\n",
      "134:\tlearn: 0.0035413\ttotal: 8.31s\tremaining: 4s\n",
      "135:\tlearn: 0.0035175\ttotal: 8.36s\tremaining: 3.94s\n",
      "136:\tlearn: 0.0034735\ttotal: 8.41s\tremaining: 3.87s\n",
      "137:\tlearn: 0.0034431\ttotal: 8.48s\tremaining: 3.81s\n",
      "138:\tlearn: 0.0034216\ttotal: 8.53s\tremaining: 3.74s\n",
      "139:\tlearn: 0.0033974\ttotal: 8.58s\tremaining: 3.68s\n",
      "140:\tlearn: 0.0033483\ttotal: 8.65s\tremaining: 3.62s\n",
      "141:\tlearn: 0.0033181\ttotal: 8.72s\tremaining: 3.56s\n",
      "142:\tlearn: 0.0033141\ttotal: 8.77s\tremaining: 3.5s\n",
      "143:\tlearn: 0.0032887\ttotal: 8.82s\tremaining: 3.43s\n",
      "144:\tlearn: 0.0032563\ttotal: 8.89s\tremaining: 3.37s\n",
      "145:\tlearn: 0.0032184\ttotal: 8.94s\tremaining: 3.31s\n",
      "146:\tlearn: 0.0031847\ttotal: 8.99s\tremaining: 3.24s\n",
      "147:\tlearn: 0.0031505\ttotal: 9.04s\tremaining: 3.18s\n",
      "148:\tlearn: 0.0031215\ttotal: 9.09s\tremaining: 3.11s\n",
      "149:\tlearn: 0.0031196\ttotal: 9.15s\tremaining: 3.05s\n",
      "150:\tlearn: 0.0030821\ttotal: 9.2s\tremaining: 2.98s\n",
      "151:\tlearn: 0.0030717\ttotal: 9.24s\tremaining: 2.92s\n",
      "152:\tlearn: 0.0030340\ttotal: 9.3s\tremaining: 2.86s\n",
      "153:\tlearn: 0.0030113\ttotal: 9.36s\tremaining: 2.79s\n",
      "154:\tlearn: 0.0029932\ttotal: 9.41s\tremaining: 2.73s\n",
      "155:\tlearn: 0.0029763\ttotal: 9.46s\tremaining: 2.67s\n"
     ]
    },
    {
     "name": "stdout",
     "output_type": "stream",
     "text": [
      "156:\tlearn: 0.0029438\ttotal: 9.52s\tremaining: 2.61s\n",
      "157:\tlearn: 0.0029366\ttotal: 9.57s\tremaining: 2.54s\n",
      "158:\tlearn: 0.0029008\ttotal: 9.62s\tremaining: 2.48s\n",
      "159:\tlearn: 0.0028635\ttotal: 9.67s\tremaining: 2.42s\n",
      "160:\tlearn: 0.0028377\ttotal: 9.73s\tremaining: 2.36s\n",
      "161:\tlearn: 0.0027779\ttotal: 9.78s\tremaining: 2.29s\n",
      "162:\tlearn: 0.0027569\ttotal: 9.83s\tremaining: 2.23s\n",
      "163:\tlearn: 0.0027535\ttotal: 9.87s\tremaining: 2.17s\n",
      "164:\tlearn: 0.0027509\ttotal: 9.93s\tremaining: 2.11s\n",
      "165:\tlearn: 0.0027292\ttotal: 9.99s\tremaining: 2.04s\n",
      "166:\tlearn: 0.0026999\ttotal: 10s\tremaining: 1.98s\n",
      "167:\tlearn: 0.0026974\ttotal: 10.1s\tremaining: 1.92s\n",
      "168:\tlearn: 0.0026704\ttotal: 10.2s\tremaining: 1.86s\n",
      "169:\tlearn: 0.0026349\ttotal: 10.2s\tremaining: 1.8s\n",
      "170:\tlearn: 0.0025941\ttotal: 10.3s\tremaining: 1.74s\n",
      "171:\tlearn: 0.0025563\ttotal: 10.3s\tremaining: 1.68s\n",
      "172:\tlearn: 0.0025064\ttotal: 10.4s\tremaining: 1.62s\n",
      "173:\tlearn: 0.0024748\ttotal: 10.4s\tremaining: 1.56s\n",
      "174:\tlearn: 0.0024579\ttotal: 10.5s\tremaining: 1.5s\n",
      "175:\tlearn: 0.0024351\ttotal: 10.5s\tremaining: 1.44s\n",
      "176:\tlearn: 0.0024170\ttotal: 10.6s\tremaining: 1.38s\n",
      "177:\tlearn: 0.0024155\ttotal: 10.7s\tremaining: 1.32s\n",
      "178:\tlearn: 0.0023876\ttotal: 10.7s\tremaining: 1.25s\n",
      "179:\tlearn: 0.0023862\ttotal: 10.8s\tremaining: 1.19s\n",
      "180:\tlearn: 0.0023630\ttotal: 10.8s\tremaining: 1.13s\n",
      "181:\tlearn: 0.0023308\ttotal: 10.9s\tremaining: 1.07s\n",
      "182:\tlearn: 0.0023249\ttotal: 10.9s\tremaining: 1.01s\n",
      "183:\tlearn: 0.0023237\ttotal: 10.9s\tremaining: 951ms\n",
      "184:\tlearn: 0.0023028\ttotal: 11s\tremaining: 891ms\n",
      "185:\tlearn: 0.0023017\ttotal: 11s\tremaining: 829ms\n",
      "186:\tlearn: 0.0023003\ttotal: 11.1s\tremaining: 769ms\n",
      "187:\tlearn: 0.0022775\ttotal: 11.1s\tremaining: 710ms\n",
      "188:\tlearn: 0.0022714\ttotal: 11.2s\tremaining: 650ms\n",
      "189:\tlearn: 0.0022426\ttotal: 11.2s\tremaining: 590ms\n",
      "190:\tlearn: 0.0022250\ttotal: 11.3s\tremaining: 531ms\n",
      "191:\tlearn: 0.0022239\ttotal: 11.3s\tremaining: 472ms\n",
      "192:\tlearn: 0.0022051\ttotal: 11.4s\tremaining: 413ms\n",
      "193:\tlearn: 0.0021939\ttotal: 11.4s\tremaining: 354ms\n",
      "194:\tlearn: 0.0021840\ttotal: 11.5s\tremaining: 295ms\n",
      "195:\tlearn: 0.0021667\ttotal: 11.6s\tremaining: 236ms\n",
      "196:\tlearn: 0.0021525\ttotal: 11.6s\tremaining: 177ms\n",
      "197:\tlearn: 0.0021187\ttotal: 11.7s\tremaining: 118ms\n",
      "198:\tlearn: 0.0021157\ttotal: 11.8s\tremaining: 59.1ms\n",
      "199:\tlearn: 0.0020998\ttotal: 11.8s\tremaining: 0us\n",
      "Training ended with a training score of  0.99294638885106\n",
      "Best params:\n",
      "{'voting': 'soft'}\n"
     ]
    },
    {
     "data": {
      "text/plain": [
       "0.9817105691056911"
      ]
     },
     "execution_count": 39,
     "metadata": {},
     "output_type": "execute_result"
    }
   ],
   "source": [
    "param_dist = {\n",
    "    \"voting\" : ['soft']\n",
    "}\n",
    "VotingTrainer = ModelTrainer(VotingClassifier(estimators),\n",
    "                               data,\n",
    "                               param_dist)\n",
    "VotingTrainer.autofit()\n",
    "VotingTrainer.test()"
   ]
  },
  {
   "cell_type": "code",
   "execution_count": 40,
   "metadata": {},
   "outputs": [
    {
     "data": {
      "image/png": "[encoded data removed]",
      "text/plain": [
       "<Figure size 432x288 with 1 Axes>"
      ]
     },
     "metadata": {
      "needs_background": "light"
     },
     "output_type": "display_data"
    }
   ],
   "source": [
    "VotingTrainer.plot_roc()"
   ]
  },
  {
   "cell_type": "markdown",
   "metadata": {},
   "source": [
    "### Stacking Classifier"
   ]
  },
  {
   "cell_type": "code",
   "execution_count": 41,
   "metadata": {},
   "outputs": [],
   "source": [
    "from sklearn.preprocessing import StandardScaler\n",
    "from sklearn.pipeline import make_pipeline\n",
    "\n",
    "estimators = [\n",
    "    ('GradientBoosting', GradientBoostingTrainer.trained_model),\n",
    "    ('ExtraTrees', make_pipeline(StandardScaler(),\n",
    "                                 ExtraTreesTrainer.trained_model)),\n",
    "    ('XGB', make_pipeline(StandardScaler(),\n",
    "                                 XGBTrainer.trained_model)),\n",
    "     ]"
   ]
  },
  {
   "cell_type": "code",
   "execution_count": 42,
   "metadata": {},
   "outputs": [
    {
     "name": "stdout",
     "output_type": "stream",
     "text": [
      "[11:49:26] WARNING: C:/Users/Administrator/workspace/xgboost-win64_release_1.3.0/src/learner.cc:1061: Starting in XGBoost 1.3.0, the default evaluation metric used with the objective 'binary:logistic' was changed from 'error' to 'logloss'. Explicitly set eval_metric if you'd like to restore the old behavior.\n",
      "[11:50:04] WARNING: C:/Users/Administrator/workspace/xgboost-win64_release_1.3.0/src/learner.cc:1061: Starting in XGBoost 1.3.0, the default evaluation metric used with the objective 'binary:logistic' was changed from 'error' to 'logloss'. Explicitly set eval_metric if you'd like to restore the old behavior.\n",
      "[11:50:05] WARNING: C:/Users/Administrator/workspace/xgboost-win64_release_1.3.0/src/learner.cc:1061: Starting in XGBoost 1.3.0, the default evaluation metric used with the objective 'binary:logistic' was changed from 'error' to 'logloss'. Explicitly set eval_metric if you'd like to restore the old behavior.\n",
      "[11:50:07] WARNING: C:/Users/Administrator/workspace/xgboost-win64_release_1.3.0/src/learner.cc:1061: Starting in XGBoost 1.3.0, the default evaluation metric used with the objective 'binary:logistic' was changed from 'error' to 'logloss'. Explicitly set eval_metric if you'd like to restore the old behavior.\n",
      "[11:50:08] WARNING: C:/Users/Administrator/workspace/xgboost-win64_release_1.3.0/src/learner.cc:1061: Starting in XGBoost 1.3.0, the default evaluation metric used with the objective 'binary:logistic' was changed from 'error' to 'logloss'. Explicitly set eval_metric if you'd like to restore the old behavior.\n",
      "[11:50:09] WARNING: C:/Users/Administrator/workspace/xgboost-win64_release_1.3.0/src/learner.cc:1061: Starting in XGBoost 1.3.0, the default evaluation metric used with the objective 'binary:logistic' was changed from 'error' to 'logloss'. Explicitly set eval_metric if you'd like to restore the old behavior.\n",
      "Training ended with a training score of  0.99294638885106\n",
      "Best params:\n",
      "{'final_estimator': LogisticRegression()}\n"
     ]
    },
    {
     "data": {
      "text/plain": [
       "0.9834422764227642"
      ]
     },
     "execution_count": 42,
     "metadata": {},
     "output_type": "execute_result"
    }
   ],
   "source": [
    "param_dist = {\n",
    "    \"final_estimator\" : [LogisticRegression()],\n",
    "}\n",
    "StackingTrainer = ModelTrainer(StackingClassifier(estimators),\n",
    "                               data,\n",
    "                               param_dist)\n",
    "StackingTrainer.autofit()\n",
    "StackingTrainer.test()"
   ]
  },
  {
   "cell_type": "code",
   "execution_count": 43,
   "metadata": {},
   "outputs": [
    {
     "data": {
      "image/png": "[encoded data removed]",
      "text/plain": [
       "<Figure size 432x288 with 1 Axes>"
      ]
     },
     "metadata": {
      "needs_background": "light"
     },
     "output_type": "display_data"
    }
   ],
   "source": [
    "StackingTrainer.plot_roc()"
   ]
  },
  {
   "cell_type": "markdown",
   "metadata": {},
   "source": [
    "<table>\n",
    " <tr><td width=\"80\"><img src=\"img/question.png\" style=\"width:auto;height:auto\"></td><td style=\"text-align:left\">\n",
    "Now create a visualization showing the performance of your supervised models on the test set, together with the unsupervised model. Has the performance improved after making use of the Class data? Which model obtains the best AUC?\n",
    " </td></tr>\n",
    "</table>"
   ]
  },
  {
   "cell_type": "markdown",
   "metadata": {},
   "source": [
    "Almost all of the supervised models (except for ADA Boost, which performed slightly worse) showed an improvement in performance with respect to unsupervised one, achieving in many cases a performance of over 98% (e.g. Extra Trees, Catboost, Voting, Stacking). \n",
    "\n",
    "Overall, while many of the options that were explored had a very high score, the highest score was obteined by the CatBoost model."
   ]
  },
  {
   "cell_type": "code",
   "execution_count": 65,
   "metadata": {},
   "outputs": [
    {
     "data": {
      "image/png": "[encoded data removed]",
      "text/plain": [
       "<Figure size 1080x720 with 1 Axes>"
      ]
     },
     "metadata": {
      "needs_background": "light"
     },
     "output_type": "display_data"
    }
   ],
   "source": [
    "plt.plot(RandomForestTrainer.fpr, RandomForestTrainer.tpr,color=\"limegreen\",\n",
    "         lw=2, label='Random Forest (area = %0.4f)' % RandomForestTrainer.auc)\n",
    "plt.plot(ExtraTreesTrainer.fpr, ExtraTreesTrainer.tpr,color=\"royalblue\",\n",
    "         lw=2, label='Extra Trees (area = %0.4f)' % ExtraTreesTrainer.auc)\n",
    "plt.plot(AdaBoostTrainer.fpr, AdaBoostTrainer.tpr,color=\"deeppink\",\n",
    "         lw=2, label='ADA Boost (area = %0.4f)' % AdaBoostTrainer.auc)\n",
    "plt.plot(GradientBoostingTrainer.fpr, GradientBoostingTrainer.tpr,color=\"red\",\n",
    "         lw=2, label='Gradient Boost (area = %0.4f)' % GradientBoostingTrainer.auc)\n",
    "plt.plot(BaggingTrainer.fpr, BaggingTrainer.tpr,color=\"gold\",\n",
    "         lw=2, label='Bagging (area = %0.4f)' % BaggingTrainer.auc)\n",
    "plt.plot(XGBTrainer.fpr, XGBTrainer.tpr,color=\"darkorchid\",\n",
    "         lw=2, label='XGB (area = %0.4f)' % XGBTrainer.auc)\n",
    "plt.plot(CatBoostTrainer.fpr, CatBoostTrainer.tpr,color=\"deepskyblue\",\n",
    "         lw=2, label='CatBoost (area = %0.4f)' % CatBoostTrainer.auc)\n",
    "plt.plot(LGBMTrainer.fpr, LGBMTrainer.tpr,color=\"lightcoral\",\n",
    "         lw=2, label='LGBM (area = %0.4f)' % LGBMTrainer.auc)\n",
    "plt.plot(VotingTrainer.fpr, VotingTrainer.tpr,color=\"lightgrey\",\n",
    "         lw=2, label='Voting (area = %0.4f)' % VotingTrainer.auc)\n",
    "plt.plot(StackingTrainer.fpr, StackingTrainer.tpr,color=\"turquoise\",\n",
    "         lw=2, label='Stacking (area = %0.4f)' % StackingTrainer.auc)\n",
    "\n",
    "# IsolationForest\n",
    "fpr = []\n",
    "tpr = []\n",
    "roc_auc = []\n",
    "fpr, tpr, _ = roc_curve(y_test, y_pred_score, pos_label=1)\n",
    "roc_auc = auc(fpr, tpr)\n",
    "lw = 2\n",
    "plt.plot(fpr, tpr, color='darkorange',\n",
    "         lw=lw, label='Isolation Forest (area = %0.4f)' % roc_auc)\n",
    "\n",
    "# Format of the graph\n",
    "plt.plot([0, 1], [0, 1], color='navy', lw=lw, linestyle='--')\n",
    "plt.xlim([-0.01, 1.0])\n",
    "plt.ylim([0.0, 1.01])\n",
    "plt.xlabel('False Positive Rate')\n",
    "plt.ylabel('True Positive Rate')\n",
    "plt.title('ROC')\n",
    "plt.legend(loc=\"lower right\")\n",
    "plt.rcParams[\"figure.figsize\"]=10,15\n",
    "\n",
    "# Show plot\n",
    "plt.show()"
   ]
  }
 ],
 "metadata": {
  "anaconda-cloud": {},
  "kernelspec": {
   "display_name": "Python 3",
   "language": "python",
   "name": "python3"
  },
  "language_info": {
   "codemirror_mode": {
    "name": "ipython",
    "version": 3
   },
   "file_extension": ".py",
   "mimetype": "text/x-python",
   "name": "python",
   "nbconvert_exporter": "python",
   "pygments_lexer": "ipython3",
   "version": "3.8.3"
  }
 },
 "nbformat": 4,
 "nbformat_minor": 1
}
